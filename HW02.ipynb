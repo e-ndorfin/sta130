{
 "cells": [
  {
   "cell_type": "markdown",
   "id": "7ccb5b9e-c869-43e8-8c52-283e6c66289e",
   "metadata": {},
   "source": [
    "# Pre-lecture HW "
   ]
  },
  {
   "cell_type": "markdown",
   "id": "21ebc4b1-1793-4b80-bff4-fc8f21ce1bdd",
   "metadata": {},
   "source": [
    "Conversation 1: https://chatgpt.com/share/66eb2b83-104c-8010-8a91-5efbe9d6ce91 \n",
    "\n",
    "Conversation 2: https://chatgpt.com/share/66eb4cdf-5378-8010-8fe1-3399c519a524 \n",
    "\n",
    "Conversation 3: https://chatgpt.com/share/66eb4cf1-35f4-8010-b0c9-84be43d91415 \n",
    "\n",
    "Conversation 4: https://chatgpt.com/share/66eb5338-0468-8010-91a2-c297f6b98b4e"
   ]
  },
  {
   "cell_type": "markdown",
   "id": "c50501ac-71b9-46cf-bad3-d0a8edc57b54",
   "metadata": {},
   "source": [
    "#### 2. \n",
    "Instead of using a tuple like ChatGPT suggested and what happened in the TUT demo, I preferred to use strings like 'goat' and 'car' to make it clearer and more explainable. \n",
    "\n",
    "I also asked to use a matplotlib graph to better illustrate how much higher chance of winning the participant has when they switch. \n"
   ]
  },
  {
   "cell_type": "markdown",
   "id": "fb5aa18c-d0b5-47d3-9e95-7a661a93d51f",
   "metadata": {},
   "source": [
    "#### 3."
   ]
  },
  {
   "cell_type": "code",
   "execution_count": 8,
   "id": "2c3402dd-301e-4bab-a353-d49a3b2c6ebb",
   "metadata": {},
   "outputs": [
    {
     "name": "stdout",
     "output_type": "stream",
     "text": [
      "Win probability if sticking (descriptive): 0.3321\n",
      "Win probability if switching (descriptive): 0.6666\n"
     ]
    },
    {
     "data": {
      "image/png": "[encoded data removed]",
      "text/plain": [
       "<Figure size 640x480 with 1 Axes>"
      ]
     },
     "metadata": {},
     "output_type": "display_data"
    }
   ],
   "source": [
    "# Function to simulate the Monty Hall problem with descriptive door labels\n",
    "def monty_hall_simulation_descriptive(switch):\n",
    "    wins = 0\n",
    "    \n",
    "    for _ in range(iterations):\n",
    "        # Define the doors with one 'car' and two 'goats'\n",
    "        doors = ['goat', 'car', 'goat']\n",
    "        # Shuffle the doors randomly\n",
    "        np.random.shuffle(doors)\n",
    "        \n",
    "        # Player's initial random choice\n",
    "        player_choice = np.random.choice(doors)\n",
    "        \n",
    "        # Monty reveals a 'goat' (using set() removes one 'goat') \n",
    "        remaining_doors = list(set(doors))\n",
    "        \n",
    "        # If the player switches, change their choice to the other unopened door\n",
    "        if switch:\n",
    "            player_choice = [door for door in doors if door != player_choice][0]\n",
    "        \n",
    "        # Check if the player wins (if their final choice is 'car')\n",
    "        if player_choice == 'car':\n",
    "            wins += 1\n",
    "    \n",
    "    # Return the win probability\n",
    "    return wins / iterations\n",
    "\n",
    "# Run simulations for both switching and sticking using descriptive doors\n",
    "win_rate_stick_descriptive = monty_hall_simulation_descriptive(switch=False)\n",
    "win_rate_switch_descriptive = monty_hall_simulation_descriptive(switch=True)\n",
    "\n",
    "# Print the results with descriptive simulation\n",
    "print(f\"Win probability if sticking (descriptive): {win_rate_stick_descriptive:.4f}\")\n",
    "print(f\"Win probability if switching (descriptive): {win_rate_switch_descriptive:.4f}\")\n",
    "\n",
    "# Plot the results\n",
    "strategies_descriptive = ['Stick', 'Switch']\n",
    "win_rates_descriptive = [win_rate_stick_descriptive, win_rate_switch_descriptive]\n",
    "\n",
    "plt.bar(strategies_descriptive, win_rates_descriptive, color=['blue', 'green'])\n",
    "plt.ylim(0, 1)\n",
    "plt.ylabel('Win Probability')\n",
    "plt.title('Monty Hall Simulation: Stick vs. Switch (Descriptive)')\n",
    "plt.show()\n"
   ]
  },
  {
   "cell_type": "markdown",
   "id": "48c35418-4f1a-4525-b5db-b17ac8c124b2",
   "metadata": {},
   "source": [
    "We discussed the **Monty Hall problem** and its solution using both intuition and **Bayes' Theorem**, which shows that switching doors gives you a 2/3 chance of winning while sticking to your original choice gives only a 1/3 chance. I then drafted Python code to simulate this scenario using 100,000 iterations. The simulation confirmed that switching doors increases the probability of winning.\n",
    "\n",
    "Next, I modified the code to use descriptive labels like **\"goat\"** and **\"car\"** instead of numbers to represent the doors, making the code more intuitive. The results and visualization consistently showed that switching is the better strategy."
   ]
  },
  {
   "cell_type": "markdown",
   "id": "77ca5de9-33d5-4084-8805-117ab0677612",
   "metadata": {},
   "source": [
    "#### 6. \n",
    "\n",
    "1. ChatGPT was quite fast (took <1 minute for each analysis) and provided helpful summaries regarding all of the Markovian extensions provided, context or without.\n",
    "2. At first, just pasting in the code made it spew out a bunch of text which was very dense. However, asking ChatGPT to edit the code to make it more readable and to add its reasoning alongside it made it much easier for me to understand the code and the chatbot.\n",
    "3. Overall, I think that ChatBots at the moment are extremely helpful tools when understanding and troubleshooting existing code, especially when said code is not too complex and has a linear line of logic behind it. Perhaps if I'm troubleshooting a much more complex application composed of many different files ChatBots would be less helpful, but at the moment it makes understanding new pieces of code way faster. "
   ]
  },
  {
   "cell_type": "markdown",
   "id": "fcd456de-fb96-48dc-94a4-6963cc52a3e7",
   "metadata": {},
   "source": [
    "#### 7.\n",
    "\n",
    "I've only just gotten off the waitlist to join the course, but I think that this novel way of viewing ChatBots is something I'll carry forward into my future CS career. I've read articles about Human-Algorithm centaurs, about how people should be integrating AI more into their daily life (in the correct use-cases) but I hadn't really implemented it before. Since joining the course, I've seen how fast learning is when I'm using AI; before, I hadn't really used ChatBots to assist me in coding assignments as I felt that I had to learn the syntax myself, but now I realize that ChatBots can assist me to both complete assignments faster and assist my learning simultaneously. "
   ]
  },
  {
   "cell_type": "markdown",
   "id": "623df592-0f7d-4324-8734-7c024f358d68",
   "metadata": {},
   "source": [
    "#### 8. \n",
    "In this session, we discussed the following:\n",
    "\n",
    "1. **Key Skills for Career Opportunities**: We talked about the relevance of learning adaptability, communication, coding, and data analysis, especially in the context of data science.\n",
    "   \n",
    "2. **Learning with ChatGPT**: I provided strategies for effectively learning with ChatGPT, focusing on setting goals, active recall, and personalized feedback.\n",
    "\n",
    "3. **Learning Reinforcement Learning**: I outlined a detailed roadmap for learning reinforcement learning, breaking it down into foundational machine learning concepts, mathematical foundations, core RL concepts, policy/value-based methods, and practical applications.\n",
    "\n",
    "4. **Becoming a Machine Learning Engineer Without Coding**: I explained that coding is essential for machine learning engineers, especially for model implementation, data handling, and deployment, though alternative roles might not require heavy coding.\n",
    "\n"
   ]
  },
  {
   "cell_type": "markdown",
   "id": "f09eba52-0a9c-4a0b-a5e8-efc3533200fb",
   "metadata": {},
   "source": [
    "**Reflection**\n",
    "I'm looking to become a machine learning engineer; in order to pursue this career path, I need to 1. keep up with the current trends regarding the latest models, 2. develop a deep understanding of math so that I can understand how the models function and 3. get familiar with machine learning frameworks such as scikit-learn and PyTorch."
   ]
  }
 ],
 "metadata": {
  "kernelspec": {
   "display_name": "Python 3 (ipykernel)",
   "language": "python",
   "name": "python3"
  },
  "language_info": {
   "codemirror_mode": {
    "name": "ipython",
    "version": 3
   },
   "file_extension": ".py",
   "mimetype": "text/x-python",
   "name": "python",
   "nbconvert_exporter": "python",
   "pygments_lexer": "ipython3",
   "version": "3.9.6"
  }
 },
 "nbformat": 4,
 "nbformat_minor": 5
}
