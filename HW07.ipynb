{
 "cells": [
  {
   "cell_type": "markdown",
   "id": "216198a2-78d5-4a81-a68a-304fbc650915",
   "metadata": {},
   "source": [
    "# Pre-lecture HW"
   ]
  },
  {
   "cell_type": "markdown",
   "id": "93355c15-d467-4e0c-b2fc-6a12ee83a0c2",
   "metadata": {},
   "source": [
    "#### 1:\n"
   ]
  }
 ],
 "metadata": {
  "kernelspec": {
   "display_name": "Python 3 (ipykernel)",
   "language": "python",
   "name": "python3"
  },
  "language_info": {
   "codemirror_mode": {
    "name": "ipython",
    "version": 3
   },
   "file_extension": ".py",
   "mimetype": "text/x-python",
   "name": "python",
   "nbconvert_exporter": "python",
   "pygments_lexer": "ipython3",
   "version": "3.9.6"
  }
 },
 "nbformat": 4,
 "nbformat_minor": 5
}
