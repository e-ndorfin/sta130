{
 "cells": [
  {
   "cell_type": "markdown",
   "id": "216198a2-78d5-4a81-a68a-304fbc650915",
   "metadata": {},
   "source": [
    "# Pre-lecture HW"
   ]
  },
  {
   "cell_type": "markdown",
   "id": "d5d630ff-15b4-41ea-b25a-375359d49ba0",
   "metadata": {},
   "source": [
    "Conversation for entire HW: https://chatgpt.com/share/67368462-5d58-8010-8780-31ab03407c83"
   ]
  },
  {
   "cell_type": "markdown",
   "id": "93355c15-d467-4e0c-b2fc-6a12ee83a0c2",
   "metadata": {},
   "source": [
    "#### 1:\n",
    "1. Simple linear regression: models relationship between just two variables. <br> Multiple linear regression: models relationship between more than two independent variables and a dependent variable (increasing dimension)\n",
    "\n",
    "2. Using a continuous variable means it can take on any value within a range, indicator means either 0 or 1. <br> Continuous variable: $y=b_0+b_1 x + \\epsilon$ , where $x$ is continuous. <br> Indicator variable: $y=b_0 + b_1 D + \\epsilon$, where $D$ is binary.\n",
    "\n",
    "3. We now have two lines, one when the continuous variable = 0, and another when the continuous variable = 1. This just changes the intercept of the two lines. \n",
    "\n",
    "4. $y=b_0 + b_1 D + \\epsilon$ turns into $y=b_0 + b_1 D + b_2 x + \\epsilon$, where $D$ is binary and $x$ is continuous.\n",
    "\n",
    "5. Given the indicator variables red, blue and green, we would have the linear form $y=b_0 + b_1 * x_{red} + b_2 * x_{blue} + b_3 * x_{green}$ <br> The encodings are shown below (green is 0, 0 as the lack of red and blue imply green)\n",
    "\n",
    "| Color | Red | Blue |\n",
    "|-------|-----|------|\n",
    "| Red   | 1   | 0    |\n",
    "| Blue  | 0   | 1    |\n",
    "| Green | 0   | 0    |\n",
    "\n",
    "Dummy variable trap: inclusion of all possible binary indicator variable leads to model estimation problems (multicollinearity)"
   ]
  },
  {
   "cell_type": "markdown",
   "id": "9bb3d99e-a49d-48ed-9306-35a6699742df",
   "metadata": {},
   "source": [
    "#### 2:\n",
    "\n",
    "1. **Outcome variable**: number of clicks / number of calls <br> **Predictor variables**: money spent on TV ads, money spent on online ads <br> The difference between the predictions with and without the interaction, is that without, it's just a linear factor of money spent on TV and online ads, but with, it incorporates how the money spent on TV affects the money spent on online ads\n",
    "2. If the advertisement budgets were either 'high' or 'low', we could use indicator variables, assigning 0 or 1 depending if the budget was low or high respectively.\n",
    "\n",
    "For example, $y=\\beta_0 + \\beta_1(TV) + \\beta_2(Online) + \\beta_3(TV * Online)$. If TV or Online are low, the third interaction will not be activated. "
   ]
  },
  {
   "cell_type": "markdown",
   "id": "e971aba5-25da-44a2-8ff1-23e77680460f",
   "metadata": {},
   "source": [
    "#### 3:"
   ]
  },
  {
   "cell_type": "code",
   "execution_count": 1,
   "id": "20df93d7-6566-4c68-a6ce-7847e3a399bf",
   "metadata": {},
   "outputs": [
    {
     "name": "stderr",
     "output_type": "stream",
     "text": [
      "/var/folders/n9/82z91_7n6vlb6_km5d5w73zh0000gn/T/ipykernel_20751/4114330600.py:3: DtypeWarning: Columns (129,408,630,671,689,978,1001,1002,1006,1007,1008,1080,1113,1115,1116,1117,1118,1119,1120,1121,1124,1125,1126,1127,1128,1213,1214,1215,1216,1217,1218,1263,1266,1342,1343,1344,1345,1346,1347,1348,1349,1390,1391,1393,1439,1442,1463,1546,1549,1552,1555,1558,1561) have mixed types. Specify dtype option on import or set low_memory=False.\n",
      "  data = pd.read_csv(\"https://raw.githubusercontent.com/pointOfive/stat130chat130/main/CP/CSCS_data_anon.csv\",\n"
     ]
    },
    {
     "data": {
      "text/plain": [
       "(11431, 1779)"
      ]
     },
     "execution_count": 1,
     "metadata": {},
     "output_type": "execute_result"
    }
   ],
   "source": [
    "import pandas as pd\n",
    "cols = pd.read_csv(\"https://raw.githubusercontent.com/pointOfive/stat130chat130/main/CP/var_names.csv\")\n",
    "data = pd.read_csv(\"https://raw.githubusercontent.com/pointOfive/stat130chat130/main/CP/CSCS_data_anon.csv\",\n",
    "                   na_values=[\"9999\", \"\", \" \", \"Presented but no response\", \"NA\"])\n",
    "empty = (data.isna().sum()==data.shape[0])\n",
    "data = data[empty.index[~empty]] # keep non empty columns only\n",
    "\n",
    "data.shape"
   ]
  },
  {
   "cell_type": "code",
   "execution_count": 2,
   "id": "9d649af1-b3dc-4fc7-a373-39575a8252d7",
   "metadata": {},
   "outputs": [],
   "source": [
    "dataV2 = data[data.REMOVE_case=='No'].copy()\n",
    "dataV2_cohort = dataV2[dataV2.SURVEY_cohort_participant].copy()\n",
    "dataV2_cohortV2 = dataV2_cohort[dataV2_cohort.SURVEY_collection_year!=2023].copy()\n",
    "missingness_limit = 100 # this retains 166 of 1024 columns that aren't fully empty\n",
    "columns2keep = dataV2_cohortV2.isna().sum() < missingness_limit\n",
    "columns2keep = columns2keep.index[columns2keep]\n",
    "dataV2_cohortV3 = dataV2_cohortV2[columns2keep].copy()"
   ]
  },
  {
   "cell_type": "code",
   "execution_count": 14,
   "id": "51e32947-5a61-4bab-b519-96309e596cac",
   "metadata": {},
   "outputs": [
    {
     "data": {
      "text/plain": [
       "COVID_prevention_hand_washing\n",
       "Very closely        581\n",
       "Somewhat closely    189\n",
       "Not at all           39\n",
       "Name: count, dtype: int64"
      ]
     },
     "execution_count": 14,
     "metadata": {},
     "output_type": "execute_result"
    }
   ],
   "source": [
    "dataV2_cohortV3['COVID_prevention_hand_washing'].value_counts()"
   ]
  },
  {
   "cell_type": "code",
   "execution_count": 9,
   "id": "f4a890cc-8a25-4837-88de-ae4b61592188",
   "metadata": {},
   "outputs": [
    {
     "data": {
      "text/plain": [
       "COVID_vaccinated\n",
       "Yes, three or more doses    358\n",
       "Yes, one dose               207\n",
       "No                          129\n",
       "Yes, two doses              109\n",
       "Name: count, dtype: int64"
      ]
     },
     "execution_count": 9,
     "metadata": {},
     "output_type": "execute_result"
    }
   ],
   "source": [
    "col = 'COVID_vaccinated'\n",
    "dataV2_cohortV3[col].value_counts()"
   ]
  },
  {
   "cell_type": "code",
   "execution_count": 11,
   "id": "ac3ab28e-dfda-4c86-827a-ca0fde98244f",
   "metadata": {},
   "outputs": [
    {
     "name": "stdout",
     "output_type": "stream",
     "text": [
      "COVID_vaccinated\n",
      "1    674\n",
      "0    176\n",
      "Name: count, dtype: int64\n"
     ]
    }
   ],
   "source": [
    "# Convert Yes/No in COVID_vaccinated column to 1/0, handling NaN values\n",
    "dataV2_cohortV3[col] = dataV2_cohortV3[col].apply(lambda x: 1 if isinstance(x, str) and 'Yes' in x else 0)\n",
    "\n",
    "# Verify the conversion\n",
    "print(dataV2_cohortV3[col].value_counts())"
   ]
  },
  {
   "cell_type": "markdown",
   "id": "b1470c01-6bfa-4724-9840-19a00fedcd1b",
   "metadata": {},
   "source": [
    "Let's do \"WELLNESS_subjective_happiness_scale_score\" (continuous) \"COVID_vaccinated\" (turned from categorical into binary) and \"COVID_prevention_hand_washing\" (categorical). "
   ]
  },
  {
   "cell_type": "code",
   "execution_count": 18,
   "id": "27d4bfcc-0e99-4963-8afc-d97bb29b70b2",
   "metadata": {},
   "outputs": [
    {
     "data": {
      "text/plain": [
       "COVID_prevention_hand_washing\n",
       "Very closely        581\n",
       "Somewhat closely    189\n",
       "Not at all           39\n",
       "Name: count, dtype: int64"
      ]
     },
     "execution_count": 18,
     "metadata": {},
     "output_type": "execute_result"
    }
   ],
   "source": [
    "dataV2_cohortV3[\"COVID_prevention_hand_washing\"].value_counts()"
   ]
  },
  {
   "cell_type": "code",
   "execution_count": 34,
   "id": "40a1b183-7868-4a23-bf14-861b594eed94",
   "metadata": {},
   "outputs": [
    {
     "name": "stdout",
     "output_type": "stream",
     "text": [
      "Model Summary:\n",
      "                                          OLS Regression Results                                          \n",
      "==========================================================================================================\n",
      "Dep. Variable:     Q('WELLNESS_subjective_happiness_scale_score')   R-squared:                       0.009\n",
      "Model:                                                        OLS   Adj. R-squared:                  0.005\n",
      "Method:                                             Least Squares   F-statistic:                     2.369\n",
      "Date:                                            Thu, 14 Nov 2024   Prob (F-statistic):             0.0694\n",
      "Time:                                                    03:43:27   Log-Likelihood:                -1428.5\n",
      "No. Observations:                                             801   AIC:                             2865.\n",
      "Df Residuals:                                                 797   BIC:                             2884.\n",
      "Df Model:                                                       3                                         \n",
      "Covariance Type:                                        nonrobust                                         \n",
      "===========================================================================================================================================================\n",
      "                                                                                              coef    std err          t      P>|t|      [0.025      0.975]\n",
      "-----------------------------------------------------------------------------------------------------------------------------------------------------------\n",
      "Intercept                                                                                   3.9877      0.255     15.669      0.000       3.488       4.487\n",
      "C(COVID_prevention_hand_washing, Treatment(reference='Not at all'))[T.Somewhat closely]     0.2232      0.257      0.869      0.385      -0.281       0.727\n",
      "C(COVID_prevention_hand_washing, Treatment(reference='Not at all'))[T.Very closely]         0.3822      0.242      1.578      0.115      -0.093       0.858\n",
      "COVID_vaccinated                                                                            0.2310      0.135      1.707      0.088      -0.035       0.497\n",
      "==============================================================================\n",
      "Omnibus:                       26.529   Durbin-Watson:                   1.204\n",
      "Prob(Omnibus):                  0.000   Jarque-Bera (JB):               24.169\n",
      "Skew:                          -0.369   Prob(JB):                     5.65e-06\n",
      "Kurtosis:                       2.577   Cond. No.                         12.4\n",
      "==============================================================================\n",
      "\n",
      "Notes:\n",
      "[1] Standard Errors assume that the covariance matrix of the errors is correctly specified.\n"
     ]
    }
   ],
   "source": [
    "import pandas as pd\n",
    "import statsmodels.formula.api as smf\n",
    "import plotly.express as px\n",
    "\n",
    "# Make a copy of the original DataFrame\n",
    "data_copy = dataV2_cohortV3.copy()\n",
    "\n",
    "# Ensure 'COVID_vaccinated' is binary (0/1) in the copy\n",
    "# data_copy['COVID_vaccinated'] = data_copy['COVID_vaccinated'].apply(lambda x: 1 if isinstance(x, str) and 'Yes' in x else 0)\n",
    "\n",
    "# Define the OLS model specification using C() for categorical variables\n",
    "linear_model_specification = '''\n",
    "Q('WELLNESS_subjective_happiness_scale_score') ~ COVID_vaccinated \n",
    "                                                + C(COVID_prevention_hand_washing, Treatment(reference='Not at all'))\n",
    "'''\n",
    "\n",
    "# Fit the model\n",
    "model = smf.ols(linear_model_specification, data_copy).fit()\n",
    "print(\"Model Summary:\")\n",
    "print(model.summary())\n"
   ]
  },
  {
   "cell_type": "code",
   "execution_count": 43,
   "id": "7ca44f22-a5dd-4494-a6c1-bd3a2af9c187",
   "metadata": {},
   "outputs": [
    {
     "name": "stdout",
     "output_type": "stream",
     "text": [
      "Additive Model Summary:\n",
      "                                          OLS Regression Results                                          \n",
      "==========================================================================================================\n",
      "Dep. Variable:     Q('WELLNESS_subjective_happiness_scale_score')   R-squared:                       0.009\n",
      "Model:                                                        OLS   Adj. R-squared:                  0.005\n",
      "Method:                                             Least Squares   F-statistic:                     2.369\n",
      "Date:                                            Thu, 14 Nov 2024   Prob (F-statistic):             0.0694\n",
      "Time:                                                    03:55:05   Log-Likelihood:                -1428.5\n",
      "No. Observations:                                             801   AIC:                             2865.\n",
      "Df Residuals:                                                 797   BIC:                             2884.\n",
      "Df Model:                                                       3                                         \n",
      "Covariance Type:                                        nonrobust                                         \n",
      "===========================================================================================================================================================\n",
      "                                                                                              coef    std err          t      P>|t|      [0.025      0.975]\n",
      "-----------------------------------------------------------------------------------------------------------------------------------------------------------\n",
      "Intercept                                                                                   3.9877      0.255     15.669      0.000       3.488       4.487\n",
      "C(COVID_prevention_hand_washing, Treatment(reference='Not at all'))[T.Somewhat closely]     0.2232      0.257      0.869      0.385      -0.281       0.727\n",
      "C(COVID_prevention_hand_washing, Treatment(reference='Not at all'))[T.Very closely]         0.3822      0.242      1.578      0.115      -0.093       0.858\n",
      "COVID_vaccinated                                                                            0.2310      0.135      1.707      0.088      -0.035       0.497\n",
      "==============================================================================\n",
      "Omnibus:                       26.529   Durbin-Watson:                   1.204\n",
      "Prob(Omnibus):                  0.000   Jarque-Bera (JB):               24.169\n",
      "Skew:                          -0.369   Prob(JB):                     5.65e-06\n",
      "Kurtosis:                       2.577   Cond. No.                         12.4\n",
      "==============================================================================\n",
      "\n",
      "Notes:\n",
      "[1] Standard Errors assume that the covariance matrix of the errors is correctly specified.\n",
      "\n",
      "Synergistic Model Summary:\n",
      "                                          OLS Regression Results                                          \n",
      "==========================================================================================================\n",
      "Dep. Variable:     Q('WELLNESS_subjective_happiness_scale_score')   R-squared:                       0.013\n",
      "Model:                                                        OLS   Adj. R-squared:                  0.007\n",
      "Method:                                             Least Squares   F-statistic:                     2.170\n",
      "Date:                                            Thu, 14 Nov 2024   Prob (F-statistic):             0.0556\n",
      "Time:                                                    03:55:05   Log-Likelihood:                -1426.7\n",
      "No. Observations:                                             801   AIC:                             2865.\n",
      "Df Residuals:                                                 795   BIC:                             2893.\n",
      "Df Model:                                                       5                                         \n",
      "Covariance Type:                                        nonrobust                                         \n",
      "============================================================================================================================================================================\n",
      "                                                                                                               coef    std err          t      P>|t|      [0.025      0.975]\n",
      "----------------------------------------------------------------------------------------------------------------------------------------------------------------------------\n",
      "Intercept                                                                                                    3.7250      0.456      8.170      0.000       2.830       4.620\n",
      "C(COVID_prevention_hand_washing, Treatment(reference='Not at all'))[T.Somewhat closely]                      0.8375      0.515      1.625      0.105      -0.174       1.849\n",
      "C(COVID_prevention_hand_washing, Treatment(reference='Not at all'))[T.Very closely]                          0.5359      0.480      1.116      0.265      -0.407       1.478\n",
      "COVID_vaccinated                                                                                             0.5875      0.531      1.106      0.269      -0.455       1.630\n",
      "COVID_vaccinated:C(COVID_prevention_hand_washing, Treatment(reference='Not at all'))[T.Somewhat closely]    -0.7914      0.595     -1.331      0.184      -1.959       0.376\n",
      "COVID_vaccinated:C(COVID_prevention_hand_washing, Treatment(reference='Not at all'))[T.Very closely]        -0.2267      0.556     -0.408      0.683      -1.318       0.865\n",
      "==============================================================================\n",
      "Omnibus:                       26.863   Durbin-Watson:                   1.209\n",
      "Prob(Omnibus):                  0.000   Jarque-Bera (JB):               25.153\n",
      "Skew:                          -0.384   Prob(JB):                     3.45e-06\n",
      "Kurtosis:                       2.595   Cond. No.                         39.5\n",
      "==============================================================================\n",
      "\n",
      "Notes:\n",
      "[1] Standard Errors assume that the covariance matrix of the errors is correctly specified.\n"
     ]
    },
    {
     "data": {
      "image/png": "[encoded data removed]"
     },
     "metadata": {},
     "output_type": "display_data"
    },
    {
     "data": {
      "image/png": "[encoded data removed]"
     },
     "metadata": {},
     "output_type": "display_data"
    }
   ],
   "source": [
    "import pandas as pd\n",
    "import statsmodels.formula.api as smf\n",
    "import plotly.graph_objects as go\n",
    "import plotly.express as px\n",
    "\n",
    "# Make a copy of the original DataFrame\n",
    "data_copy = dataV2_cohortV3.copy()\n",
    "\n",
    "# Ensure 'COVID_vaccinated' is binary (0/1) in the copy\n",
    "# data_copy['COVID_vaccinated'] = data_copy['COVID_vaccinated'].apply(lambda x: 1 if isinstance(x, str) and 'Yes' in x else 0)\n",
    "\n",
    "# Define the Additive Model (no interaction term)\n",
    "additive_model_spec = '''\n",
    "Q('WELLNESS_subjective_happiness_scale_score') ~ COVID_vaccinated + C(COVID_prevention_hand_washing, Treatment(reference='Not at all'))\n",
    "'''\n",
    "\n",
    "# Fit the additive model\n",
    "additive_model = smf.ols(additive_model_spec, data_copy).fit()\n",
    "\n",
    "# Define the Synergistic Model (with interaction term)\n",
    "synergistic_model_spec = '''\n",
    "Q('WELLNESS_subjective_happiness_scale_score') ~ COVID_vaccinated + C(COVID_prevention_hand_washing, Treatment(reference='Not at all')) + COVID_vaccinated * C(COVID_prevention_hand_washing, Treatment(reference='Not at all'))\n",
    "'''\n",
    "\n",
    "# Fit the synergistic model\n",
    "synergistic_model = smf.ols(synergistic_model_spec, data_copy).fit()\n",
    "\n",
    "# Print the summary of both models\n",
    "print(\"Additive Model Summary:\")\n",
    "print(additive_model.summary())\n",
    "print(\"\\nSynergistic Model Summary:\")\n",
    "print(synergistic_model.summary())\n",
    "\n",
    "# Predictions for the best fit lines (Additive model)\n",
    "data_copy['additive_pred'] = additive_model.predict(data_copy)\n",
    "\n",
    "# Predictions for the best fit lines (Synergistic model)\n",
    "data_copy['synergistic_pred'] = synergistic_model.predict(data_copy)\n",
    "\n",
    "# Visualize the data and the best fit lines with Plotly\n",
    "\n",
    "# Scatter plot with Additive line\n",
    "fig_additive = go.Figure()\n",
    "\n",
    "# Scatter plot of the data\n",
    "fig_additive.add_trace(go.Scatter(x=data_copy['COVID_vaccinated'], y=data_copy['WELLNESS_subjective_happiness_scale_score'], \n",
    "                                 mode='markers', name='Data'))\n",
    "\n",
    "# Add the additive regression line\n",
    "fig_additive.add_trace(go.Scatter(x=data_copy['COVID_vaccinated'], y=data_copy['additive_pred'], \n",
    "                                 mode='lines', name='Additive Best Fit Line'))\n",
    "\n",
    "# Update layout for Additive plot\n",
    "fig_additive.update_layout(\n",
    "    title='Additive Model (No Interaction)',\n",
    "    xaxis_title='COVID Vaccinated (Binary)',\n",
    "    yaxis_title='Subjective Happiness Score',\n",
    "    template='plotly_dark'\n",
    ")\n",
    "\n",
    "# Scatter plot with Synergistic line (Interaction term)\n",
    "fig_synergistic = go.Figure()\n",
    "\n",
    "# Scatter plot of the data\n",
    "fig_synergistic.add_trace(go.Scatter(x=data_copy['COVID_vaccinated'], y=data_copy['WELLNESS_subjective_happiness_scale_score'], \n",
    "                                    mode='markers', name='Data'))\n",
    "\n",
    "# Add the synergistic regression line (with interaction)\n",
    "fig_synergistic.add_trace(go.Scatter(x=data_copy['COVID_vaccinated'], y=data_copy['synergistic_pred'], \n",
    "                                    mode='lines', name='Synergistic Best Fit Line'))\n",
    "\n",
    "# Update layout for Synergistic plot\n",
    "fig_synergistic.update_layout(\n",
    "    title='Synergistic Model (With Interaction)',\n",
    "    xaxis_title='COVID Vaccinated (Binary)',\n",
    "    yaxis_title='Subjective Happiness Score',\n",
    "    template='plotly_dark'\n",
    ")\n",
    "\n",
    "# Show the figures\n",
    "fig_additive.show(renderer='png')\n",
    "fig_synergistic.show(renderer='png')\n"
   ]
  },
  {
   "cell_type": "markdown",
   "id": "9f26d1c6-158e-490c-b86d-30b995026b31",
   "metadata": {},
   "source": [
    "#### 4: "
   ]
  },
  {
   "cell_type": "markdown",
   "id": "15114e25-8c0e-4c47-beb4-99a62f4c7053",
   "metadata": {},
   "source": [
    "**Explain the apparent contradiction between the factual statements regarding the fit below that \"the model only explains 17.6% of the variability in the data\" while at the same time \"many of the coefficients are larger than 10 while having strong or very strong evidence against the null hypothesis of 'no effect'\"**\n",
    "\n",
    "Here, 17.6% refers to the $R^2$ value of 0.176, while \"strong or very strong evidence against the null hypothesis\" means the p-values are very low. Coefficients larger than 10 means that these predictor variables have a strong effect on the outcome variable as well.\n",
    "\n",
    "These initially seem like they would be correlated but describe different things. \n",
    "\n",
    "p-value describes the individual significance of predictors, aka the evidence against the null hypothesis that x predictor variable has no effect on y outcome variable. R^2 value describes the wellness of fit, meaning how well the regression line accounts for variability in the data. \n",
    "\n",
    "Low R^2 values like 0.176 means that there is a lot of variance in the data, meaning the regression line does not describe the data very well (perhaps it does not follow a linear trend). However, this does not affect p-value, which represents the evidence against the null hypothesis, as this only represents whether or not there exists a significant correlation between the predictor variables and the outcome variable. Thus, the line can be a bad representation of the variance in the data, but there can still exist strong evidence against the null hypothesis that the predictor variables affect the outcome variables. "
   ]
  },
  {
   "cell_type": "markdown",
   "id": "edd7f764-3ad6-44c2-a7eb-6a629f6c244a",
   "metadata": {},
   "source": [
    "#### 5:"
   ]
  },
  {
   "cell_type": "code",
   "execution_count": 50,
   "id": "8e6f119a-d107-4c42-a2f1-5d6360830f0e",
   "metadata": {},
   "outputs": [
    {
     "data": {
      "text/html": [
       "<div>\n",
       "<style scoped>\n",
       "    .dataframe tbody tr th:only-of-type {\n",
       "        vertical-align: middle;\n",
       "    }\n",
       "\n",
       "    .dataframe tbody tr th {\n",
       "        vertical-align: top;\n",
       "    }\n",
       "\n",
       "    .dataframe thead th {\n",
       "        text-align: right;\n",
       "    }\n",
       "</style>\n",
       "<table border=\"1\" class=\"dataframe\">\n",
       "  <thead>\n",
       "    <tr style=\"text-align: right;\">\n",
       "      <th></th>\n",
       "      <th>#</th>\n",
       "      <th>Name</th>\n",
       "      <th>Type 1</th>\n",
       "      <th>Type 2</th>\n",
       "      <th>HP</th>\n",
       "      <th>Attack</th>\n",
       "      <th>Defense</th>\n",
       "      <th>Sp. Atk</th>\n",
       "      <th>Sp. Def</th>\n",
       "      <th>Speed</th>\n",
       "      <th>Generation</th>\n",
       "      <th>Legendary</th>\n",
       "    </tr>\n",
       "  </thead>\n",
       "  <tbody>\n",
       "    <tr>\n",
       "      <th>370</th>\n",
       "      <td>338</td>\n",
       "      <td>Solrock</td>\n",
       "      <td>Rock</td>\n",
       "      <td>Psychic</td>\n",
       "      <td>70</td>\n",
       "      <td>95</td>\n",
       "      <td>85</td>\n",
       "      <td>55</td>\n",
       "      <td>65</td>\n",
       "      <td>70</td>\n",
       "      <td>3</td>\n",
       "      <td>False</td>\n",
       "    </tr>\n",
       "    <tr>\n",
       "      <th>6</th>\n",
       "      <td>6</td>\n",
       "      <td>Charizard</td>\n",
       "      <td>Fire</td>\n",
       "      <td>Flying</td>\n",
       "      <td>78</td>\n",
       "      <td>84</td>\n",
       "      <td>78</td>\n",
       "      <td>109</td>\n",
       "      <td>85</td>\n",
       "      <td>100</td>\n",
       "      <td>1</td>\n",
       "      <td>False</td>\n",
       "    </tr>\n",
       "    <tr>\n",
       "      <th>242</th>\n",
       "      <td>224</td>\n",
       "      <td>Octillery</td>\n",
       "      <td>Water</td>\n",
       "      <td>None</td>\n",
       "      <td>75</td>\n",
       "      <td>105</td>\n",
       "      <td>75</td>\n",
       "      <td>105</td>\n",
       "      <td>75</td>\n",
       "      <td>45</td>\n",
       "      <td>2</td>\n",
       "      <td>False</td>\n",
       "    </tr>\n",
       "    <tr>\n",
       "      <th>661</th>\n",
       "      <td>600</td>\n",
       "      <td>Klang</td>\n",
       "      <td>Steel</td>\n",
       "      <td>None</td>\n",
       "      <td>60</td>\n",
       "      <td>80</td>\n",
       "      <td>95</td>\n",
       "      <td>70</td>\n",
       "      <td>85</td>\n",
       "      <td>50</td>\n",
       "      <td>5</td>\n",
       "      <td>False</td>\n",
       "    </tr>\n",
       "    <tr>\n",
       "      <th>288</th>\n",
       "      <td>265</td>\n",
       "      <td>Wurmple</td>\n",
       "      <td>Bug</td>\n",
       "      <td>None</td>\n",
       "      <td>45</td>\n",
       "      <td>45</td>\n",
       "      <td>35</td>\n",
       "      <td>20</td>\n",
       "      <td>30</td>\n",
       "      <td>20</td>\n",
       "      <td>3</td>\n",
       "      <td>False</td>\n",
       "    </tr>\n",
       "    <tr>\n",
       "      <th>...</th>\n",
       "      <td>...</td>\n",
       "      <td>...</td>\n",
       "      <td>...</td>\n",
       "      <td>...</td>\n",
       "      <td>...</td>\n",
       "      <td>...</td>\n",
       "      <td>...</td>\n",
       "      <td>...</td>\n",
       "      <td>...</td>\n",
       "      <td>...</td>\n",
       "      <td>...</td>\n",
       "      <td>...</td>\n",
       "    </tr>\n",
       "    <tr>\n",
       "      <th>522</th>\n",
       "      <td>471</td>\n",
       "      <td>Glaceon</td>\n",
       "      <td>Ice</td>\n",
       "      <td>None</td>\n",
       "      <td>65</td>\n",
       "      <td>60</td>\n",
       "      <td>110</td>\n",
       "      <td>130</td>\n",
       "      <td>95</td>\n",
       "      <td>65</td>\n",
       "      <td>4</td>\n",
       "      <td>False</td>\n",
       "    </tr>\n",
       "    <tr>\n",
       "      <th>243</th>\n",
       "      <td>225</td>\n",
       "      <td>Delibird</td>\n",
       "      <td>Ice</td>\n",
       "      <td>Flying</td>\n",
       "      <td>45</td>\n",
       "      <td>55</td>\n",
       "      <td>45</td>\n",
       "      <td>65</td>\n",
       "      <td>45</td>\n",
       "      <td>75</td>\n",
       "      <td>2</td>\n",
       "      <td>False</td>\n",
       "    </tr>\n",
       "    <tr>\n",
       "      <th>797</th>\n",
       "      <td>720</td>\n",
       "      <td>HoopaHoopa Confined</td>\n",
       "      <td>Psychic</td>\n",
       "      <td>Ghost</td>\n",
       "      <td>80</td>\n",
       "      <td>110</td>\n",
       "      <td>60</td>\n",
       "      <td>150</td>\n",
       "      <td>130</td>\n",
       "      <td>70</td>\n",
       "      <td>6</td>\n",
       "      <td>True</td>\n",
       "    </tr>\n",
       "    <tr>\n",
       "      <th>117</th>\n",
       "      <td>109</td>\n",
       "      <td>Koffing</td>\n",
       "      <td>Poison</td>\n",
       "      <td>None</td>\n",
       "      <td>40</td>\n",
       "      <td>65</td>\n",
       "      <td>95</td>\n",
       "      <td>60</td>\n",
       "      <td>45</td>\n",
       "      <td>35</td>\n",
       "      <td>1</td>\n",
       "      <td>False</td>\n",
       "    </tr>\n",
       "    <tr>\n",
       "      <th>409</th>\n",
       "      <td>373</td>\n",
       "      <td>SalamenceMega Salamence</td>\n",
       "      <td>Dragon</td>\n",
       "      <td>Flying</td>\n",
       "      <td>95</td>\n",
       "      <td>145</td>\n",
       "      <td>130</td>\n",
       "      <td>120</td>\n",
       "      <td>90</td>\n",
       "      <td>120</td>\n",
       "      <td>3</td>\n",
       "      <td>False</td>\n",
       "    </tr>\n",
       "  </tbody>\n",
       "</table>\n",
       "<p>400 rows × 12 columns</p>\n",
       "</div>"
      ],
      "text/plain": [
       "       #                     Name   Type 1   Type 2  HP  Attack  Defense  \\\n",
       "370  338                  Solrock     Rock  Psychic  70      95       85   \n",
       "6      6                Charizard     Fire   Flying  78      84       78   \n",
       "242  224                Octillery    Water     None  75     105       75   \n",
       "661  600                    Klang    Steel     None  60      80       95   \n",
       "288  265                  Wurmple      Bug     None  45      45       35   \n",
       "..   ...                      ...      ...      ...  ..     ...      ...   \n",
       "522  471                  Glaceon      Ice     None  65      60      110   \n",
       "243  225                 Delibird      Ice   Flying  45      55       45   \n",
       "797  720      HoopaHoopa Confined  Psychic    Ghost  80     110       60   \n",
       "117  109                  Koffing   Poison     None  40      65       95   \n",
       "409  373  SalamenceMega Salamence   Dragon   Flying  95     145      130   \n",
       "\n",
       "     Sp. Atk  Sp. Def  Speed  Generation  Legendary  \n",
       "370       55       65     70           3      False  \n",
       "6        109       85    100           1      False  \n",
       "242      105       75     45           2      False  \n",
       "661       70       85     50           5      False  \n",
       "288       20       30     20           3      False  \n",
       "..       ...      ...    ...         ...        ...  \n",
       "522      130       95     65           4      False  \n",
       "243       65       45     75           2      False  \n",
       "797      150      130     70           6       True  \n",
       "117       60       45     35           1      False  \n",
       "409      120       90    120           3      False  \n",
       "\n",
       "[400 rows x 12 columns]"
      ]
     },
     "execution_count": 50,
     "metadata": {},
     "output_type": "execute_result"
    }
   ],
   "source": [
    "import numpy as np\n",
    "from sklearn.model_selection import train_test_split\n",
    "\n",
    "fifty_fifty_split_size = int(pokeaman.shape[0]*0.5)\n",
    "\n",
    "# Replace \"NaN\" (in the \"Type 2\" column with \"None\")\n",
    "pokeaman.fillna('None', inplace=True)\n",
    "\n",
    "np.random.seed(130)\n",
    "pokeaman_train,pokeaman_test = \\\n",
    "  train_test_split(pokeaman, train_size=fifty_fifty_split_size)\n",
    "pokeaman_train\n"
   ]
  },
  {
   "cell_type": "code",
   "execution_count": 51,
   "id": "050880c6-19c7-449d-bfba-1b98489a2a35",
   "metadata": {},
   "outputs": [
    {
     "data": {
      "text/html": [
       "<table class=\"simpletable\">\n",
       "<caption>OLS Regression Results</caption>\n",
       "<tr>\n",
       "  <th>Dep. Variable:</th>           <td>HP</td>        <th>  R-squared:         </th> <td>   0.148</td>\n",
       "</tr>\n",
       "<tr>\n",
       "  <th>Model:</th>                   <td>OLS</td>       <th>  Adj. R-squared:    </th> <td>   0.143</td>\n",
       "</tr>\n",
       "<tr>\n",
       "  <th>Method:</th>             <td>Least Squares</td>  <th>  F-statistic:       </th> <td>   34.40</td>\n",
       "</tr>\n",
       "<tr>\n",
       "  <th>Date:</th>             <td>Thu, 14 Nov 2024</td> <th>  Prob (F-statistic):</th> <td>1.66e-14</td>\n",
       "</tr>\n",
       "<tr>\n",
       "  <th>Time:</th>                 <td>14:24:51</td>     <th>  Log-Likelihood:    </th> <td> -1832.6</td>\n",
       "</tr>\n",
       "<tr>\n",
       "  <th>No. Observations:</th>      <td>   400</td>      <th>  AIC:               </th> <td>   3671.</td>\n",
       "</tr>\n",
       "<tr>\n",
       "  <th>Df Residuals:</th>          <td>   397</td>      <th>  BIC:               </th> <td>   3683.</td>\n",
       "</tr>\n",
       "<tr>\n",
       "  <th>Df Model:</th>              <td>     2</td>      <th>                     </th>     <td> </td>   \n",
       "</tr>\n",
       "<tr>\n",
       "  <th>Covariance Type:</th>      <td>nonrobust</td>    <th>                     </th>     <td> </td>   \n",
       "</tr>\n",
       "</table>\n",
       "<table class=\"simpletable\">\n",
       "<tr>\n",
       "      <td></td>         <th>coef</th>     <th>std err</th>      <th>t</th>      <th>P>|t|</th>  <th>[0.025</th>    <th>0.975]</th>  \n",
       "</tr>\n",
       "<tr>\n",
       "  <th>Intercept</th> <td>   42.5882</td> <td>    3.580</td> <td>   11.897</td> <td> 0.000</td> <td>   35.551</td> <td>   49.626</td>\n",
       "</tr>\n",
       "<tr>\n",
       "  <th>Attack</th>    <td>    0.2472</td> <td>    0.041</td> <td>    6.051</td> <td> 0.000</td> <td>    0.167</td> <td>    0.327</td>\n",
       "</tr>\n",
       "<tr>\n",
       "  <th>Defense</th>   <td>    0.1001</td> <td>    0.045</td> <td>    2.201</td> <td> 0.028</td> <td>    0.011</td> <td>    0.190</td>\n",
       "</tr>\n",
       "</table>\n",
       "<table class=\"simpletable\">\n",
       "<tr>\n",
       "  <th>Omnibus:</th>       <td>284.299</td> <th>  Durbin-Watson:     </th> <td>   2.006</td>\n",
       "</tr>\n",
       "<tr>\n",
       "  <th>Prob(Omnibus):</th> <td> 0.000</td>  <th>  Jarque-Bera (JB):  </th> <td>5870.841</td>\n",
       "</tr>\n",
       "<tr>\n",
       "  <th>Skew:</th>          <td> 2.720</td>  <th>  Prob(JB):          </th> <td>    0.00</td>\n",
       "</tr>\n",
       "<tr>\n",
       "  <th>Kurtosis:</th>      <td>20.963</td>  <th>  Cond. No.          </th> <td>    343.</td>\n",
       "</tr>\n",
       "</table><br/><br/>Notes:<br/>[1] Standard Errors assume that the covariance matrix of the errors is correctly specified."
      ],
      "text/latex": [
       "\\begin{center}\n",
       "\\begin{tabular}{lclc}\n",
       "\\toprule\n",
       "\\textbf{Dep. Variable:}    &        HP        & \\textbf{  R-squared:         } &     0.148   \\\\\n",
       "\\textbf{Model:}            &       OLS        & \\textbf{  Adj. R-squared:    } &     0.143   \\\\\n",
       "\\textbf{Method:}           &  Least Squares   & \\textbf{  F-statistic:       } &     34.40   \\\\\n",
       "\\textbf{Date:}             & Thu, 14 Nov 2024 & \\textbf{  Prob (F-statistic):} &  1.66e-14   \\\\\n",
       "\\textbf{Time:}             &     14:24:51     & \\textbf{  Log-Likelihood:    } &   -1832.6   \\\\\n",
       "\\textbf{No. Observations:} &         400      & \\textbf{  AIC:               } &     3671.   \\\\\n",
       "\\textbf{Df Residuals:}     &         397      & \\textbf{  BIC:               } &     3683.   \\\\\n",
       "\\textbf{Df Model:}         &           2      & \\textbf{                     } &             \\\\\n",
       "\\textbf{Covariance Type:}  &    nonrobust     & \\textbf{                     } &             \\\\\n",
       "\\bottomrule\n",
       "\\end{tabular}\n",
       "\\begin{tabular}{lcccccc}\n",
       "                   & \\textbf{coef} & \\textbf{std err} & \\textbf{t} & \\textbf{P$> |$t$|$} & \\textbf{[0.025} & \\textbf{0.975]}  \\\\\n",
       "\\midrule\n",
       "\\textbf{Intercept} &      42.5882  &        3.580     &    11.897  &         0.000        &       35.551    &       49.626     \\\\\n",
       "\\textbf{Attack}    &       0.2472  &        0.041     &     6.051  &         0.000        &        0.167    &        0.327     \\\\\n",
       "\\textbf{Defense}   &       0.1001  &        0.045     &     2.201  &         0.028        &        0.011    &        0.190     \\\\\n",
       "\\bottomrule\n",
       "\\end{tabular}\n",
       "\\begin{tabular}{lclc}\n",
       "\\textbf{Omnibus:}       & 284.299 & \\textbf{  Durbin-Watson:     } &    2.006  \\\\\n",
       "\\textbf{Prob(Omnibus):} &   0.000 & \\textbf{  Jarque-Bera (JB):  } & 5870.841  \\\\\n",
       "\\textbf{Skew:}          &   2.720 & \\textbf{  Prob(JB):          } &     0.00  \\\\\n",
       "\\textbf{Kurtosis:}      &  20.963 & \\textbf{  Cond. No.          } &     343.  \\\\\n",
       "\\bottomrule\n",
       "\\end{tabular}\n",
       "%\\caption{OLS Regression Results}\n",
       "\\end{center}\n",
       "\n",
       "Notes: \\newline\n",
       " [1] Standard Errors assume that the covariance matrix of the errors is correctly specified."
      ],
      "text/plain": [
       "<class 'statsmodels.iolib.summary.Summary'>\n",
       "\"\"\"\n",
       "                            OLS Regression Results                            \n",
       "==============================================================================\n",
       "Dep. Variable:                     HP   R-squared:                       0.148\n",
       "Model:                            OLS   Adj. R-squared:                  0.143\n",
       "Method:                 Least Squares   F-statistic:                     34.40\n",
       "Date:                Thu, 14 Nov 2024   Prob (F-statistic):           1.66e-14\n",
       "Time:                        14:24:51   Log-Likelihood:                -1832.6\n",
       "No. Observations:                 400   AIC:                             3671.\n",
       "Df Residuals:                     397   BIC:                             3683.\n",
       "Df Model:                           2                                         \n",
       "Covariance Type:            nonrobust                                         \n",
       "==============================================================================\n",
       "                 coef    std err          t      P>|t|      [0.025      0.975]\n",
       "------------------------------------------------------------------------------\n",
       "Intercept     42.5882      3.580     11.897      0.000      35.551      49.626\n",
       "Attack         0.2472      0.041      6.051      0.000       0.167       0.327\n",
       "Defense        0.1001      0.045      2.201      0.028       0.011       0.190\n",
       "==============================================================================\n",
       "Omnibus:                      284.299   Durbin-Watson:                   2.006\n",
       "Prob(Omnibus):                  0.000   Jarque-Bera (JB):             5870.841\n",
       "Skew:                           2.720   Prob(JB):                         0.00\n",
       "Kurtosis:                      20.963   Cond. No.                         343.\n",
       "==============================================================================\n",
       "\n",
       "Notes:\n",
       "[1] Standard Errors assume that the covariance matrix of the errors is correctly specified.\n",
       "\"\"\""
      ]
     },
     "execution_count": 51,
     "metadata": {},
     "output_type": "execute_result"
    }
   ],
   "source": [
    "model_spec3 = smf.ols(formula='HP ~ Attack + Defense', \n",
    "                      data=pokeaman_train)\n",
    "model3_fit = model_spec3.fit()\n",
    "model3_fit.summary()\n"
   ]
  },
  {
   "cell_type": "code",
   "execution_count": 56,
   "id": "a957d82e-8acf-4154-822c-c656fb43797d",
   "metadata": {},
   "outputs": [
    {
     "name": "stdout",
     "output_type": "stream",
     "text": [
      "'In sample' R-squared:     0.14771558304519905\n",
      "'Out of sample' R-squared: 0.21208501873920732\n"
     ]
    }
   ],
   "source": [
    "yhat_model3 = model3_fit.predict(pokeaman_test)\n",
    "y = pokeaman_test.HP\n",
    "print(\"'In sample' R-squared:    \", model3_fit.rsquared)\n",
    "print(\"'Out of sample' R-squared:\", np.corrcoef(y,yhat_model3)[0,1]**2)\n"
   ]
  },
  {
   "cell_type": "code",
   "execution_count": 53,
   "id": "72a04a8c-ac5e-48c9-9e60-3e8211bb18d3",
   "metadata": {},
   "outputs": [
    {
     "data": {
      "text/html": [
       "<table class=\"simpletable\">\n",
       "<caption>OLS Regression Results</caption>\n",
       "<tr>\n",
       "  <th>Dep. Variable:</th>           <td>HP</td>        <th>  R-squared:         </th> <td>   0.467</td>\n",
       "</tr>\n",
       "<tr>\n",
       "  <th>Model:</th>                   <td>OLS</td>       <th>  Adj. R-squared:    </th> <td>   0.369</td>\n",
       "</tr>\n",
       "<tr>\n",
       "  <th>Method:</th>             <td>Least Squares</td>  <th>  F-statistic:       </th> <td>   4.764</td>\n",
       "</tr>\n",
       "<tr>\n",
       "  <th>Date:</th>             <td>Thu, 14 Nov 2024</td> <th>  Prob (F-statistic):</th> <td>4.23e-21</td>\n",
       "</tr>\n",
       "<tr>\n",
       "  <th>Time:</th>                 <td>14:25:05</td>     <th>  Log-Likelihood:    </th> <td> -1738.6</td>\n",
       "</tr>\n",
       "<tr>\n",
       "  <th>No. Observations:</th>      <td>   400</td>      <th>  AIC:               </th> <td>   3603.</td>\n",
       "</tr>\n",
       "<tr>\n",
       "  <th>Df Residuals:</th>          <td>   337</td>      <th>  BIC:               </th> <td>   3855.</td>\n",
       "</tr>\n",
       "<tr>\n",
       "  <th>Df Model:</th>              <td>    62</td>      <th>                     </th>     <td> </td>   \n",
       "</tr>\n",
       "<tr>\n",
       "  <th>Covariance Type:</th>      <td>nonrobust</td>    <th>                     </th>     <td> </td>   \n",
       "</tr>\n",
       "</table>\n",
       "<table class=\"simpletable\">\n",
       "<tr>\n",
       "                                  <td></td>                                    <th>coef</th>     <th>std err</th>      <th>t</th>      <th>P>|t|</th>  <th>[0.025</th>    <th>0.975]</th>  \n",
       "</tr>\n",
       "<tr>\n",
       "  <th>Intercept</th>                                                        <td>  521.5715</td> <td>  130.273</td> <td>    4.004</td> <td> 0.000</td> <td>  265.322</td> <td>  777.821</td>\n",
       "</tr>\n",
       "<tr>\n",
       "  <th>Legendary[T.True]</th>                                                <td>   -6.1180</td> <td>    2.846</td> <td>   -2.150</td> <td> 0.032</td> <td>  -11.716</td> <td>   -0.520</td>\n",
       "</tr>\n",
       "<tr>\n",
       "  <th>Attack</th>                                                           <td>   -8.1938</td> <td>    2.329</td> <td>   -3.518</td> <td> 0.000</td> <td>  -12.775</td> <td>   -3.612</td>\n",
       "</tr>\n",
       "<tr>\n",
       "  <th>Attack:Legendary[T.True]</th>                                         <td>-1224.9611</td> <td>  545.105</td> <td>   -2.247</td> <td> 0.025</td> <td>-2297.199</td> <td> -152.723</td>\n",
       "</tr>\n",
       "<tr>\n",
       "  <th>Defense</th>                                                          <td>   -6.1989</td> <td>    2.174</td> <td>   -2.851</td> <td> 0.005</td> <td>  -10.475</td> <td>   -1.923</td>\n",
       "</tr>\n",
       "<tr>\n",
       "  <th>Defense:Legendary[T.True]</th>                                        <td> -102.4030</td> <td>   96.565</td> <td>   -1.060</td> <td> 0.290</td> <td> -292.350</td> <td>   87.544</td>\n",
       "</tr>\n",
       "<tr>\n",
       "  <th>Attack:Defense</th>                                                   <td>    0.0985</td> <td>    0.033</td> <td>    2.982</td> <td> 0.003</td> <td>    0.034</td> <td>    0.164</td>\n",
       "</tr>\n",
       "<tr>\n",
       "  <th>Attack:Defense:Legendary[T.True]</th>                                 <td>   14.6361</td> <td>    6.267</td> <td>    2.336</td> <td> 0.020</td> <td>    2.310</td> <td>   26.963</td>\n",
       "</tr>\n",
       "<tr>\n",
       "  <th>Speed</th>                                                            <td>   -7.2261</td> <td>    2.178</td> <td>   -3.318</td> <td> 0.001</td> <td>  -11.511</td> <td>   -2.942</td>\n",
       "</tr>\n",
       "<tr>\n",
       "  <th>Speed:Legendary[T.True]</th>                                          <td>  704.8799</td> <td>  337.855</td> <td>    2.086</td> <td> 0.038</td> <td>   40.309</td> <td> 1369.450</td>\n",
       "</tr>\n",
       "<tr>\n",
       "  <th>Attack:Speed</th>                                                     <td>    0.1264</td> <td>    0.038</td> <td>    3.351</td> <td> 0.001</td> <td>    0.052</td> <td>    0.201</td>\n",
       "</tr>\n",
       "<tr>\n",
       "  <th>Attack:Speed:Legendary[T.True]</th>                                   <td>    5.8648</td> <td>    2.692</td> <td>    2.179</td> <td> 0.030</td> <td>    0.570</td> <td>   11.160</td>\n",
       "</tr>\n",
       "<tr>\n",
       "  <th>Defense:Speed</th>                                                    <td>    0.1026</td> <td>    0.039</td> <td>    2.634</td> <td> 0.009</td> <td>    0.026</td> <td>    0.179</td>\n",
       "</tr>\n",
       "<tr>\n",
       "  <th>Defense:Speed:Legendary[T.True]</th>                                  <td>   -6.9266</td> <td>    3.465</td> <td>   -1.999</td> <td> 0.046</td> <td>  -13.742</td> <td>   -0.111</td>\n",
       "</tr>\n",
       "<tr>\n",
       "  <th>Attack:Defense:Speed</th>                                             <td>   -0.0016</td> <td>    0.001</td> <td>   -2.837</td> <td> 0.005</td> <td>   -0.003</td> <td>   -0.001</td>\n",
       "</tr>\n",
       "<tr>\n",
       "  <th>Attack:Defense:Speed:Legendary[T.True]</th>                           <td>   -0.0743</td> <td>    0.030</td> <td>   -2.477</td> <td> 0.014</td> <td>   -0.133</td> <td>   -0.015</td>\n",
       "</tr>\n",
       "<tr>\n",
       "  <th>Q(\"Sp. Def\")</th>                                                     <td>   -5.3982</td> <td>    1.938</td> <td>   -2.785</td> <td> 0.006</td> <td>   -9.211</td> <td>   -1.586</td>\n",
       "</tr>\n",
       "<tr>\n",
       "  <th>Legendary[T.True]:Q(\"Sp. Def\")</th>                                   <td> -282.2496</td> <td>  126.835</td> <td>   -2.225</td> <td> 0.027</td> <td> -531.738</td> <td>  -32.761</td>\n",
       "</tr>\n",
       "<tr>\n",
       "  <th>Attack:Q(\"Sp. Def\")</th>                                              <td>    0.1094</td> <td>    0.034</td> <td>    3.233</td> <td> 0.001</td> <td>    0.043</td> <td>    0.176</td>\n",
       "</tr>\n",
       "<tr>\n",
       "  <th>Attack:Legendary[T.True]:Q(\"Sp. Def\")</th>                            <td>   12.6503</td> <td>    5.851</td> <td>    2.162</td> <td> 0.031</td> <td>    1.141</td> <td>   24.160</td>\n",
       "</tr>\n",
       "<tr>\n",
       "  <th>Defense:Q(\"Sp. Def\")</th>                                             <td>    0.0628</td> <td>    0.028</td> <td>    2.247</td> <td> 0.025</td> <td>    0.008</td> <td>    0.118</td>\n",
       "</tr>\n",
       "<tr>\n",
       "  <th>Defense:Legendary[T.True]:Q(\"Sp. Def\")</th>                           <td>    3.3949</td> <td>    1.783</td> <td>    1.904</td> <td> 0.058</td> <td>   -0.112</td> <td>    6.902</td>\n",
       "</tr>\n",
       "<tr>\n",
       "  <th>Attack:Defense:Q(\"Sp. Def\")</th>                                      <td>   -0.0012</td> <td>    0.000</td> <td>   -2.730</td> <td> 0.007</td> <td>   -0.002</td> <td>   -0.000</td>\n",
       "</tr>\n",
       "<tr>\n",
       "  <th>Attack:Defense:Legendary[T.True]:Q(\"Sp. Def\")</th>                    <td>   -0.1456</td> <td>    0.065</td> <td>   -2.253</td> <td> 0.025</td> <td>   -0.273</td> <td>   -0.018</td>\n",
       "</tr>\n",
       "<tr>\n",
       "  <th>Speed:Q(\"Sp. Def\")</th>                                               <td>    0.0624</td> <td>    0.031</td> <td>    2.027</td> <td> 0.043</td> <td>    0.002</td> <td>    0.123</td>\n",
       "</tr>\n",
       "<tr>\n",
       "  <th>Speed:Legendary[T.True]:Q(\"Sp. Def\")</th>                             <td>   -3.2219</td> <td>    1.983</td> <td>   -1.625</td> <td> 0.105</td> <td>   -7.122</td> <td>    0.678</td>\n",
       "</tr>\n",
       "<tr>\n",
       "  <th>Attack:Speed:Q(\"Sp. Def\")</th>                                        <td>   -0.0014</td> <td>    0.001</td> <td>   -2.732</td> <td> 0.007</td> <td>   -0.002</td> <td>   -0.000</td>\n",
       "</tr>\n",
       "<tr>\n",
       "  <th>Attack:Speed:Legendary[T.True]:Q(\"Sp. Def\")</th>                      <td>   -0.0695</td> <td>    0.033</td> <td>   -2.100</td> <td> 0.036</td> <td>   -0.135</td> <td>   -0.004</td>\n",
       "</tr>\n",
       "<tr>\n",
       "  <th>Defense:Speed:Q(\"Sp. Def\")</th>                                       <td>   -0.0008</td> <td>    0.000</td> <td>   -1.743</td> <td> 0.082</td> <td>   -0.002</td> <td>    0.000</td>\n",
       "</tr>\n",
       "<tr>\n",
       "  <th>Defense:Speed:Legendary[T.True]:Q(\"Sp. Def\")</th>                     <td>    0.0334</td> <td>    0.021</td> <td>    1.569</td> <td> 0.117</td> <td>   -0.008</td> <td>    0.075</td>\n",
       "</tr>\n",
       "<tr>\n",
       "  <th>Attack:Defense:Speed:Q(\"Sp. Def\")</th>                                <td> 1.629e-05</td> <td> 6.92e-06</td> <td>    2.355</td> <td> 0.019</td> <td> 2.68e-06</td> <td> 2.99e-05</td>\n",
       "</tr>\n",
       "<tr>\n",
       "  <th>Attack:Defense:Speed:Legendary[T.True]:Q(\"Sp. Def\")</th>              <td>    0.0008</td> <td>    0.000</td> <td>    2.433</td> <td> 0.015</td> <td>    0.000</td> <td>    0.001</td>\n",
       "</tr>\n",
       "<tr>\n",
       "  <th>Q(\"Sp. Atk\")</th>                                                     <td>   -8.3636</td> <td>    2.346</td> <td>   -3.565</td> <td> 0.000</td> <td>  -12.978</td> <td>   -3.749</td>\n",
       "</tr>\n",
       "<tr>\n",
       "  <th>Legendary[T.True]:Q(\"Sp. Atk\")</th>                                   <td>  850.5436</td> <td>  385.064</td> <td>    2.209</td> <td> 0.028</td> <td>   93.112</td> <td> 1607.975</td>\n",
       "</tr>\n",
       "<tr>\n",
       "  <th>Attack:Q(\"Sp. Atk\")</th>                                              <td>    0.1388</td> <td>    0.040</td> <td>    3.500</td> <td> 0.001</td> <td>    0.061</td> <td>    0.217</td>\n",
       "</tr>\n",
       "<tr>\n",
       "  <th>Attack:Legendary[T.True]:Q(\"Sp. Atk\")</th>                            <td>    2.1809</td> <td>    1.136</td> <td>    1.920</td> <td> 0.056</td> <td>   -0.054</td> <td>    4.416</td>\n",
       "</tr>\n",
       "<tr>\n",
       "  <th>Defense:Q(\"Sp. Atk\")</th>                                             <td>    0.0831</td> <td>    0.038</td> <td>    2.162</td> <td> 0.031</td> <td>    0.007</td> <td>    0.159</td>\n",
       "</tr>\n",
       "<tr>\n",
       "  <th>Defense:Legendary[T.True]:Q(\"Sp. Atk\")</th>                           <td>   -7.3121</td> <td>    3.376</td> <td>   -2.166</td> <td> 0.031</td> <td>  -13.953</td> <td>   -0.671</td>\n",
       "</tr>\n",
       "<tr>\n",
       "  <th>Attack:Defense:Q(\"Sp. Atk\")</th>                                      <td>   -0.0014</td> <td>    0.001</td> <td>   -2.480</td> <td> 0.014</td> <td>   -0.003</td> <td>   -0.000</td>\n",
       "</tr>\n",
       "<tr>\n",
       "  <th>Attack:Defense:Legendary[T.True]:Q(\"Sp. Atk\")</th>                    <td>   -0.0434</td> <td>    0.022</td> <td>   -2.010</td> <td> 0.045</td> <td>   -0.086</td> <td>   -0.001</td>\n",
       "</tr>\n",
       "<tr>\n",
       "  <th>Speed:Q(\"Sp. Atk\")</th>                                               <td>    0.1011</td> <td>    0.035</td> <td>    2.872</td> <td> 0.004</td> <td>    0.032</td> <td>    0.170</td>\n",
       "</tr>\n",
       "<tr>\n",
       "  <th>Speed:Legendary[T.True]:Q(\"Sp. Atk\")</th>                             <td>  -12.6343</td> <td>    5.613</td> <td>   -2.251</td> <td> 0.025</td> <td>  -23.674</td> <td>   -1.594</td>\n",
       "</tr>\n",
       "<tr>\n",
       "  <th>Attack:Speed:Q(\"Sp. Atk\")</th>                                        <td>   -0.0018</td> <td>    0.001</td> <td>   -3.102</td> <td> 0.002</td> <td>   -0.003</td> <td>   -0.001</td>\n",
       "</tr>\n",
       "<tr>\n",
       "  <th>Attack:Speed:Legendary[T.True]:Q(\"Sp. Atk\")</th>                      <td>    0.0151</td> <td>    0.009</td> <td>    1.609</td> <td> 0.109</td> <td>   -0.003</td> <td>    0.034</td>\n",
       "</tr>\n",
       "<tr>\n",
       "  <th>Defense:Speed:Q(\"Sp. Atk\")</th>                                       <td>   -0.0012</td> <td>    0.001</td> <td>   -1.860</td> <td> 0.064</td> <td>   -0.002</td> <td> 6.62e-05</td>\n",
       "</tr>\n",
       "<tr>\n",
       "  <th>Defense:Speed:Legendary[T.True]:Q(\"Sp. Atk\")</th>                     <td>    0.1210</td> <td>    0.054</td> <td>    2.260</td> <td> 0.024</td> <td>    0.016</td> <td>    0.226</td>\n",
       "</tr>\n",
       "<tr>\n",
       "  <th>Attack:Defense:Speed:Q(\"Sp. Atk\")</th>                                <td> 2.125e-05</td> <td>  9.1e-06</td> <td>    2.334</td> <td> 0.020</td> <td> 3.34e-06</td> <td> 3.92e-05</td>\n",
       "</tr>\n",
       "<tr>\n",
       "  <th>Attack:Defense:Speed:Legendary[T.True]:Q(\"Sp. Atk\")</th>              <td> 6.438e-06</td> <td> 7.69e-05</td> <td>    0.084</td> <td> 0.933</td> <td>   -0.000</td> <td>    0.000</td>\n",
       "</tr>\n",
       "<tr>\n",
       "  <th>Q(\"Sp. Def\"):Q(\"Sp. Atk\")</th>                                        <td>    0.1265</td> <td>    0.033</td> <td>    3.821</td> <td> 0.000</td> <td>    0.061</td> <td>    0.192</td>\n",
       "</tr>\n",
       "<tr>\n",
       "  <th>Legendary[T.True]:Q(\"Sp. Def\"):Q(\"Sp. Atk\")</th>                      <td>   -5.0544</td> <td>    2.506</td> <td>   -2.017</td> <td> 0.044</td> <td>   -9.983</td> <td>   -0.126</td>\n",
       "</tr>\n",
       "<tr>\n",
       "  <th>Attack:Q(\"Sp. Def\"):Q(\"Sp. Atk\")</th>                                 <td>   -0.0021</td> <td>    0.001</td> <td>   -3.606</td> <td> 0.000</td> <td>   -0.003</td> <td>   -0.001</td>\n",
       "</tr>\n",
       "<tr>\n",
       "  <th>Attack:Legendary[T.True]:Q(\"Sp. Def\"):Q(\"Sp. Atk\")</th>               <td>   -0.0346</td> <td>    0.017</td> <td>   -1.992</td> <td> 0.047</td> <td>   -0.069</td> <td>   -0.000</td>\n",
       "</tr>\n",
       "<tr>\n",
       "  <th>Defense:Q(\"Sp. Def\"):Q(\"Sp. Atk\")</th>                                <td>   -0.0012</td> <td>    0.000</td> <td>   -2.406</td> <td> 0.017</td> <td>   -0.002</td> <td>   -0.000</td>\n",
       "</tr>\n",
       "<tr>\n",
       "  <th>Defense:Legendary[T.True]:Q(\"Sp. Def\"):Q(\"Sp. Atk\")</th>              <td>    0.0446</td> <td>    0.025</td> <td>    1.794</td> <td> 0.074</td> <td>   -0.004</td> <td>    0.093</td>\n",
       "</tr>\n",
       "<tr>\n",
       "  <th>Attack:Defense:Q(\"Sp. Def\"):Q(\"Sp. Atk\")</th>                         <td> 1.973e-05</td> <td> 7.28e-06</td> <td>    2.710</td> <td> 0.007</td> <td> 5.41e-06</td> <td>  3.4e-05</td>\n",
       "</tr>\n",
       "<tr>\n",
       "  <th>Attack:Defense:Legendary[T.True]:Q(\"Sp. Def\"):Q(\"Sp. Atk\")</th>       <td>    0.0005</td> <td>    0.000</td> <td>    1.957</td> <td> 0.051</td> <td>-2.56e-06</td> <td>    0.001</td>\n",
       "</tr>\n",
       "<tr>\n",
       "  <th>Speed:Q(\"Sp. Def\"):Q(\"Sp. Atk\")</th>                                  <td>   -0.0013</td> <td>    0.000</td> <td>   -2.740</td> <td> 0.006</td> <td>   -0.002</td> <td>   -0.000</td>\n",
       "</tr>\n",
       "<tr>\n",
       "  <th>Speed:Legendary[T.True]:Q(\"Sp. Def\"):Q(\"Sp. Atk\")</th>                <td>    0.0841</td> <td>    0.040</td> <td>    2.125</td> <td> 0.034</td> <td>    0.006</td> <td>    0.162</td>\n",
       "</tr>\n",
       "<tr>\n",
       "  <th>Attack:Speed:Q(\"Sp. Def\"):Q(\"Sp. Atk\")</th>                           <td> 2.379e-05</td> <td> 7.85e-06</td> <td>    3.030</td> <td> 0.003</td> <td> 8.34e-06</td> <td> 3.92e-05</td>\n",
       "</tr>\n",
       "<tr>\n",
       "  <th>Attack:Speed:Legendary[T.True]:Q(\"Sp. Def\"):Q(\"Sp. Atk\")</th>         <td> 2.864e-05</td> <td> 7.73e-05</td> <td>    0.370</td> <td> 0.711</td> <td>   -0.000</td> <td>    0.000</td>\n",
       "</tr>\n",
       "<tr>\n",
       "  <th>Defense:Speed:Q(\"Sp. Def\"):Q(\"Sp. Atk\")</th>                          <td> 1.284e-05</td> <td> 7.46e-06</td> <td>    1.721</td> <td> 0.086</td> <td>-1.83e-06</td> <td> 2.75e-05</td>\n",
       "</tr>\n",
       "<tr>\n",
       "  <th>Defense:Speed:Legendary[T.True]:Q(\"Sp. Def\"):Q(\"Sp. Atk\")</th>        <td>   -0.0008</td> <td>    0.000</td> <td>   -2.085</td> <td> 0.038</td> <td>   -0.002</td> <td>-4.68e-05</td>\n",
       "</tr>\n",
       "<tr>\n",
       "  <th>Attack:Defense:Speed:Q(\"Sp. Def\"):Q(\"Sp. Atk\")</th>                   <td> -2.53e-07</td> <td>  1.1e-07</td> <td>   -2.292</td> <td> 0.023</td> <td> -4.7e-07</td> <td>-3.59e-08</td>\n",
       "</tr>\n",
       "<tr>\n",
       "  <th>Attack:Defense:Speed:Legendary[T.True]:Q(\"Sp. Def\"):Q(\"Sp. Atk\")</th> <td>-1.425e-06</td> <td> 1.14e-06</td> <td>   -1.249</td> <td> 0.212</td> <td>-3.67e-06</td> <td> 8.19e-07</td>\n",
       "</tr>\n",
       "</table>\n",
       "<table class=\"simpletable\">\n",
       "<tr>\n",
       "  <th>Omnibus:</th>       <td>214.307</td> <th>  Durbin-Watson:     </th> <td>   1.992</td>\n",
       "</tr>\n",
       "<tr>\n",
       "  <th>Prob(Omnibus):</th> <td> 0.000</td>  <th>  Jarque-Bera (JB):  </th> <td>2354.660</td>\n",
       "</tr>\n",
       "<tr>\n",
       "  <th>Skew:</th>          <td> 2.026</td>  <th>  Prob(JB):          </th> <td>    0.00</td>\n",
       "</tr>\n",
       "<tr>\n",
       "  <th>Kurtosis:</th>      <td>14.174</td>  <th>  Cond. No.          </th> <td>1.20e+16</td>\n",
       "</tr>\n",
       "</table><br/><br/>Notes:<br/>[1] Standard Errors assume that the covariance matrix of the errors is correctly specified.<br/>[2] The condition number is large, 1.2e+16. This might indicate that there are<br/>strong multicollinearity or other numerical problems."
      ],
      "text/latex": [
       "\\begin{center}\n",
       "\\begin{tabular}{lclc}\n",
       "\\toprule\n",
       "\\textbf{Dep. Variable:}                                                   &        HP        & \\textbf{  R-squared:         } &     0.467   \\\\\n",
       "\\textbf{Model:}                                                           &       OLS        & \\textbf{  Adj. R-squared:    } &     0.369   \\\\\n",
       "\\textbf{Method:}                                                          &  Least Squares   & \\textbf{  F-statistic:       } &     4.764   \\\\\n",
       "\\textbf{Date:}                                                            & Thu, 14 Nov 2024 & \\textbf{  Prob (F-statistic):} &  4.23e-21   \\\\\n",
       "\\textbf{Time:}                                                            &     14:25:05     & \\textbf{  Log-Likelihood:    } &   -1738.6   \\\\\n",
       "\\textbf{No. Observations:}                                                &         400      & \\textbf{  AIC:               } &     3603.   \\\\\n",
       "\\textbf{Df Residuals:}                                                    &         337      & \\textbf{  BIC:               } &     3855.   \\\\\n",
       "\\textbf{Df Model:}                                                        &          62      & \\textbf{                     } &             \\\\\n",
       "\\textbf{Covariance Type:}                                                 &    nonrobust     & \\textbf{                     } &             \\\\\n",
       "\\bottomrule\n",
       "\\end{tabular}\n",
       "\\begin{tabular}{lcccccc}\n",
       "                                                                          & \\textbf{coef} & \\textbf{std err} & \\textbf{t} & \\textbf{P$> |$t$|$} & \\textbf{[0.025} & \\textbf{0.975]}  \\\\\n",
       "\\midrule\n",
       "\\textbf{Intercept}                                                        &     521.5715  &      130.273     &     4.004  &         0.000        &      265.322    &      777.821     \\\\\n",
       "\\textbf{Legendary[T.True]}                                                &      -6.1180  &        2.846     &    -2.150  &         0.032        &      -11.716    &       -0.520     \\\\\n",
       "\\textbf{Attack}                                                           &      -8.1938  &        2.329     &    -3.518  &         0.000        &      -12.775    &       -3.612     \\\\\n",
       "\\textbf{Attack:Legendary[T.True]}                                         &   -1224.9611  &      545.105     &    -2.247  &         0.025        &    -2297.199    &     -152.723     \\\\\n",
       "\\textbf{Defense}                                                          &      -6.1989  &        2.174     &    -2.851  &         0.005        &      -10.475    &       -1.923     \\\\\n",
       "\\textbf{Defense:Legendary[T.True]}                                        &    -102.4030  &       96.565     &    -1.060  &         0.290        &     -292.350    &       87.544     \\\\\n",
       "\\textbf{Attack:Defense}                                                   &       0.0985  &        0.033     &     2.982  &         0.003        &        0.034    &        0.164     \\\\\n",
       "\\textbf{Attack:Defense:Legendary[T.True]}                                 &      14.6361  &        6.267     &     2.336  &         0.020        &        2.310    &       26.963     \\\\\n",
       "\\textbf{Speed}                                                            &      -7.2261  &        2.178     &    -3.318  &         0.001        &      -11.511    &       -2.942     \\\\\n",
       "\\textbf{Speed:Legendary[T.True]}                                          &     704.8799  &      337.855     &     2.086  &         0.038        &       40.309    &     1369.450     \\\\\n",
       "\\textbf{Attack:Speed}                                                     &       0.1264  &        0.038     &     3.351  &         0.001        &        0.052    &        0.201     \\\\\n",
       "\\textbf{Attack:Speed:Legendary[T.True]}                                   &       5.8648  &        2.692     &     2.179  &         0.030        &        0.570    &       11.160     \\\\\n",
       "\\textbf{Defense:Speed}                                                    &       0.1026  &        0.039     &     2.634  &         0.009        &        0.026    &        0.179     \\\\\n",
       "\\textbf{Defense:Speed:Legendary[T.True]}                                  &      -6.9266  &        3.465     &    -1.999  &         0.046        &      -13.742    &       -0.111     \\\\\n",
       "\\textbf{Attack:Defense:Speed}                                             &      -0.0016  &        0.001     &    -2.837  &         0.005        &       -0.003    &       -0.001     \\\\\n",
       "\\textbf{Attack:Defense:Speed:Legendary[T.True]}                           &      -0.0743  &        0.030     &    -2.477  &         0.014        &       -0.133    &       -0.015     \\\\\n",
       "\\textbf{Q(\"Sp. Def\")}                                                     &      -5.3982  &        1.938     &    -2.785  &         0.006        &       -9.211    &       -1.586     \\\\\n",
       "\\textbf{Legendary[T.True]:Q(\"Sp. Def\")}                                   &    -282.2496  &      126.835     &    -2.225  &         0.027        &     -531.738    &      -32.761     \\\\\n",
       "\\textbf{Attack:Q(\"Sp. Def\")}                                              &       0.1094  &        0.034     &     3.233  &         0.001        &        0.043    &        0.176     \\\\\n",
       "\\textbf{Attack:Legendary[T.True]:Q(\"Sp. Def\")}                            &      12.6503  &        5.851     &     2.162  &         0.031        &        1.141    &       24.160     \\\\\n",
       "\\textbf{Defense:Q(\"Sp. Def\")}                                             &       0.0628  &        0.028     &     2.247  &         0.025        &        0.008    &        0.118     \\\\\n",
       "\\textbf{Defense:Legendary[T.True]:Q(\"Sp. Def\")}                           &       3.3949  &        1.783     &     1.904  &         0.058        &       -0.112    &        6.902     \\\\\n",
       "\\textbf{Attack:Defense:Q(\"Sp. Def\")}                                      &      -0.0012  &        0.000     &    -2.730  &         0.007        &       -0.002    &       -0.000     \\\\\n",
       "\\textbf{Attack:Defense:Legendary[T.True]:Q(\"Sp. Def\")}                    &      -0.1456  &        0.065     &    -2.253  &         0.025        &       -0.273    &       -0.018     \\\\\n",
       "\\textbf{Speed:Q(\"Sp. Def\")}                                               &       0.0624  &        0.031     &     2.027  &         0.043        &        0.002    &        0.123     \\\\\n",
       "\\textbf{Speed:Legendary[T.True]:Q(\"Sp. Def\")}                             &      -3.2219  &        1.983     &    -1.625  &         0.105        &       -7.122    &        0.678     \\\\\n",
       "\\textbf{Attack:Speed:Q(\"Sp. Def\")}                                        &      -0.0014  &        0.001     &    -2.732  &         0.007        &       -0.002    &       -0.000     \\\\\n",
       "\\textbf{Attack:Speed:Legendary[T.True]:Q(\"Sp. Def\")}                      &      -0.0695  &        0.033     &    -2.100  &         0.036        &       -0.135    &       -0.004     \\\\\n",
       "\\textbf{Defense:Speed:Q(\"Sp. Def\")}                                       &      -0.0008  &        0.000     &    -1.743  &         0.082        &       -0.002    &        0.000     \\\\\n",
       "\\textbf{Defense:Speed:Legendary[T.True]:Q(\"Sp. Def\")}                     &       0.0334  &        0.021     &     1.569  &         0.117        &       -0.008    &        0.075     \\\\\n",
       "\\textbf{Attack:Defense:Speed:Q(\"Sp. Def\")}                                &    1.629e-05  &     6.92e-06     &     2.355  &         0.019        &     2.68e-06    &     2.99e-05     \\\\\n",
       "\\textbf{Attack:Defense:Speed:Legendary[T.True]:Q(\"Sp. Def\")}              &       0.0008  &        0.000     &     2.433  &         0.015        &        0.000    &        0.001     \\\\\n",
       "\\textbf{Q(\"Sp. Atk\")}                                                     &      -8.3636  &        2.346     &    -3.565  &         0.000        &      -12.978    &       -3.749     \\\\\n",
       "\\textbf{Legendary[T.True]:Q(\"Sp. Atk\")}                                   &     850.5436  &      385.064     &     2.209  &         0.028        &       93.112    &     1607.975     \\\\\n",
       "\\textbf{Attack:Q(\"Sp. Atk\")}                                              &       0.1388  &        0.040     &     3.500  &         0.001        &        0.061    &        0.217     \\\\\n",
       "\\textbf{Attack:Legendary[T.True]:Q(\"Sp. Atk\")}                            &       2.1809  &        1.136     &     1.920  &         0.056        &       -0.054    &        4.416     \\\\\n",
       "\\textbf{Defense:Q(\"Sp. Atk\")}                                             &       0.0831  &        0.038     &     2.162  &         0.031        &        0.007    &        0.159     \\\\\n",
       "\\textbf{Defense:Legendary[T.True]:Q(\"Sp. Atk\")}                           &      -7.3121  &        3.376     &    -2.166  &         0.031        &      -13.953    &       -0.671     \\\\\n",
       "\\textbf{Attack:Defense:Q(\"Sp. Atk\")}                                      &      -0.0014  &        0.001     &    -2.480  &         0.014        &       -0.003    &       -0.000     \\\\\n",
       "\\textbf{Attack:Defense:Legendary[T.True]:Q(\"Sp. Atk\")}                    &      -0.0434  &        0.022     &    -2.010  &         0.045        &       -0.086    &       -0.001     \\\\\n",
       "\\textbf{Speed:Q(\"Sp. Atk\")}                                               &       0.1011  &        0.035     &     2.872  &         0.004        &        0.032    &        0.170     \\\\\n",
       "\\textbf{Speed:Legendary[T.True]:Q(\"Sp. Atk\")}                             &     -12.6343  &        5.613     &    -2.251  &         0.025        &      -23.674    &       -1.594     \\\\\n",
       "\\textbf{Attack:Speed:Q(\"Sp. Atk\")}                                        &      -0.0018  &        0.001     &    -3.102  &         0.002        &       -0.003    &       -0.001     \\\\\n",
       "\\textbf{Attack:Speed:Legendary[T.True]:Q(\"Sp. Atk\")}                      &       0.0151  &        0.009     &     1.609  &         0.109        &       -0.003    &        0.034     \\\\\n",
       "\\textbf{Defense:Speed:Q(\"Sp. Atk\")}                                       &      -0.0012  &        0.001     &    -1.860  &         0.064        &       -0.002    &     6.62e-05     \\\\\n",
       "\\textbf{Defense:Speed:Legendary[T.True]:Q(\"Sp. Atk\")}                     &       0.1210  &        0.054     &     2.260  &         0.024        &        0.016    &        0.226     \\\\\n",
       "\\textbf{Attack:Defense:Speed:Q(\"Sp. Atk\")}                                &    2.125e-05  &      9.1e-06     &     2.334  &         0.020        &     3.34e-06    &     3.92e-05     \\\\\n",
       "\\textbf{Attack:Defense:Speed:Legendary[T.True]:Q(\"Sp. Atk\")}              &    6.438e-06  &     7.69e-05     &     0.084  &         0.933        &       -0.000    &        0.000     \\\\\n",
       "\\textbf{Q(\"Sp. Def\"):Q(\"Sp. Atk\")}                                        &       0.1265  &        0.033     &     3.821  &         0.000        &        0.061    &        0.192     \\\\\n",
       "\\textbf{Legendary[T.True]:Q(\"Sp. Def\"):Q(\"Sp. Atk\")}                      &      -5.0544  &        2.506     &    -2.017  &         0.044        &       -9.983    &       -0.126     \\\\\n",
       "\\textbf{Attack:Q(\"Sp. Def\"):Q(\"Sp. Atk\")}                                 &      -0.0021  &        0.001     &    -3.606  &         0.000        &       -0.003    &       -0.001     \\\\\n",
       "\\textbf{Attack:Legendary[T.True]:Q(\"Sp. Def\"):Q(\"Sp. Atk\")}               &      -0.0346  &        0.017     &    -1.992  &         0.047        &       -0.069    &       -0.000     \\\\\n",
       "\\textbf{Defense:Q(\"Sp. Def\"):Q(\"Sp. Atk\")}                                &      -0.0012  &        0.000     &    -2.406  &         0.017        &       -0.002    &       -0.000     \\\\\n",
       "\\textbf{Defense:Legendary[T.True]:Q(\"Sp. Def\"):Q(\"Sp. Atk\")}              &       0.0446  &        0.025     &     1.794  &         0.074        &       -0.004    &        0.093     \\\\\n",
       "\\textbf{Attack:Defense:Q(\"Sp. Def\"):Q(\"Sp. Atk\")}                         &    1.973e-05  &     7.28e-06     &     2.710  &         0.007        &     5.41e-06    &      3.4e-05     \\\\\n",
       "\\textbf{Attack:Defense:Legendary[T.True]:Q(\"Sp. Def\"):Q(\"Sp. Atk\")}       &       0.0005  &        0.000     &     1.957  &         0.051        &    -2.56e-06    &        0.001     \\\\\n",
       "\\textbf{Speed:Q(\"Sp. Def\"):Q(\"Sp. Atk\")}                                  &      -0.0013  &        0.000     &    -2.740  &         0.006        &       -0.002    &       -0.000     \\\\\n",
       "\\textbf{Speed:Legendary[T.True]:Q(\"Sp. Def\"):Q(\"Sp. Atk\")}                &       0.0841  &        0.040     &     2.125  &         0.034        &        0.006    &        0.162     \\\\\n",
       "\\textbf{Attack:Speed:Q(\"Sp. Def\"):Q(\"Sp. Atk\")}                           &    2.379e-05  &     7.85e-06     &     3.030  &         0.003        &     8.34e-06    &     3.92e-05     \\\\\n",
       "\\textbf{Attack:Speed:Legendary[T.True]:Q(\"Sp. Def\"):Q(\"Sp. Atk\")}         &    2.864e-05  &     7.73e-05     &     0.370  &         0.711        &       -0.000    &        0.000     \\\\\n",
       "\\textbf{Defense:Speed:Q(\"Sp. Def\"):Q(\"Sp. Atk\")}                          &    1.284e-05  &     7.46e-06     &     1.721  &         0.086        &    -1.83e-06    &     2.75e-05     \\\\\n",
       "\\textbf{Defense:Speed:Legendary[T.True]:Q(\"Sp. Def\"):Q(\"Sp. Atk\")}        &      -0.0008  &        0.000     &    -2.085  &         0.038        &       -0.002    &    -4.68e-05     \\\\\n",
       "\\textbf{Attack:Defense:Speed:Q(\"Sp. Def\"):Q(\"Sp. Atk\")}                   &    -2.53e-07  &      1.1e-07     &    -2.292  &         0.023        &     -4.7e-07    &    -3.59e-08     \\\\\n",
       "\\textbf{Attack:Defense:Speed:Legendary[T.True]:Q(\"Sp. Def\"):Q(\"Sp. Atk\")} &   -1.425e-06  &     1.14e-06     &    -1.249  &         0.212        &    -3.67e-06    &     8.19e-07     \\\\\n",
       "\\bottomrule\n",
       "\\end{tabular}\n",
       "\\begin{tabular}{lclc}\n",
       "\\textbf{Omnibus:}       & 214.307 & \\textbf{  Durbin-Watson:     } &    1.992  \\\\\n",
       "\\textbf{Prob(Omnibus):} &   0.000 & \\textbf{  Jarque-Bera (JB):  } & 2354.660  \\\\\n",
       "\\textbf{Skew:}          &   2.026 & \\textbf{  Prob(JB):          } &     0.00  \\\\\n",
       "\\textbf{Kurtosis:}      &  14.174 & \\textbf{  Cond. No.          } & 1.20e+16  \\\\\n",
       "\\bottomrule\n",
       "\\end{tabular}\n",
       "%\\caption{OLS Regression Results}\n",
       "\\end{center}\n",
       "\n",
       "Notes: \\newline\n",
       " [1] Standard Errors assume that the covariance matrix of the errors is correctly specified. \\newline\n",
       " [2] The condition number is large, 1.2e+16. This might indicate that there are \\newline\n",
       " strong multicollinearity or other numerical problems."
      ],
      "text/plain": [
       "<class 'statsmodels.iolib.summary.Summary'>\n",
       "\"\"\"\n",
       "                            OLS Regression Results                            \n",
       "==============================================================================\n",
       "Dep. Variable:                     HP   R-squared:                       0.467\n",
       "Model:                            OLS   Adj. R-squared:                  0.369\n",
       "Method:                 Least Squares   F-statistic:                     4.764\n",
       "Date:                Thu, 14 Nov 2024   Prob (F-statistic):           4.23e-21\n",
       "Time:                        14:25:05   Log-Likelihood:                -1738.6\n",
       "No. Observations:                 400   AIC:                             3603.\n",
       "Df Residuals:                     337   BIC:                             3855.\n",
       "Df Model:                          62                                         \n",
       "Covariance Type:            nonrobust                                         \n",
       "====================================================================================================================================\n",
       "                                                                       coef    std err          t      P>|t|      [0.025      0.975]\n",
       "------------------------------------------------------------------------------------------------------------------------------------\n",
       "Intercept                                                          521.5715    130.273      4.004      0.000     265.322     777.821\n",
       "Legendary[T.True]                                                   -6.1180      2.846     -2.150      0.032     -11.716      -0.520\n",
       "Attack                                                              -8.1938      2.329     -3.518      0.000     -12.775      -3.612\n",
       "Attack:Legendary[T.True]                                         -1224.9611    545.105     -2.247      0.025   -2297.199    -152.723\n",
       "Defense                                                             -6.1989      2.174     -2.851      0.005     -10.475      -1.923\n",
       "Defense:Legendary[T.True]                                         -102.4030     96.565     -1.060      0.290    -292.350      87.544\n",
       "Attack:Defense                                                       0.0985      0.033      2.982      0.003       0.034       0.164\n",
       "Attack:Defense:Legendary[T.True]                                    14.6361      6.267      2.336      0.020       2.310      26.963\n",
       "Speed                                                               -7.2261      2.178     -3.318      0.001     -11.511      -2.942\n",
       "Speed:Legendary[T.True]                                            704.8799    337.855      2.086      0.038      40.309    1369.450\n",
       "Attack:Speed                                                         0.1264      0.038      3.351      0.001       0.052       0.201\n",
       "Attack:Speed:Legendary[T.True]                                       5.8648      2.692      2.179      0.030       0.570      11.160\n",
       "Defense:Speed                                                        0.1026      0.039      2.634      0.009       0.026       0.179\n",
       "Defense:Speed:Legendary[T.True]                                     -6.9266      3.465     -1.999      0.046     -13.742      -0.111\n",
       "Attack:Defense:Speed                                                -0.0016      0.001     -2.837      0.005      -0.003      -0.001\n",
       "Attack:Defense:Speed:Legendary[T.True]                              -0.0743      0.030     -2.477      0.014      -0.133      -0.015\n",
       "Q(\"Sp. Def\")                                                        -5.3982      1.938     -2.785      0.006      -9.211      -1.586\n",
       "Legendary[T.True]:Q(\"Sp. Def\")                                    -282.2496    126.835     -2.225      0.027    -531.738     -32.761\n",
       "Attack:Q(\"Sp. Def\")                                                  0.1094      0.034      3.233      0.001       0.043       0.176\n",
       "Attack:Legendary[T.True]:Q(\"Sp. Def\")                               12.6503      5.851      2.162      0.031       1.141      24.160\n",
       "Defense:Q(\"Sp. Def\")                                                 0.0628      0.028      2.247      0.025       0.008       0.118\n",
       "Defense:Legendary[T.True]:Q(\"Sp. Def\")                               3.3949      1.783      1.904      0.058      -0.112       6.902\n",
       "Attack:Defense:Q(\"Sp. Def\")                                         -0.0012      0.000     -2.730      0.007      -0.002      -0.000\n",
       "Attack:Defense:Legendary[T.True]:Q(\"Sp. Def\")                       -0.1456      0.065     -2.253      0.025      -0.273      -0.018\n",
       "Speed:Q(\"Sp. Def\")                                                   0.0624      0.031      2.027      0.043       0.002       0.123\n",
       "Speed:Legendary[T.True]:Q(\"Sp. Def\")                                -3.2219      1.983     -1.625      0.105      -7.122       0.678\n",
       "Attack:Speed:Q(\"Sp. Def\")                                           -0.0014      0.001     -2.732      0.007      -0.002      -0.000\n",
       "Attack:Speed:Legendary[T.True]:Q(\"Sp. Def\")                         -0.0695      0.033     -2.100      0.036      -0.135      -0.004\n",
       "Defense:Speed:Q(\"Sp. Def\")                                          -0.0008      0.000     -1.743      0.082      -0.002       0.000\n",
       "Defense:Speed:Legendary[T.True]:Q(\"Sp. Def\")                         0.0334      0.021      1.569      0.117      -0.008       0.075\n",
       "Attack:Defense:Speed:Q(\"Sp. Def\")                                 1.629e-05   6.92e-06      2.355      0.019    2.68e-06    2.99e-05\n",
       "Attack:Defense:Speed:Legendary[T.True]:Q(\"Sp. Def\")                  0.0008      0.000      2.433      0.015       0.000       0.001\n",
       "Q(\"Sp. Atk\")                                                        -8.3636      2.346     -3.565      0.000     -12.978      -3.749\n",
       "Legendary[T.True]:Q(\"Sp. Atk\")                                     850.5436    385.064      2.209      0.028      93.112    1607.975\n",
       "Attack:Q(\"Sp. Atk\")                                                  0.1388      0.040      3.500      0.001       0.061       0.217\n",
       "Attack:Legendary[T.True]:Q(\"Sp. Atk\")                                2.1809      1.136      1.920      0.056      -0.054       4.416\n",
       "Defense:Q(\"Sp. Atk\")                                                 0.0831      0.038      2.162      0.031       0.007       0.159\n",
       "Defense:Legendary[T.True]:Q(\"Sp. Atk\")                              -7.3121      3.376     -2.166      0.031     -13.953      -0.671\n",
       "Attack:Defense:Q(\"Sp. Atk\")                                         -0.0014      0.001     -2.480      0.014      -0.003      -0.000\n",
       "Attack:Defense:Legendary[T.True]:Q(\"Sp. Atk\")                       -0.0434      0.022     -2.010      0.045      -0.086      -0.001\n",
       "Speed:Q(\"Sp. Atk\")                                                   0.1011      0.035      2.872      0.004       0.032       0.170\n",
       "Speed:Legendary[T.True]:Q(\"Sp. Atk\")                               -12.6343      5.613     -2.251      0.025     -23.674      -1.594\n",
       "Attack:Speed:Q(\"Sp. Atk\")                                           -0.0018      0.001     -3.102      0.002      -0.003      -0.001\n",
       "Attack:Speed:Legendary[T.True]:Q(\"Sp. Atk\")                          0.0151      0.009      1.609      0.109      -0.003       0.034\n",
       "Defense:Speed:Q(\"Sp. Atk\")                                          -0.0012      0.001     -1.860      0.064      -0.002    6.62e-05\n",
       "Defense:Speed:Legendary[T.True]:Q(\"Sp. Atk\")                         0.1210      0.054      2.260      0.024       0.016       0.226\n",
       "Attack:Defense:Speed:Q(\"Sp. Atk\")                                 2.125e-05    9.1e-06      2.334      0.020    3.34e-06    3.92e-05\n",
       "Attack:Defense:Speed:Legendary[T.True]:Q(\"Sp. Atk\")               6.438e-06   7.69e-05      0.084      0.933      -0.000       0.000\n",
       "Q(\"Sp. Def\"):Q(\"Sp. Atk\")                                            0.1265      0.033      3.821      0.000       0.061       0.192\n",
       "Legendary[T.True]:Q(\"Sp. Def\"):Q(\"Sp. Atk\")                         -5.0544      2.506     -2.017      0.044      -9.983      -0.126\n",
       "Attack:Q(\"Sp. Def\"):Q(\"Sp. Atk\")                                    -0.0021      0.001     -3.606      0.000      -0.003      -0.001\n",
       "Attack:Legendary[T.True]:Q(\"Sp. Def\"):Q(\"Sp. Atk\")                  -0.0346      0.017     -1.992      0.047      -0.069      -0.000\n",
       "Defense:Q(\"Sp. Def\"):Q(\"Sp. Atk\")                                   -0.0012      0.000     -2.406      0.017      -0.002      -0.000\n",
       "Defense:Legendary[T.True]:Q(\"Sp. Def\"):Q(\"Sp. Atk\")                  0.0446      0.025      1.794      0.074      -0.004       0.093\n",
       "Attack:Defense:Q(\"Sp. Def\"):Q(\"Sp. Atk\")                          1.973e-05   7.28e-06      2.710      0.007    5.41e-06     3.4e-05\n",
       "Attack:Defense:Legendary[T.True]:Q(\"Sp. Def\"):Q(\"Sp. Atk\")           0.0005      0.000      1.957      0.051   -2.56e-06       0.001\n",
       "Speed:Q(\"Sp. Def\"):Q(\"Sp. Atk\")                                     -0.0013      0.000     -2.740      0.006      -0.002      -0.000\n",
       "Speed:Legendary[T.True]:Q(\"Sp. Def\"):Q(\"Sp. Atk\")                    0.0841      0.040      2.125      0.034       0.006       0.162\n",
       "Attack:Speed:Q(\"Sp. Def\"):Q(\"Sp. Atk\")                            2.379e-05   7.85e-06      3.030      0.003    8.34e-06    3.92e-05\n",
       "Attack:Speed:Legendary[T.True]:Q(\"Sp. Def\"):Q(\"Sp. Atk\")          2.864e-05   7.73e-05      0.370      0.711      -0.000       0.000\n",
       "Defense:Speed:Q(\"Sp. Def\"):Q(\"Sp. Atk\")                           1.284e-05   7.46e-06      1.721      0.086   -1.83e-06    2.75e-05\n",
       "Defense:Speed:Legendary[T.True]:Q(\"Sp. Def\"):Q(\"Sp. Atk\")           -0.0008      0.000     -2.085      0.038      -0.002   -4.68e-05\n",
       "Attack:Defense:Speed:Q(\"Sp. Def\"):Q(\"Sp. Atk\")                    -2.53e-07    1.1e-07     -2.292      0.023    -4.7e-07   -3.59e-08\n",
       "Attack:Defense:Speed:Legendary[T.True]:Q(\"Sp. Def\"):Q(\"Sp. Atk\") -1.425e-06   1.14e-06     -1.249      0.212   -3.67e-06    8.19e-07\n",
       "==============================================================================\n",
       "Omnibus:                      214.307   Durbin-Watson:                   1.992\n",
       "Prob(Omnibus):                  0.000   Jarque-Bera (JB):             2354.660\n",
       "Skew:                           2.026   Prob(JB):                         0.00\n",
       "Kurtosis:                      14.174   Cond. No.                     1.20e+16\n",
       "==============================================================================\n",
       "\n",
       "Notes:\n",
       "[1] Standard Errors assume that the covariance matrix of the errors is correctly specified.\n",
       "[2] The condition number is large, 1.2e+16. This might indicate that there are\n",
       "strong multicollinearity or other numerical problems.\n",
       "\"\"\""
      ]
     },
     "execution_count": 53,
     "metadata": {},
     "output_type": "execute_result"
    }
   ],
   "source": [
    "model4_linear_form = 'HP ~ Attack * Defense * Speed * Legendary'\n",
    "model4_linear_form += ' * Q(\"Sp. Def\") * Q(\"Sp. Atk\")'\n",
    "# DO NOT try adding '* C(Generation) * C(Q(\"Type 1\")) * C(Q(\"Type 2\"))'\n",
    "# That's 6*18*19 = 6*18*19 possible interaction combinations...\n",
    "# ...a huge number that will blow up your computer\n",
    "\n",
    "model4_spec = smf.ols(formula=model4_linear_form, data=pokeaman_train)\n",
    "model4_fit = model4_spec.fit()\n",
    "model4_fit.summary()"
   ]
  },
  {
   "cell_type": "code",
   "execution_count": 54,
   "id": "6ebdb524-47fc-4a95-be07-3d64f1c1bac3",
   "metadata": {},
   "outputs": [
    {
     "name": "stdout",
     "output_type": "stream",
     "text": [
      "'In sample' R-squared:     0.4670944211558056\n",
      "'Out of sample' R-squared: 0.002485337858882326\n"
     ]
    }
   ],
   "source": [
    "yhat_model4 = model4_fit.predict(pokeaman_test)\n",
    "y = pokeaman_test.HP\n",
    "print(\"'In sample' R-squared:    \", model4_fit.rsquared)\n",
    "print(\"'Out of sample' R-squared:\", np.corrcoef(y,yhat_model4)[0,1]**2)"
   ]
  },
  {
   "cell_type": "markdown",
   "id": "0f5ca01e-55ba-44d1-8935-2787cad5b660",
   "metadata": {},
   "source": [
    "First cell: \n",
    "- randomly splits the pokemon dataset into two\n",
    "- preprocessing on 'Type 2' column\n",
    "\n",
    "Second cell: \n",
    "- fits regression line using OLS on the formula $HP = b_0 + Attack * b_1 + Defense * b_2$\n",
    "- There is strong evidence against the null hypothesis that both factors affect HP, but $b_1$ and $b_2$ are very low for both and R^2 is only 0.148\n",
    "\n",
    "Third cell: \n",
    "- tries to predict values on the test dataset, which is an entirely new dataset that the regression model has not trained on before\n",
    "- 0.14 for in sample r-squared vs 0.21 for out of sample means that the model predicts values that it has not been trained on better than the training dataset? This can be due to chance\n",
    "\n",
    "Fourth cell: \n",
    "- trains new model on the same dataset, but looking at the interaction between Attack, Defense, Speed and more predictor variables than in the first model\n",
    "\n",
    "Fifth cell: \n",
    "- Out of sample r-squared is way lower than in sample, because the model overfitted by predicting too many variables that may not have an actual correlation with the outcome variable, meaning that it is not useful at all outside of the training dataset and does not generalize well."
   ]
  },
  {
   "cell_type": "markdown",
   "id": "bf869a64-fa35-4bb5-81db-83ddb4c669f0",
   "metadata": {},
   "source": [
    "#### 6:\n"
   ]
  },
  {
   "cell_type": "markdown",
   "id": "6c98ce0f-5f80-4663-8ce2-77562add4984",
   "metadata": {},
   "source": [
    "A design matrix (``model.exog``) outputs columns for each unique interaction (eg. Attack * Defense and how that affects the HP when the rest are the same). \n",
    "\n",
    "Multicollinearity occurs when one predictor variable highly influences another predictor variable (e.g area of a house and number of rooms it has) and so it's hard to differentiate which one affects the predictor (price of the house) more. \n",
    "\n",
    "We can see this in ``np.corrcoef(model.exog.T)``, when numbers close to 1 (that are **not on the diagonal, meaning itself compared to itself**) means there is strong correlation between predictor variables. \n",
    "\n",
    "This contributes to lack of \"out of sample\" generalization **because it's hard for the model to differentiate which variable is truly influencing the outcome (``endog``)**. \n",
    "\n",
    "Side note: the centering and scaling performed using patsy can reduce multicollinearity (condition number goes from 343 to 1.66) but in complex interaction terms, it can reintroduce multicollinearity. "
   ]
  },
  {
   "cell_type": "code",
   "execution_count": 68,
   "id": "fa0310ed-2092-47b5-a4c6-643a8cf698d4",
   "metadata": {},
   "outputs": [
    {
     "name": "stdout",
     "output_type": "stream",
     "text": [
      "(400, 3)\n"
     ]
    }
   ],
   "source": [
    "model4_linear_form = 'HP ~ Attack + Defense'\n",
    "model4_spec = smf.ols(formula=model4_linear_form, data=pokeaman_train)\n",
    "model4_fit = model4_spec.fit()\n",
    "print(model4_spec.exog.shape)  # Shows the number of rows and columns\n"
   ]
  },
  {
   "cell_type": "code",
   "execution_count": 70,
   "id": "a621ad85-261d-4507-9a6f-74490c4a3b8c",
   "metadata": {},
   "outputs": [
    {
     "data": {
      "text/plain": [
       "array([[       nan,        nan,        nan],\n",
       "       [       nan, 1.        , 0.46599384],\n",
       "       [       nan, 0.46599384, 1.        ]])"
      ]
     },
     "execution_count": 70,
     "metadata": {},
     "output_type": "execute_result"
    }
   ],
   "source": [
    "# np.corrcoef(model4_spec.exog.T)  # Correlation matrix of predictors in the design matrix\n",
    "np.corrcoef(model4_spec.exog, rowvar=False)\n"
   ]
  },
  {
   "cell_type": "markdown",
   "id": "c2c182cd-31c7-40cf-b002-1b95a6a012de",
   "metadata": {},
   "source": [
    "![](https://miro.medium.com/v2/resize:fit:1400/format:webp/1*qkYCqQkK4CuzPssI7LqbTw.png)"
   ]
  },
  {
   "cell_type": "markdown",
   "id": "fe6df602-c0b5-450c-be5c-0bc0806d198c",
   "metadata": {},
   "source": [
    "#### 7:\n",
    "\n",
    "model3: ``formula='HP ~ Attack + Defense'``\n",
    "\n",
    "model4: ``formula='HP ~ Attack * Defense * Speed * Legendary * Q(\"Sp. Def\") * Q(\"Sp. Atk\")'``\n",
    "\n",
    "model5 adds the generation and types as categorical variables, and changes model4 such that we are not looking at the interaction between predictor variables anymore (Attack * Defense) --> (Attack + Defense). **The in-sample R^2 is 0.39, while out of sample R^2 is 0.3, meaning there is not much overfitting as it generalizes fairly well.** However, condition number is 9.21e+03, meaning multicollinearity is probably happening. \n",
    "\n",
    "model6 changes the categorical variable Type 1, Type 2 and Generation into checking if they are specific types or generations, rather than using the entire categorical variable. **The reasons these specific types and generations were chosen were probably due to the low p-values they had in model 5, meaning that they actually have an effect on the outcome variable compared to the other types which had p >> 0.05.**\n",
    "\n",
    "This significantly decreases condition number from 9.21e+03 to 618, decreasing multicollinearity.\n",
    "\n",
    "Finally, in model7, we look at the interaction between all predictor variables plus the binary indicator variables we had before. Without centering and scaling, the condition number is 2,340,000,000, which has strong multicollinearity, but it becomes 15.4. \n",
    "\n",
    "Throughout the model building process, we iteratively added new variables in while monitoring the p-values to ensure that we are keeping in variables that actually affect the outcome variable, to achieve better predictions (higher R^2 value). \n",
    "\n"
   ]
  },
  {
   "cell_type": "markdown",
   "id": "09639b47-b851-4ee1-a221-a6c93b384d33",
   "metadata": {},
   "source": [
    "#### 8:"
   ]
  },
  {
   "cell_type": "code",
   "execution_count": 109,
   "id": "16ed2cd0-8878-4f47-b6bf-b3e912dd76c6",
   "metadata": {},
   "outputs": [
    {
     "data": {
      "application/vnd.plotly.v1+json": {
       "config": {
        "plotlyServerURL": "https://plot.ly"
       },
       "data": [
        {
         "alignmentgroup": "True",
         "bingroup": "x",
         "hovertemplate": "variable=0<br>value=%{x}<br>count=%{y}<extra></extra>",
         "legendgroup": "0",
         "marker": {
          "color": "#636efa",
          "pattern": {
           "shape": ""
          }
         },
         "name": "0",
         "nbinsx": 20,
         "offsetgroup": "0",
         "orientation": "v",
         "showlegend": true,
         "type": "histogram",
         "x": [
          0.18935568058925029,
          -0.0786486862141832,
          -0.015392021698444502,
          0.010566021400858605,
          0.05247146802926228,
          0.01337211591503995,
          0.1374972856116318,
          -0.016684222499492862,
          -0.04875220391925167,
          0.15545886614422683,
          0.009881502896291694,
          0.03583864067695314,
          0.07162194759923401,
          0.02553662723848915,
          0.09764362431491519,
          0.036202039144085096,
          -0.042701150876014504,
          -0.14158239227912345,
          -0.024638504282179896,
          0.18733517178781978,
          0.03223054905591205,
          0.08580164426674847,
          0.014312749690225723,
          0.07796540169197308,
          0.03760237764203039,
          0.06146254074794244,
          -0.09516769296614214,
          0.06835806626233587,
          0.1483810307371109,
          0.026818212285080134,
          0.04336372767762703,
          0.0022785405522661173,
          -0.0999966962485826,
          0.02047244759796102,
          0.2286026871450502,
          0.00331259676361062,
          -0.01857510922722605,
          0.01539058326683218,
          0.06103677648285999,
          0.07758685278764654,
          0.04135427590824581,
          0.04354990125931679,
          0.1260229081926043,
          0.008125950995115483,
          0.0915469923131868,
          -0.017743560674914116,
          -0.001896841949832806,
          -0.03317814190247931,
          0.056778148460529254,
          0.00917760567512782,
          0.1572774620102068,
          0.10041393713657976,
          0.18136840915852712,
          0.11391560058176109,
          0.06247165535459048,
          0.15750922435332587,
          0.1415409733806181,
          0.03183867321116324,
          0.06126696483997318,
          -0.061058602986934774,
          -0.0865218896745586,
          -0.050204738013452654,
          -0.035980359374004844,
          0.005157021684357277,
          -0.017197744893136635,
          0.07404241606594847,
          -0.011533769242434155,
          -0.01534365577987784,
          0.10572789183904019,
          -0.11853127596415186,
          0.018663004028367236,
          0.07971785292067063,
          0.15549515110129425,
          0.03706020358465806,
          0.07675178700414442,
          0.139092229163919,
          0.08770941588727643,
          0.032153490284929864,
          0.0641723386468182,
          0.1499357390120698,
          -0.028292603033085062,
          0.0402773577763435,
          0.1304912506750331,
          -0.02918588685784773,
          0.12606970898118525,
          -0.1559602422594158,
          0.06558092239614122,
          0.213881719808866,
          0.028679267111794582,
          -0.029646528662181815,
          0.1770850132381479,
          0.09367511837669401,
          -0.03825889420511408,
          0.10644313528134469,
          0.11527197169993603,
          0.029737495693887672,
          0.034003145289483616,
          0.11918743239068202,
          -0.04432887100638222,
          0.1248833587267828,
          0.17402668366105561,
          0.037847477955667286,
          0.13151209764097277,
          0.05233337230554003,
          -0.024769648639749564,
          0.19061278657528005,
          0.007713920570564969,
          -0.04968576925081908,
          0.1640729161546918,
          -0.019013280568852764,
          0.018462568147116443,
          0.07693706779371012,
          0.11351992572829145,
          0.1439036998210102,
          -0.008140776819266504,
          0.1144313529475108,
          0.05224899886690043,
          -0.000701499257096283,
          0.13469573105453436,
          0.10904082080673116,
          -0.028102710744632664,
          0.17952379469338114,
          0.02113734750198809,
          0.00809795877653735,
          0.07422813285172114,
          0.1321180103864119,
          0.11817233320717557,
          0.046137276452959286,
          0.04408405279527816,
          0.0729394581785387,
          0.0966166603743665,
          0.03318406304334731,
          0.06794810006029,
          0.006749988763733561,
          0.08736554169585459,
          0.005665131313966898,
          0.19291628771532243,
          0.01768350032924698,
          0.09500051044646013,
          -0.08809159551020074,
          0.009098054609693706,
          0.06849644503180147,
          0.05923146541517288,
          -0.09716417974976266,
          -0.13258869572639986,
          -0.0663106313102575,
          -0.061584677924322484,
          -0.024916737805773526,
          0.03126813926506511,
          0.15006475416523585,
          -0.045756209263790204,
          0.029162856984827568,
          -0.11898218281523515,
          0.029299736156830902,
          -0.10042356712360528,
          0.08209183415417826,
          0.05376402793134161,
          -0.1298661760722894,
          0.02666993714466781,
          0.02038487058387639,
          -0.05663731580811693,
          -0.08020426162468153,
          0.0200919868106319,
          -0.028219861341543306,
          0.007240718969579785,
          -0.0030849832583814685,
          0.023564680052087505,
          -0.04356404201175362,
          -0.028695995355307646,
          0.20587434817667616,
          -0.08043825042334635,
          0.003919831677970331,
          0.19090406159539097,
          -0.03209624760702873,
          0.05934319369565533,
          -0.06490208672285452,
          0.07093541447595153,
          0.08584225232615894,
          0.043880566368812046,
          -0.018898626434187937,
          0.01875876669105636,
          0.18137185180646032,
          0.1269807911003359,
          0.024340968876426727,
          0.030167933056924834,
          0.07872844796071249,
          0.09448979597987922,
          0.09175237060482494,
          0.20806320972157466,
          -0.03751296196905718,
          0.23559839389843196,
          0.07454970715339831,
          0.10050453847192065,
          0.20788493171426572,
          -0.10006420627127854,
          0.02772268695153579,
          0.17610746488569268,
          -0.03920938192802781,
          0.024150819303990434,
          0.1612800921344343,
          0.11960561409788084,
          0.14433771075653667,
          -0.027043989770756394,
          0.12976139780926604,
          0.05351523900400157,
          -0.03316941809816637,
          0.08059739522845166,
          0.12987435984773688,
          -0.08141578487356205,
          0.0415483702307024,
          -0.000679844788733952,
          0.025639636958862067,
          0.24033942309499345,
          -0.010197591554455931,
          -0.11749773583553352,
          -0.019103246603126678,
          -0.07396139997973472,
          0.15089340068305643,
          -0.03843676342217445,
          0.04263813952726925,
          0.016331219352782866,
          0.1531735976587315,
          0.05104369392727626,
          0.07712572593395367,
          0.0785950830027084,
          -0.02865432771626497,
          -0.013690810638188389,
          0.1227089976604096,
          -0.12222508556554879,
          0.17715987380484352,
          0.00028973313011887436,
          -0.03618188026523811,
          0.0026183129653013504,
          -0.10354449288300804,
          -0.05360323507267484,
          -0.014792763690255284,
          -0.010781187315840823,
          -0.043470957767715035,
          0.09506590523944858,
          -0.050105132101230854,
          -0.019530037222587227,
          0.09423068037602816,
          -0.046780270369607246,
          0.17188518758880988,
          0.17097162089233234,
          0.08981665981092413,
          -0.03340985836443999,
          -0.0678515150195878,
          -0.008330025414889808,
          0.05159781606905506,
          0.04913757769599847,
          0.05817408507214766,
          0.12720713515005472,
          0.05093240565008661,
          0.23846439657312038,
          0.08401294854559416,
          -0.029698251177777857,
          -0.03148196597103392,
          0.0008514573729803687,
          0.07932449813042125,
          -0.06097095423773791,
          0.01641833261524328,
          0.01745263326735441,
          0.09441545156265169,
          0.04953351313944815,
          0.13328945820109178,
          0.11972981189859677,
          0.01976897491919144,
          0.07816733528438441,
          0.06784119626761187,
          -0.028908244834427832,
          0.030780289785393322,
          0.062297768995600744,
          0.15995878199448643,
          0.0930626296092939,
          0.18460439497894665,
          -0.041801961012551236,
          0.07469418196210126,
          0.0005467908904567831,
          0.036906433403660566,
          0.1151756393797903,
          -0.012719025609097323,
          0.043406234176130376,
          0.01010116230309549,
          0.09430916846534165,
          0.042044658556465164,
          -0.1119878666399271,
          -0.13921396271336206,
          -0.0026282116943883715,
          -0.0334436803324783,
          0.09211409221642958,
          0.1398233973123908,
          0.1000992186431715,
          0.023490498153807715,
          0.07372766460781982,
          -0.013184447728304127,
          0.0019032855588819175,
          0.0913114218237509,
          0.08424771453251678,
          0.20930405509432623,
          0.035991576037135875,
          0.1736881480262884,
          0.12381081275781314,
          0.14795868207069174,
          0.21596936308125286,
          0.024776338028403344,
          0.04758238666385245,
          0.10327549522087148,
          0.03026955046993446,
          -0.10251140076673504,
          0.017111385287709557,
          -0.023431661550173677,
          0.07220195563096199,
          0.21111096841744617,
          0.1673860056122899,
          0.0703681995212424,
          -0.07678415074143713,
          0.19848794614915788,
          0.015519180431066926,
          0.03834330638603656,
          0.050287595859735135,
          0.007746961626114768,
          0.09519451469429058,
          -0.11708231215256781,
          0.13366699981620192,
          -0.09749298321230138,
          -0.0373380892704257,
          -0.00520223885163229,
          -0.02134063002495884,
          0.013191086476595282,
          0.09144813244779038,
          -0.01686222922679742,
          0.02413133703229775,
          0.25266260450068473,
          -0.04082077779645965,
          0.15828052483209032,
          -0.021199864031490878,
          -0.1065235837725384,
          0.001578616339460548,
          0.14439870524906562,
          0.04112717544051003,
          -0.0799396863628844,
          0.05795890099311879,
          -0.061056492832941955,
          0.05500547808684847,
          0.10943354346278344,
          0.12111678495743997,
          0.03450802495425337,
          -0.0005008923665502096,
          -0.06109090204592682,
          -0.03256033931136276,
          -0.0051525522364068155,
          0.06501769328426277,
          0.07645996128584598,
          -0.10174426084617938,
          0.10526038464897369,
          0.06457174355694167,
          0.09025880953830812,
          -0.07986543901661669,
          0.0018199086647862628,
          0.013230829742888361,
          0.18337644379601525,
          -0.009821186337685639,
          -0.0806395051187061,
          0.13847911101726024,
          -0.02716968059491759,
          0.09081780134870426,
          0.10419382536336086,
          0.21150095902573596,
          -0.02992862727385376,
          -0.0381047111175446,
          0.03372496159588856,
          0.0675147237739282,
          -0.04153284425601761,
          0.01780684468292426,
          -0.06150564288773758,
          -0.027849934756017103,
          0.03807656106845658,
          -0.09217786024284313,
          -0.056508561165194426,
          0.09150377537843479,
          -0.011584535176003885,
          0.0754596911121107,
          0.055567072721604605,
          -0.07485141413915175,
          0.03671347311334627,
          0.03246610580795617,
          -0.02987275624534297,
          0.16865132998301446,
          -0.14888362353818058,
          0.02656934830693891,
          0.04034032073146909,
          0.029383810933457266,
          0.12043478150862913,
          -0.01038606526034086,
          0.07808658768657917,
          -0.007247300420212099,
          -0.04957225835958018,
          -0.0031879449082593547,
          0.07027658438355744,
          0.12318206406246823,
          -0.025297939215058074,
          -0.03654511882399558,
          0.05564311941599781,
          0.014559293438879461,
          -0.03021467073273376,
          0.011604452695500145,
          0.08552783365123312,
          0.0315687996416108,
          0.01909310321523011,
          0.06659630788439475,
          -0.029943709820721642,
          -0.043847763289591,
          -0.027393745144669024,
          -0.008898490138391724,
          0.0039341196583060345,
          -0.02720816679185789,
          0.061488084261671405,
          0.016113348213831924,
          0.003123089285030911,
          0.12856143698673,
          0.19832361450249583,
          -0.05078254822288347,
          -0.07627972646491915,
          -0.06227274275525774,
          0.09291697120533443,
          -0.01635928539510967,
          0.2287146347803539,
          0.022374195050889445,
          0.11226411113474272,
          0.011091665687323393,
          -0.041619085319155535,
          -0.060943936867344395,
          -0.04529990474503598,
          0.0023218159204326794,
          0.024684052843374993,
          -0.028736666692172397,
          0.10405644867010166,
          -0.014806255001566793,
          0.07225155715263348,
          0.010355653080552085,
          -0.14497727351938233,
          -0.03362534126630379,
          -0.023285996851229063,
          -0.08375424182622482,
          0.014313877454072477,
          -0.0036298764187988053,
          -0.0801299358673579,
          0.07169044588851564,
          -0.001932457272233179,
          -0.013524227940711675,
          0.2368533638259457,
          0.061392459065880034,
          -0.09497839540661707,
          -0.008588825250739507,
          0.026007285855412565,
          0.08588501649870356,
          -0.0061101265385878345,
          -0.02560711791425363,
          -0.012972568866121359,
          0.07462940269089519,
          -0.04001298860779501,
          0.05852887234914944,
          0.006385526870701319,
          -0.0649051115253998,
          0.018159322032055947,
          0.11616041944714539,
          -0.0631545255439625,
          0.09714279943794579,
          0.05434277636205692,
          0.008538270631471667,
          -0.006774183932253208,
          0.052026629223688614,
          0.02019986665593243,
          0.06707450138963883,
          -0.08321921101495144,
          -0.014180210582862729,
          0.021865026539858945,
          0.043660681472287355,
          0.06350597038463723,
          0.06512675923656824,
          -0.04803229964475664,
          -0.020128104116641565,
          0.10068626697800664,
          -0.11244036028782878,
          0.015554924095221856,
          0.0008923508749630327,
          -0.03582301444638741,
          0.006799416619710008,
          -0.055995566804461716,
          0.04265227030273089,
          0.011959967063324695,
          -0.045029445423077574,
          0.020025816806569563,
          -0.06992017091462677,
          -0.012144042664440746,
          -0.025759104686599643,
          0.036182618533764976,
          0.07066656145308747,
          -0.10700664191016585,
          -0.05733407392315004,
          -0.06505297207937044,
          0.07542261973530001,
          0.18278583480865282,
          0.11474394222884088,
          0.07349553127219638,
          0.07731509401094339,
          0.08309439763535581,
          -0.02749766710900242,
          -0.05185459011777621,
          0.04314289154412604,
          0.012594717218238738,
          0.06733198676917046,
          -0.02878274628653338,
          -0.03924441553979552,
          -0.010063280422598464,
          0.09064654156511232,
          0.02949311994307463,
          -0.01920265941470095,
          0.011083452629068014,
          -0.00838168389826871,
          -0.034396457349665066,
          -0.05696816472367622,
          0.012461400233789721,
          -0.08071046141522903,
          0.07958743539960528,
          0.07396139500598614,
          0.02295201170317085,
          -0.02227478690603607,
          -0.00968648007492634,
          -0.007904011906155917,
          0.04697571613629736,
          0.06840234532827283,
          0.11931342227058606,
          0.11604451017691025,
          0.19486328674598558,
          -0.05731021023247379,
          -0.11155269432594761,
          -0.055178964313480516,
          0.2373161242510752,
          -0.07331567427161106,
          0.13683412883755053,
          0.11046244594268095,
          0.033583161722282706,
          -0.015840059282344665,
          -0.12631168562568368,
          -0.054793434130681606,
          0.017914802250580786,
          0.04805184755382108,
          0.15167673883042876,
          -0.0032093404318342955,
          -0.02107777356817575,
          0.05629698074269929,
          0.016767461231663727,
          0.03675058862913211,
          -0.08190775025377639,
          0.1080928531431869,
          0.07803498223677696,
          0.06419078749606594,
          0.14657977266559213,
          -0.04654483491110073,
          -0.01235138097861771,
          0.07362316530722574,
          -0.0560433269051428,
          -0.007421232110405851,
          -0.00934270390705827,
          0.014487408797566548,
          0.02222172971682429,
          0.1332108645260081,
          0.1630688609070489,
          0.1720548263677145,
          0.22502148212574832,
          0.13402277133277612,
          0.034830936404066315,
          -0.08342138886207195,
          -0.027362665525448804,
          0.0538447197164425,
          0.15507174742056679,
          0.030651844871880496,
          0.1756230204046626,
          0.10401690269629982,
          -0.02198194363556677,
          0.11217592039333363,
          0.11437822333780545,
          0.010315555322447156,
          0.01648849221845461,
          0.1613967541024635,
          0.1956335586777604,
          -0.048623593529203535,
          -0.06584571593878935,
          -0.009747071289588127,
          -0.017496077413043154,
          0.06300084313959609,
          -0.01950843624644011,
          -0.07421244631069862,
          0.0016778531480081127,
          -0.03105148375719058,
          -0.08498095501916053,
          0.019834916095936128,
          0.07934101448629838,
          0.04401419388353334,
          -0.0006630286130438479,
          0.20708184360315252,
          0.049582766090406294,
          -0.08546056990726897,
          0.17066042185288838,
          0.11528432489411267,
          -0.0695636913866477,
          0.20862587693874493,
          -0.13721371227903512,
          0.08183859014023576,
          -0.002404815899725299,
          0.04737671266311977,
          0.05068433323059457,
          0.061362850821959414,
          0.11356025247540813,
          -0.08334563242094628,
          0.08237082184878769,
          0.18694751367128012,
          0.11885199137774022,
          0.025574505053676866,
          0.0492448931357784,
          0.1016824348787444,
          0.1384191708186977,
          0.07205333612213544,
          0.028790840856750266,
          0.16119326013319057,
          -0.059713751453423,
          -0.109485552679287,
          -0.06257654117849448,
          0.032015514959599534,
          0.1314393938691265,
          0.10046949256409576,
          -0.022594746202307392,
          -0.08039764765572827,
          0.053706208152257906,
          0.21906799911966116,
          -0.09834693390829552,
          0.15603259831174088,
          0.004791009074308961,
          0.020713397991527438,
          -0.07367402008239282,
          0.08232789941740898,
          0.05727854666418092,
          0.014002919991623008,
          0.14357212470392655,
          0.054310562102425575,
          0.2647440827452118,
          0.19942836628874927,
          0.06066374896652821,
          -0.04738561892156573,
          -0.009057693222759677,
          -0.0639340197494313,
          -0.014612349589362639,
          -0.08626683201743773,
          -0.006324882377901742,
          0.1555111041998518,
          -0.049469303608565496,
          0.02191531081109621,
          -0.008474601606468957,
          0.009962117302685536,
          0.023227947050958708,
          0.05601146756510955,
          -0.030448584498738385,
          0.18277749373452792,
          0.08033759802684354,
          0.03328617764316921,
          0.033817213965202986,
          0.13471218060907797,
          0.012036511290635987,
          -0.02431151809598292,
          0.053574795633837435,
          0.053431906696358944,
          -0.058375792533768844,
          0.054367627548075226,
          0.20037141928859098,
          -0.017041265100600556,
          -0.0635550895621304,
          -0.04881262053121321,
          0.0030341472152762283,
          -0.03383357346918403,
          0.03586062501329085,
          0.20350060499649825,
          0.08280690905232896,
          0.0629778677791542,
          0.011351057709049928,
          0.15637672863164284,
          0.009025130978544904,
          0.017210009972653373,
          0.18006209625317127,
          -0.056155807247862455,
          0.13206538623483527,
          0.10950963481185727,
          0.11619900023018037,
          0.0027267715388298863,
          0.04281115379311168,
          0.024607893010786253,
          0.0858899647809862,
          -0.011450019937736755,
          0.08379380802603759,
          0.0733907878884601,
          -0.03797942909219287,
          -0.0009836169667628014,
          0.03967581957707467,
          0.0754082312726097,
          0.025879519467019108,
          0.030906895124356737,
          0.005912466287245566,
          -0.07662900446660759,
          0.05435240331880059,
          -0.03763765421190629,
          0.15194607846947386,
          -0.052914193978206125,
          0.05101574042423718,
          -0.005725377576332402,
          0.08313019930749826,
          0.08521102648502776,
          0.1416911110569751,
          0.009618539576834118,
          0.0754487750603674,
          0.04440303196357481,
          -0.1354970043934428,
          0.09802712789991913,
          0.032104590635198604,
          0.004245765167528559,
          0.10947392987052668,
          0.04056416931312806,
          -0.03545412074861559,
          -0.04841962246703185,
          0.11019330401101624,
          0.09527648069765832,
          -0.0029280532763065192,
          -0.1835462215015352,
          0.16602926227781042,
          0.08223321599818006,
          -0.058110547798075396,
          0.06391495440777367,
          0.024745629457162854,
          0.018750322739795766,
          0.184650623822758,
          0.3003025677773369,
          0.15132849470805618,
          -0.0847638773068431,
          0.004536150887169466,
          -0.11148532934911848,
          0.0058217772606311,
          -0.023281101243249613,
          -0.10111469709093912,
          0.21806588723117656,
          -0.08597947229565261,
          0.07861537402188451,
          0.1590739953611684,
          0.017166708365234096,
          0.018215658867729023,
          0.07545680734524512,
          0.07311332002182352,
          -0.06124386615572547,
          0.09563138280337619,
          -0.023837915586934377,
          -0.0024199090872652484,
          0.21616171429269498,
          -0.09232571201423284,
          -0.032691137109518764,
          0.06468762562285485,
          0.023720769428949073,
          0.1082872695951505,
          -0.09486513706907851,
          -0.05542900913866605,
          0.1356324895916184,
          0.13609799588682947,
          0.01448971489538009,
          0.03855635492185072,
          -0.05104113341998279,
          0.11676313176209013,
          0.06767467414822093,
          -0.12016492371863297,
          0.10515943160050356,
          0.030456049624483117,
          0.10025592516007675,
          -0.056084935470096464,
          0.001001950311949329,
          0.08637710937287651,
          0.21347014148880517,
          0.04301200616216133,
          0.059651533405858714,
          0.09842370296622366,
          0.03290226737076174,
          -0.09414253671970146,
          -0.10601631584133997,
          0.08718596968519327,
          0.06911893277113595,
          0.14302082947463896,
          -0.14382168306954857,
          0.011263715559209353,
          0.0007844397383581225,
          0.05759405137695456,
          0.0031727629437303118,
          -0.04866136892359163,
          0.13899258707277856,
          0.056866780899070435,
          0.038671720462794434,
          -0.0005815121685268099,
          0.15303738179468762,
          0.08634597952320938,
          0.07208427146913005,
          0.04354646676023233,
          0.0639977865833054,
          -0.05140366454919765,
          0.0954902983480303,
          0.0352661492527192,
          -0.008307799672772398,
          0.15223795821073152,
          0.07854386783649969,
          0.09869351236484619,
          -0.006411987023336174,
          -0.024130528778847582,
          0.009007386883884305,
          -0.03974855977810271,
          -0.04303403290009339,
          0.08439741820213564,
          -0.02080902542764851,
          0.06612810399988556,
          0.1470586535458721,
          0.07369200847900204,
          -0.06573446098515329,
          0.20877427229168022,
          0.07098445395621494,
          0.22773329199424133,
          0.06688793953142419,
          0.10172751669639596,
          -0.06466966523536538,
          -0.07001600055792206,
          0.1165025480597281,
          -0.13374357144266896,
          0.15094128723796296,
          0.03177125598721181,
          0.08621378408410468,
          -0.11971761429191075,
          0.07124835986005046,
          0.020948351541517918,
          -0.04684338477840716,
          0.11387979451915886,
          0.12038809128288253,
          -0.06677645282769856,
          -0.036690290488981536,
          0.009646089659199775,
          0.011391814733546002,
          -0.05684610691914288,
          0.1789349660055726,
          0.10107421861557125,
          -0.0004040301318730677,
          0.17911732517194065,
          0.07824721297062365,
          0.09465138178363525,
          -0.013831038767534332,
          0.09732930425731978,
          -0.07466497564456387,
          0.07665219834213777,
          0.2575031331565383,
          0.060471845780986355,
          0.10782593138000307,
          -0.05964125399354192,
          -0.030277725313531345,
          0.024363896893671022,
          0.09753361615383688,
          0.1595463095577772,
          0.0037628030337310547,
          0.06731641560985707,
          -0.04070446739942246,
          0.18145442463538908,
          -0.03241930671597765,
          0.007978222153299575,
          0.08118303042446634,
          0.04408244638635889,
          -0.00916729043532416,
          0.08073819281365957,
          0.05232910863117418,
          0.12196399158380195,
          -0.03025395339655801,
          0.12162638912733376,
          0.11606522759474797,
          0.1517923140869516,
          0.0977252965329855,
          0.06809547978412828,
          0.029693847160955855,
          0.06939174819216737,
          0.07943853445120769,
          0.10539396640233512,
          -0.04094544660306049,
          -0.09543409258362667,
          0.04835922740788651,
          0.04747298081844392,
          -0.039515926090974984,
          0.21410491577249147,
          -0.03469663340712492,
          0.13977528156685265,
          0.0024259558830952987,
          -0.11735473132049157,
          -0.01794113945467668,
          -0.023440700075757215,
          0.10853894262335728,
          -0.004180583369916724,
          0.05767352526968017,
          0.02039980094205318,
          0.015192738815944518,
          0.008550101001277732,
          0.1523625345355642,
          -0.05329818118488344,
          0.008584068184068261,
          0.016754090203602523,
          -0.1009825894677086,
          -0.011182059749811568,
          -0.013360461524630218,
          0.26122490260788056,
          0.023554756219282158,
          -0.06112069327580383,
          0.02106533124744897,
          0.1790488989199016,
          0.032366618506621925,
          0.00454990330821442,
          0.002176796047295315,
          0.17555001225950206,
          0.19757742337774237,
          0.06624654931752832,
          0.04123059858224415,
          0.06531253402943105,
          0.020091484317414254,
          -0.008495260517405845,
          0.022025942004678944,
          0.0352901592885404,
          0.08741444944843008,
          -0.07465814093387119,
          -0.03926110509095193,
          -0.06193535990751936,
          -0.02776017494163585,
          -0.0012099573598560731,
          0.21367497341231922,
          -0.007721708231658075,
          0.08029071261931275,
          0.05101880563606659,
          0.18222639567528925,
          0.08526451967094711,
          -0.08515757550427772,
          0.1160075960917239,
          0.03201495965968376,
          0.06491908435687122,
          0.031387915283032475,
          -0.056825711718682226,
          -0.08112924111936631,
          -0.0057705459177751495,
          -0.028542752620525635,
          0.12344093260197964,
          0.01591251341106431,
          -0.019237961027744388,
          0.050111692739587765,
          0.13865897680645806,
          -0.042232172266796264,
          -0.036738923829211456,
          0.02421456714967618,
          0.1252386802169947,
          0.13174188195282593,
          0.01119356147735101,
          -0.06575589071891419,
          -0.11020445427571163,
          -0.02315516740860568,
          0.06800445166166369,
          0.05151071903799437,
          0.08685280740231305,
          0.08576728040850218,
          -0.030104277739609164,
          0.09254925232292599,
          0.09562090680055557,
          0.17765937355788067,
          0.06530473088865968,
          0.026145713495101475,
          -0.10869355486275101,
          0.10633404792950207,
          0.012571889110430945,
          0.018731489663178502,
          0.11072051572963948,
          0.150067913614698,
          -0.012655490906072153,
          -0.06799947756701957,
          0.02351238366689823,
          -0.008606895086937405,
          -0.08144967951521154,
          -0.13395229791755492,
          0.05858797051281489,
          0.09460252796911794,
          0.10433998865867905,
          0.14887754901018446,
          -0.04183577321579246,
          -0.12567945358751081,
          0.10900994291994787,
          0.017903931433674025,
          0.060226842084858845,
          0.09085817247156475,
          -0.0728790609640137,
          0.05718208893414889,
          -0.10379403784292685
         ],
         "xaxis": "x",
         "yaxis": "y"
        }
       ],
       "layout": {
        "autosize": true,
        "barmode": "relative",
        "legend": {
         "title": {
          "text": "variable"
         },
         "tracegroupgap": 0
        },
        "template": {
         "data": {
          "bar": [
           {
            "error_x": {
             "color": "#2a3f5f"
            },
            "error_y": {
             "color": "#2a3f5f"
            },
            "marker": {
             "line": {
              "color": "#E5ECF6",
              "width": 0.5
             },
             "pattern": {
              "fillmode": "overlay",
              "size": 10,
              "solidity": 0.2
             }
            },
            "type": "bar"
           }
          ],
          "barpolar": [
           {
            "marker": {
             "line": {
              "color": "#E5ECF6",
              "width": 0.5
             },
             "pattern": {
              "fillmode": "overlay",
              "size": 10,
              "solidity": 0.2
             }
            },
            "type": "barpolar"
           }
          ],
          "carpet": [
           {
            "aaxis": {
             "endlinecolor": "#2a3f5f",
             "gridcolor": "white",
             "linecolor": "white",
             "minorgridcolor": "white",
             "startlinecolor": "#2a3f5f"
            },
            "baxis": {
             "endlinecolor": "#2a3f5f",
             "gridcolor": "white",
             "linecolor": "white",
             "minorgridcolor": "white",
             "startlinecolor": "#2a3f5f"
            },
            "type": "carpet"
           }
          ],
          "choropleth": [
           {
            "colorbar": {
             "outlinewidth": 0,
             "ticks": ""
            },
            "type": "choropleth"
           }
          ],
          "contour": [
           {
            "colorbar": {
             "outlinewidth": 0,
             "ticks": ""
            },
            "colorscale": [
             [
              0,
              "#0d0887"
             ],
             [
              0.1111111111111111,
              "#46039f"
             ],
             [
              0.2222222222222222,
              "#7201a8"
             ],
             [
              0.3333333333333333,
              "#9c179e"
             ],
             [
              0.4444444444444444,
              "#bd3786"
             ],
             [
              0.5555555555555556,
              "#d8576b"
             ],
             [
              0.6666666666666666,
              "#ed7953"
             ],
             [
              0.7777777777777778,
              "#fb9f3a"
             ],
             [
              0.8888888888888888,
              "#fdca26"
             ],
             [
              1,
              "#f0f921"
             ]
            ],
            "type": "contour"
           }
          ],
          "contourcarpet": [
           {
            "colorbar": {
             "outlinewidth": 0,
             "ticks": ""
            },
            "type": "contourcarpet"
           }
          ],
          "heatmap": [
           {
            "colorbar": {
             "outlinewidth": 0,
             "ticks": ""
            },
            "colorscale": [
             [
              0,
              "#0d0887"
             ],
             [
              0.1111111111111111,
              "#46039f"
             ],
             [
              0.2222222222222222,
              "#7201a8"
             ],
             [
              0.3333333333333333,
              "#9c179e"
             ],
             [
              0.4444444444444444,
              "#bd3786"
             ],
             [
              0.5555555555555556,
              "#d8576b"
             ],
             [
              0.6666666666666666,
              "#ed7953"
             ],
             [
              0.7777777777777778,
              "#fb9f3a"
             ],
             [
              0.8888888888888888,
              "#fdca26"
             ],
             [
              1,
              "#f0f921"
             ]
            ],
            "type": "heatmap"
           }
          ],
          "heatmapgl": [
           {
            "colorbar": {
             "outlinewidth": 0,
             "ticks": ""
            },
            "colorscale": [
             [
              0,
              "#0d0887"
             ],
             [
              0.1111111111111111,
              "#46039f"
             ],
             [
              0.2222222222222222,
              "#7201a8"
             ],
             [
              0.3333333333333333,
              "#9c179e"
             ],
             [
              0.4444444444444444,
              "#bd3786"
             ],
             [
              0.5555555555555556,
              "#d8576b"
             ],
             [
              0.6666666666666666,
              "#ed7953"
             ],
             [
              0.7777777777777778,
              "#fb9f3a"
             ],
             [
              0.8888888888888888,
              "#fdca26"
             ],
             [
              1,
              "#f0f921"
             ]
            ],
            "type": "heatmapgl"
           }
          ],
          "histogram": [
           {
            "marker": {
             "pattern": {
              "fillmode": "overlay",
              "size": 10,
              "solidity": 0.2
             }
            },
            "type": "histogram"
           }
          ],
          "histogram2d": [
           {
            "colorbar": {
             "outlinewidth": 0,
             "ticks": ""
            },
            "colorscale": [
             [
              0,
              "#0d0887"
             ],
             [
              0.1111111111111111,
              "#46039f"
             ],
             [
              0.2222222222222222,
              "#7201a8"
             ],
             [
              0.3333333333333333,
              "#9c179e"
             ],
             [
              0.4444444444444444,
              "#bd3786"
             ],
             [
              0.5555555555555556,
              "#d8576b"
             ],
             [
              0.6666666666666666,
              "#ed7953"
             ],
             [
              0.7777777777777778,
              "#fb9f3a"
             ],
             [
              0.8888888888888888,
              "#fdca26"
             ],
             [
              1,
              "#f0f921"
             ]
            ],
            "type": "histogram2d"
           }
          ],
          "histogram2dcontour": [
           {
            "colorbar": {
             "outlinewidth": 0,
             "ticks": ""
            },
            "colorscale": [
             [
              0,
              "#0d0887"
             ],
             [
              0.1111111111111111,
              "#46039f"
             ],
             [
              0.2222222222222222,
              "#7201a8"
             ],
             [
              0.3333333333333333,
              "#9c179e"
             ],
             [
              0.4444444444444444,
              "#bd3786"
             ],
             [
              0.5555555555555556,
              "#d8576b"
             ],
             [
              0.6666666666666666,
              "#ed7953"
             ],
             [
              0.7777777777777778,
              "#fb9f3a"
             ],
             [
              0.8888888888888888,
              "#fdca26"
             ],
             [
              1,
              "#f0f921"
             ]
            ],
            "type": "histogram2dcontour"
           }
          ],
          "mesh3d": [
           {
            "colorbar": {
             "outlinewidth": 0,
             "ticks": ""
            },
            "type": "mesh3d"
           }
          ],
          "parcoords": [
           {
            "line": {
             "colorbar": {
              "outlinewidth": 0,
              "ticks": ""
             }
            },
            "type": "parcoords"
           }
          ],
          "pie": [
           {
            "automargin": true,
            "type": "pie"
           }
          ],
          "scatter": [
           {
            "fillpattern": {
             "fillmode": "overlay",
             "size": 10,
             "solidity": 0.2
            },
            "type": "scatter"
           }
          ],
          "scatter3d": [
           {
            "line": {
             "colorbar": {
              "outlinewidth": 0,
              "ticks": ""
             }
            },
            "marker": {
             "colorbar": {
              "outlinewidth": 0,
              "ticks": ""
             }
            },
            "type": "scatter3d"
           }
          ],
          "scattercarpet": [
           {
            "marker": {
             "colorbar": {
              "outlinewidth": 0,
              "ticks": ""
             }
            },
            "type": "scattercarpet"
           }
          ],
          "scattergeo": [
           {
            "marker": {
             "colorbar": {
              "outlinewidth": 0,
              "ticks": ""
             }
            },
            "type": "scattergeo"
           }
          ],
          "scattergl": [
           {
            "marker": {
             "colorbar": {
              "outlinewidth": 0,
              "ticks": ""
             }
            },
            "type": "scattergl"
           }
          ],
          "scattermapbox": [
           {
            "marker": {
             "colorbar": {
              "outlinewidth": 0,
              "ticks": ""
             }
            },
            "type": "scattermapbox"
           }
          ],
          "scatterpolar": [
           {
            "marker": {
             "colorbar": {
              "outlinewidth": 0,
              "ticks": ""
             }
            },
            "type": "scatterpolar"
           }
          ],
          "scatterpolargl": [
           {
            "marker": {
             "colorbar": {
              "outlinewidth": 0,
              "ticks": ""
             }
            },
            "type": "scatterpolargl"
           }
          ],
          "scatterternary": [
           {
            "marker": {
             "colorbar": {
              "outlinewidth": 0,
              "ticks": ""
             }
            },
            "type": "scatterternary"
           }
          ],
          "surface": [
           {
            "colorbar": {
             "outlinewidth": 0,
             "ticks": ""
            },
            "colorscale": [
             [
              0,
              "#0d0887"
             ],
             [
              0.1111111111111111,
              "#46039f"
             ],
             [
              0.2222222222222222,
              "#7201a8"
             ],
             [
              0.3333333333333333,
              "#9c179e"
             ],
             [
              0.4444444444444444,
              "#bd3786"
             ],
             [
              0.5555555555555556,
              "#d8576b"
             ],
             [
              0.6666666666666666,
              "#ed7953"
             ],
             [
              0.7777777777777778,
              "#fb9f3a"
             ],
             [
              0.8888888888888888,
              "#fdca26"
             ],
             [
              1,
              "#f0f921"
             ]
            ],
            "type": "surface"
           }
          ],
          "table": [
           {
            "cells": {
             "fill": {
              "color": "#EBF0F8"
             },
             "line": {
              "color": "white"
             }
            },
            "header": {
             "fill": {
              "color": "#C8D4E3"
             },
             "line": {
              "color": "white"
             }
            },
            "type": "table"
           }
          ]
         },
         "layout": {
          "annotationdefaults": {
           "arrowcolor": "#2a3f5f",
           "arrowhead": 0,
           "arrowwidth": 1
          },
          "autotypenumbers": "strict",
          "coloraxis": {
           "colorbar": {
            "outlinewidth": 0,
            "ticks": ""
           }
          },
          "colorscale": {
           "diverging": [
            [
             0,
             "#8e0152"
            ],
            [
             0.1,
             "#c51b7d"
            ],
            [
             0.2,
             "#de77ae"
            ],
            [
             0.3,
             "#f1b6da"
            ],
            [
             0.4,
             "#fde0ef"
            ],
            [
             0.5,
             "#f7f7f7"
            ],
            [
             0.6,
             "#e6f5d0"
            ],
            [
             0.7,
             "#b8e186"
            ],
            [
             0.8,
             "#7fbc41"
            ],
            [
             0.9,
             "#4d9221"
            ],
            [
             1,
             "#276419"
            ]
           ],
           "sequential": [
            [
             0,
             "#0d0887"
            ],
            [
             0.1111111111111111,
             "#46039f"
            ],
            [
             0.2222222222222222,
             "#7201a8"
            ],
            [
             0.3333333333333333,
             "#9c179e"
            ],
            [
             0.4444444444444444,
             "#bd3786"
            ],
            [
             0.5555555555555556,
             "#d8576b"
            ],
            [
             0.6666666666666666,
             "#ed7953"
            ],
            [
             0.7777777777777778,
             "#fb9f3a"
            ],
            [
             0.8888888888888888,
             "#fdca26"
            ],
            [
             1,
             "#f0f921"
            ]
           ],
           "sequentialminus": [
            [
             0,
             "#0d0887"
            ],
            [
             0.1111111111111111,
             "#46039f"
            ],
            [
             0.2222222222222222,
             "#7201a8"
            ],
            [
             0.3333333333333333,
             "#9c179e"
            ],
            [
             0.4444444444444444,
             "#bd3786"
            ],
            [
             0.5555555555555556,
             "#d8576b"
            ],
            [
             0.6666666666666666,
             "#ed7953"
            ],
            [
             0.7777777777777778,
             "#fb9f3a"
            ],
            [
             0.8888888888888888,
             "#fdca26"
            ],
            [
             1,
             "#f0f921"
            ]
           ]
          },
          "colorway": [
           "#636efa",
           "#EF553B",
           "#00cc96",
           "#ab63fa",
           "#FFA15A",
           "#19d3f3",
           "#FF6692",
           "#B6E880",
           "#FF97FF",
           "#FECB52"
          ],
          "font": {
           "color": "#2a3f5f"
          },
          "geo": {
           "bgcolor": "white",
           "lakecolor": "white",
           "landcolor": "#E5ECF6",
           "showlakes": true,
           "showland": true,
           "subunitcolor": "white"
          },
          "hoverlabel": {
           "align": "left"
          },
          "hovermode": "closest",
          "mapbox": {
           "style": "light"
          },
          "paper_bgcolor": "white",
          "plot_bgcolor": "#E5ECF6",
          "polar": {
           "angularaxis": {
            "gridcolor": "white",
            "linecolor": "white",
            "ticks": ""
           },
           "bgcolor": "#E5ECF6",
           "radialaxis": {
            "gridcolor": "white",
            "linecolor": "white",
            "ticks": ""
           }
          },
          "scene": {
           "xaxis": {
            "backgroundcolor": "#E5ECF6",
            "gridcolor": "white",
            "gridwidth": 2,
            "linecolor": "white",
            "showbackground": true,
            "ticks": "",
            "zerolinecolor": "white"
           },
           "yaxis": {
            "backgroundcolor": "#E5ECF6",
            "gridcolor": "white",
            "gridwidth": 2,
            "linecolor": "white",
            "showbackground": true,
            "ticks": "",
            "zerolinecolor": "white"
           },
           "zaxis": {
            "backgroundcolor": "#E5ECF6",
            "gridcolor": "white",
            "gridwidth": 2,
            "linecolor": "white",
            "showbackground": true,
            "ticks": "",
            "zerolinecolor": "white"
           }
          },
          "shapedefaults": {
           "line": {
            "color": "#2a3f5f"
           }
          },
          "ternary": {
           "aaxis": {
            "gridcolor": "white",
            "linecolor": "white",
            "ticks": ""
           },
           "baxis": {
            "gridcolor": "white",
            "linecolor": "white",
            "ticks": ""
           },
           "bgcolor": "#E5ECF6",
           "caxis": {
            "gridcolor": "white",
            "linecolor": "white",
            "ticks": ""
           }
          },
          "title": {
           "x": 0.05
          },
          "xaxis": {
           "automargin": true,
           "gridcolor": "white",
           "linecolor": "white",
           "ticks": "",
           "title": {
            "standoff": 15
           },
           "zerolinecolor": "white",
           "zerolinewidth": 2
          },
          "yaxis": {
           "automargin": true,
           "gridcolor": "white",
           "linecolor": "white",
           "ticks": "",
           "title": {
            "standoff": 15
           },
           "zerolinecolor": "white",
           "zerolinewidth": 2
          }
         }
        },
        "title": {
         "text": "Distribution of R-squared Deltas (Training vs. Testing)"
        },
        "xaxis": {
         "anchor": "y",
         "autorange": true,
         "domain": [
          0,
          1
         ],
         "range": [
          -0.225,
          0.32500000000000007
         ],
         "title": {
          "text": "R-squared Delta (Train - Test)"
         },
         "type": "linear"
        },
        "yaxis": {
         "anchor": "x",
         "autorange": true,
         "domain": [
          0,
          1
         ],
         "range": [
          0,
          255.78947368421052
         ],
         "title": {
          "text": "Frequency"
         }
        }
       }
      },
      "image/png": "[encoded data removed]",
      "text/html": [
       "<div>                            <div id=\"afe1ed9f-dedb-404c-966f-a98bd0fd227c\" class=\"plotly-graph-div\" style=\"height:525px; width:100%;\"></div>            <script type=\"text/javascript\">                require([\"plotly\"], function(Plotly) {                    window.PLOTLYENV=window.PLOTLYENV || {};                                    if (document.getElementById(\"afe1ed9f-dedb-404c-966f-a98bd0fd227c\")) {                    Plotly.newPlot(                        \"afe1ed9f-dedb-404c-966f-a98bd0fd227c\",                        [{\"alignmentgroup\":\"True\",\"bingroup\":\"x\",\"hovertemplate\":\"variable=0\\u003cbr\\u003evalue=%{x}\\u003cbr\\u003ecount=%{y}\\u003cextra\\u003e\\u003c\\u002fextra\\u003e\",\"legendgroup\":\"0\",\"marker\":{\"color\":\"#636efa\",\"pattern\":{\"shape\":\"\"}},\"name\":\"0\",\"nbinsx\":20,\"offsetgroup\":\"0\",\"orientation\":\"v\",\"showlegend\":true,\"x\":[0.18935568058925029,-0.0786486862141832,-0.015392021698444502,0.010566021400858605,0.05247146802926228,0.01337211591503995,0.1374972856116318,-0.016684222499492862,-0.04875220391925167,0.15545886614422683,0.009881502896291694,0.03583864067695314,0.07162194759923401,0.02553662723848915,0.09764362431491519,0.036202039144085096,-0.042701150876014504,-0.14158239227912345,-0.024638504282179896,0.18733517178781978,0.03223054905591205,0.08580164426674847,0.014312749690225723,0.07796540169197308,0.03760237764203039,0.06146254074794244,-0.09516769296614214,0.06835806626233587,0.1483810307371109,0.026818212285080134,0.04336372767762703,0.0022785405522661173,-0.0999966962485826,0.02047244759796102,0.2286026871450502,0.00331259676361062,-0.01857510922722605,0.01539058326683218,0.06103677648285999,0.07758685278764654,0.04135427590824581,0.04354990125931679,0.1260229081926043,0.008125950995115483,0.0915469923131868,-0.017743560674914116,-0.001896841949832806,-0.03317814190247931,0.056778148460529254,0.00917760567512782,0.1572774620102068,0.10041393713657976,0.18136840915852712,0.11391560058176109,0.06247165535459048,0.15750922435332587,0.1415409733806181,0.03183867321116324,0.06126696483997318,-0.061058602986934774,-0.0865218896745586,-0.050204738013452654,-0.035980359374004844,0.005157021684357277,-0.017197744893136635,0.07404241606594847,-0.011533769242434155,-0.01534365577987784,0.10572789183904019,-0.11853127596415186,0.018663004028367236,0.07971785292067063,0.15549515110129425,0.03706020358465806,0.07675178700414442,0.139092229163919,0.08770941588727643,0.032153490284929864,0.0641723386468182,0.1499357390120698,-0.028292603033085062,0.0402773577763435,0.1304912506750331,-0.02918588685784773,0.12606970898118525,-0.1559602422594158,0.06558092239614122,0.213881719808866,0.028679267111794582,-0.029646528662181815,0.1770850132381479,0.09367511837669401,-0.03825889420511408,0.10644313528134469,0.11527197169993603,0.029737495693887672,0.034003145289483616,0.11918743239068202,-0.04432887100638222,0.1248833587267828,0.17402668366105561,0.037847477955667286,0.13151209764097277,0.05233337230554003,-0.024769648639749564,0.19061278657528005,0.007713920570564969,-0.04968576925081908,0.1640729161546918,-0.019013280568852764,0.018462568147116443,0.07693706779371012,0.11351992572829145,0.1439036998210102,-0.008140776819266504,0.1144313529475108,0.05224899886690043,-0.000701499257096283,0.13469573105453436,0.10904082080673116,-0.028102710744632664,0.17952379469338114,0.02113734750198809,0.00809795877653735,0.07422813285172114,0.1321180103864119,0.11817233320717557,0.046137276452959286,0.04408405279527816,0.0729394581785387,0.0966166603743665,0.03318406304334731,0.06794810006029,0.006749988763733561,0.08736554169585459,0.005665131313966898,0.19291628771532243,0.01768350032924698,0.09500051044646013,-0.08809159551020074,0.009098054609693706,0.06849644503180147,0.05923146541517288,-0.09716417974976266,-0.13258869572639986,-0.0663106313102575,-0.061584677924322484,-0.024916737805773526,0.03126813926506511,0.15006475416523585,-0.045756209263790204,0.029162856984827568,-0.11898218281523515,0.029299736156830902,-0.10042356712360528,0.08209183415417826,0.05376402793134161,-0.1298661760722894,0.02666993714466781,0.02038487058387639,-0.05663731580811693,-0.08020426162468153,0.0200919868106319,-0.028219861341543306,0.007240718969579785,-0.0030849832583814685,0.023564680052087505,-0.04356404201175362,-0.028695995355307646,0.20587434817667616,-0.08043825042334635,0.003919831677970331,0.19090406159539097,-0.03209624760702873,0.05934319369565533,-0.06490208672285452,0.07093541447595153,0.08584225232615894,0.043880566368812046,-0.018898626434187937,0.01875876669105636,0.18137185180646032,0.1269807911003359,0.024340968876426727,0.030167933056924834,0.07872844796071249,0.09448979597987922,0.09175237060482494,0.20806320972157466,-0.03751296196905718,0.23559839389843196,0.07454970715339831,0.10050453847192065,0.20788493171426572,-0.10006420627127854,0.02772268695153579,0.17610746488569268,-0.03920938192802781,0.024150819303990434,0.1612800921344343,0.11960561409788084,0.14433771075653667,-0.027043989770756394,0.12976139780926604,0.05351523900400157,-0.03316941809816637,0.08059739522845166,0.12987435984773688,-0.08141578487356205,0.0415483702307024,-0.000679844788733952,0.025639636958862067,0.24033942309499345,-0.010197591554455931,-0.11749773583553352,-0.019103246603126678,-0.07396139997973472,0.15089340068305643,-0.03843676342217445,0.04263813952726925,0.016331219352782866,0.1531735976587315,0.05104369392727626,0.07712572593395367,0.0785950830027084,-0.02865432771626497,-0.013690810638188389,0.1227089976604096,-0.12222508556554879,0.17715987380484352,0.00028973313011887436,-0.03618188026523811,0.0026183129653013504,-0.10354449288300804,-0.05360323507267484,-0.014792763690255284,-0.010781187315840823,-0.043470957767715035,0.09506590523944858,-0.050105132101230854,-0.019530037222587227,0.09423068037602816,-0.046780270369607246,0.17188518758880988,0.17097162089233234,0.08981665981092413,-0.03340985836443999,-0.0678515150195878,-0.008330025414889808,0.05159781606905506,0.04913757769599847,0.05817408507214766,0.12720713515005472,0.05093240565008661,0.23846439657312038,0.08401294854559416,-0.029698251177777857,-0.03148196597103392,0.0008514573729803687,0.07932449813042125,-0.06097095423773791,0.01641833261524328,0.01745263326735441,0.09441545156265169,0.04953351313944815,0.13328945820109178,0.11972981189859677,0.01976897491919144,0.07816733528438441,0.06784119626761187,-0.028908244834427832,0.030780289785393322,0.062297768995600744,0.15995878199448643,0.0930626296092939,0.18460439497894665,-0.041801961012551236,0.07469418196210126,0.0005467908904567831,0.036906433403660566,0.1151756393797903,-0.012719025609097323,0.043406234176130376,0.01010116230309549,0.09430916846534165,0.042044658556465164,-0.1119878666399271,-0.13921396271336206,-0.0026282116943883715,-0.0334436803324783,0.09211409221642958,0.1398233973123908,0.1000992186431715,0.023490498153807715,0.07372766460781982,-0.013184447728304127,0.0019032855588819175,0.0913114218237509,0.08424771453251678,0.20930405509432623,0.035991576037135875,0.1736881480262884,0.12381081275781314,0.14795868207069174,0.21596936308125286,0.024776338028403344,0.04758238666385245,0.10327549522087148,0.03026955046993446,-0.10251140076673504,0.017111385287709557,-0.023431661550173677,0.07220195563096199,0.21111096841744617,0.1673860056122899,0.0703681995212424,-0.07678415074143713,0.19848794614915788,0.015519180431066926,0.03834330638603656,0.050287595859735135,0.007746961626114768,0.09519451469429058,-0.11708231215256781,0.13366699981620192,-0.09749298321230138,-0.0373380892704257,-0.00520223885163229,-0.02134063002495884,0.013191086476595282,0.09144813244779038,-0.01686222922679742,0.02413133703229775,0.25266260450068473,-0.04082077779645965,0.15828052483209032,-0.021199864031490878,-0.1065235837725384,0.001578616339460548,0.14439870524906562,0.04112717544051003,-0.0799396863628844,0.05795890099311879,-0.061056492832941955,0.05500547808684847,0.10943354346278344,0.12111678495743997,0.03450802495425337,-0.0005008923665502096,-0.06109090204592682,-0.03256033931136276,-0.0051525522364068155,0.06501769328426277,0.07645996128584598,-0.10174426084617938,0.10526038464897369,0.06457174355694167,0.09025880953830812,-0.07986543901661669,0.0018199086647862628,0.013230829742888361,0.18337644379601525,-0.009821186337685639,-0.0806395051187061,0.13847911101726024,-0.02716968059491759,0.09081780134870426,0.10419382536336086,0.21150095902573596,-0.02992862727385376,-0.0381047111175446,0.03372496159588856,0.0675147237739282,-0.04153284425601761,0.01780684468292426,-0.06150564288773758,-0.027849934756017103,0.03807656106845658,-0.09217786024284313,-0.056508561165194426,0.09150377537843479,-0.011584535176003885,0.0754596911121107,0.055567072721604605,-0.07485141413915175,0.03671347311334627,0.03246610580795617,-0.02987275624534297,0.16865132998301446,-0.14888362353818058,0.02656934830693891,0.04034032073146909,0.029383810933457266,0.12043478150862913,-0.01038606526034086,0.07808658768657917,-0.007247300420212099,-0.04957225835958018,-0.0031879449082593547,0.07027658438355744,0.12318206406246823,-0.025297939215058074,-0.03654511882399558,0.05564311941599781,0.014559293438879461,-0.03021467073273376,0.011604452695500145,0.08552783365123312,0.0315687996416108,0.01909310321523011,0.06659630788439475,-0.029943709820721642,-0.043847763289591,-0.027393745144669024,-0.008898490138391724,0.0039341196583060345,-0.02720816679185789,0.061488084261671405,0.016113348213831924,0.003123089285030911,0.12856143698673,0.19832361450249583,-0.05078254822288347,-0.07627972646491915,-0.06227274275525774,0.09291697120533443,-0.01635928539510967,0.2287146347803539,0.022374195050889445,0.11226411113474272,0.011091665687323393,-0.041619085319155535,-0.060943936867344395,-0.04529990474503598,0.0023218159204326794,0.024684052843374993,-0.028736666692172397,0.10405644867010166,-0.014806255001566793,0.07225155715263348,0.010355653080552085,-0.14497727351938233,-0.03362534126630379,-0.023285996851229063,-0.08375424182622482,0.014313877454072477,-0.0036298764187988053,-0.0801299358673579,0.07169044588851564,-0.001932457272233179,-0.013524227940711675,0.2368533638259457,0.061392459065880034,-0.09497839540661707,-0.008588825250739507,0.026007285855412565,0.08588501649870356,-0.0061101265385878345,-0.02560711791425363,-0.012972568866121359,0.07462940269089519,-0.04001298860779501,0.05852887234914944,0.006385526870701319,-0.0649051115253998,0.018159322032055947,0.11616041944714539,-0.0631545255439625,0.09714279943794579,0.05434277636205692,0.008538270631471667,-0.006774183932253208,0.052026629223688614,0.02019986665593243,0.06707450138963883,-0.08321921101495144,-0.014180210582862729,0.021865026539858945,0.043660681472287355,0.06350597038463723,0.06512675923656824,-0.04803229964475664,-0.020128104116641565,0.10068626697800664,-0.11244036028782878,0.015554924095221856,0.0008923508749630327,-0.03582301444638741,0.006799416619710008,-0.055995566804461716,0.04265227030273089,0.011959967063324695,-0.045029445423077574,0.020025816806569563,-0.06992017091462677,-0.012144042664440746,-0.025759104686599643,0.036182618533764976,0.07066656145308747,-0.10700664191016585,-0.05733407392315004,-0.06505297207937044,0.07542261973530001,0.18278583480865282,0.11474394222884088,0.07349553127219638,0.07731509401094339,0.08309439763535581,-0.02749766710900242,-0.05185459011777621,0.04314289154412604,0.012594717218238738,0.06733198676917046,-0.02878274628653338,-0.03924441553979552,-0.010063280422598464,0.09064654156511232,0.02949311994307463,-0.01920265941470095,0.011083452629068014,-0.00838168389826871,-0.034396457349665066,-0.05696816472367622,0.012461400233789721,-0.08071046141522903,0.07958743539960528,0.07396139500598614,0.02295201170317085,-0.02227478690603607,-0.00968648007492634,-0.007904011906155917,0.04697571613629736,0.06840234532827283,0.11931342227058606,0.11604451017691025,0.19486328674598558,-0.05731021023247379,-0.11155269432594761,-0.055178964313480516,0.2373161242510752,-0.07331567427161106,0.13683412883755053,0.11046244594268095,0.033583161722282706,-0.015840059282344665,-0.12631168562568368,-0.054793434130681606,0.017914802250580786,0.04805184755382108,0.15167673883042876,-0.0032093404318342955,-0.02107777356817575,0.05629698074269929,0.016767461231663727,0.03675058862913211,-0.08190775025377639,0.1080928531431869,0.07803498223677696,0.06419078749606594,0.14657977266559213,-0.04654483491110073,-0.01235138097861771,0.07362316530722574,-0.0560433269051428,-0.007421232110405851,-0.00934270390705827,0.014487408797566548,0.02222172971682429,0.1332108645260081,0.1630688609070489,0.1720548263677145,0.22502148212574832,0.13402277133277612,0.034830936404066315,-0.08342138886207195,-0.027362665525448804,0.0538447197164425,0.15507174742056679,0.030651844871880496,0.1756230204046626,0.10401690269629982,-0.02198194363556677,0.11217592039333363,0.11437822333780545,0.010315555322447156,0.01648849221845461,0.1613967541024635,0.1956335586777604,-0.048623593529203535,-0.06584571593878935,-0.009747071289588127,-0.017496077413043154,0.06300084313959609,-0.01950843624644011,-0.07421244631069862,0.0016778531480081127,-0.03105148375719058,-0.08498095501916053,0.019834916095936128,0.07934101448629838,0.04401419388353334,-0.0006630286130438479,0.20708184360315252,0.049582766090406294,-0.08546056990726897,0.17066042185288838,0.11528432489411267,-0.0695636913866477,0.20862587693874493,-0.13721371227903512,0.08183859014023576,-0.002404815899725299,0.04737671266311977,0.05068433323059457,0.061362850821959414,0.11356025247540813,-0.08334563242094628,0.08237082184878769,0.18694751367128012,0.11885199137774022,0.025574505053676866,0.0492448931357784,0.1016824348787444,0.1384191708186977,0.07205333612213544,0.028790840856750266,0.16119326013319057,-0.059713751453423,-0.109485552679287,-0.06257654117849448,0.032015514959599534,0.1314393938691265,0.10046949256409576,-0.022594746202307392,-0.08039764765572827,0.053706208152257906,0.21906799911966116,-0.09834693390829552,0.15603259831174088,0.004791009074308961,0.020713397991527438,-0.07367402008239282,0.08232789941740898,0.05727854666418092,0.014002919991623008,0.14357212470392655,0.054310562102425575,0.2647440827452118,0.19942836628874927,0.06066374896652821,-0.04738561892156573,-0.009057693222759677,-0.0639340197494313,-0.014612349589362639,-0.08626683201743773,-0.006324882377901742,0.1555111041998518,-0.049469303608565496,0.02191531081109621,-0.008474601606468957,0.009962117302685536,0.023227947050958708,0.05601146756510955,-0.030448584498738385,0.18277749373452792,0.08033759802684354,0.03328617764316921,0.033817213965202986,0.13471218060907797,0.012036511290635987,-0.02431151809598292,0.053574795633837435,0.053431906696358944,-0.058375792533768844,0.054367627548075226,0.20037141928859098,-0.017041265100600556,-0.0635550895621304,-0.04881262053121321,0.0030341472152762283,-0.03383357346918403,0.03586062501329085,0.20350060499649825,0.08280690905232896,0.0629778677791542,0.011351057709049928,0.15637672863164284,0.009025130978544904,0.017210009972653373,0.18006209625317127,-0.056155807247862455,0.13206538623483527,0.10950963481185727,0.11619900023018037,0.0027267715388298863,0.04281115379311168,0.024607893010786253,0.0858899647809862,-0.011450019937736755,0.08379380802603759,0.0733907878884601,-0.03797942909219287,-0.0009836169667628014,0.03967581957707467,0.0754082312726097,0.025879519467019108,0.030906895124356737,0.005912466287245566,-0.07662900446660759,0.05435240331880059,-0.03763765421190629,0.15194607846947386,-0.052914193978206125,0.05101574042423718,-0.005725377576332402,0.08313019930749826,0.08521102648502776,0.1416911110569751,0.009618539576834118,0.0754487750603674,0.04440303196357481,-0.1354970043934428,0.09802712789991913,0.032104590635198604,0.004245765167528559,0.10947392987052668,0.04056416931312806,-0.03545412074861559,-0.04841962246703185,0.11019330401101624,0.09527648069765832,-0.0029280532763065192,-0.1835462215015352,0.16602926227781042,0.08223321599818006,-0.058110547798075396,0.06391495440777367,0.024745629457162854,0.018750322739795766,0.184650623822758,0.3003025677773369,0.15132849470805618,-0.0847638773068431,0.004536150887169466,-0.11148532934911848,0.0058217772606311,-0.023281101243249613,-0.10111469709093912,0.21806588723117656,-0.08597947229565261,0.07861537402188451,0.1590739953611684,0.017166708365234096,0.018215658867729023,0.07545680734524512,0.07311332002182352,-0.06124386615572547,0.09563138280337619,-0.023837915586934377,-0.0024199090872652484,0.21616171429269498,-0.09232571201423284,-0.032691137109518764,0.06468762562285485,0.023720769428949073,0.1082872695951505,-0.09486513706907851,-0.05542900913866605,0.1356324895916184,0.13609799588682947,0.01448971489538009,0.03855635492185072,-0.05104113341998279,0.11676313176209013,0.06767467414822093,-0.12016492371863297,0.10515943160050356,0.030456049624483117,0.10025592516007675,-0.056084935470096464,0.001001950311949329,0.08637710937287651,0.21347014148880517,0.04301200616216133,0.059651533405858714,0.09842370296622366,0.03290226737076174,-0.09414253671970146,-0.10601631584133997,0.08718596968519327,0.06911893277113595,0.14302082947463896,-0.14382168306954857,0.011263715559209353,0.0007844397383581225,0.05759405137695456,0.0031727629437303118,-0.04866136892359163,0.13899258707277856,0.056866780899070435,0.038671720462794434,-0.0005815121685268099,0.15303738179468762,0.08634597952320938,0.07208427146913005,0.04354646676023233,0.0639977865833054,-0.05140366454919765,0.0954902983480303,0.0352661492527192,-0.008307799672772398,0.15223795821073152,0.07854386783649969,0.09869351236484619,-0.006411987023336174,-0.024130528778847582,0.009007386883884305,-0.03974855977810271,-0.04303403290009339,0.08439741820213564,-0.02080902542764851,0.06612810399988556,0.1470586535458721,0.07369200847900204,-0.06573446098515329,0.20877427229168022,0.07098445395621494,0.22773329199424133,0.06688793953142419,0.10172751669639596,-0.06466966523536538,-0.07001600055792206,0.1165025480597281,-0.13374357144266896,0.15094128723796296,0.03177125598721181,0.08621378408410468,-0.11971761429191075,0.07124835986005046,0.020948351541517918,-0.04684338477840716,0.11387979451915886,0.12038809128288253,-0.06677645282769856,-0.036690290488981536,0.009646089659199775,0.011391814733546002,-0.05684610691914288,0.1789349660055726,0.10107421861557125,-0.0004040301318730677,0.17911732517194065,0.07824721297062365,0.09465138178363525,-0.013831038767534332,0.09732930425731978,-0.07466497564456387,0.07665219834213777,0.2575031331565383,0.060471845780986355,0.10782593138000307,-0.05964125399354192,-0.030277725313531345,0.024363896893671022,0.09753361615383688,0.1595463095577772,0.0037628030337310547,0.06731641560985707,-0.04070446739942246,0.18145442463538908,-0.03241930671597765,0.007978222153299575,0.08118303042446634,0.04408244638635889,-0.00916729043532416,0.08073819281365957,0.05232910863117418,0.12196399158380195,-0.03025395339655801,0.12162638912733376,0.11606522759474797,0.1517923140869516,0.0977252965329855,0.06809547978412828,0.029693847160955855,0.06939174819216737,0.07943853445120769,0.10539396640233512,-0.04094544660306049,-0.09543409258362667,0.04835922740788651,0.04747298081844392,-0.039515926090974984,0.21410491577249147,-0.03469663340712492,0.13977528156685265,0.0024259558830952987,-0.11735473132049157,-0.01794113945467668,-0.023440700075757215,0.10853894262335728,-0.004180583369916724,0.05767352526968017,0.02039980094205318,0.015192738815944518,0.008550101001277732,0.1523625345355642,-0.05329818118488344,0.008584068184068261,0.016754090203602523,-0.1009825894677086,-0.011182059749811568,-0.013360461524630218,0.26122490260788056,0.023554756219282158,-0.06112069327580383,0.02106533124744897,0.1790488989199016,0.032366618506621925,0.00454990330821442,0.002176796047295315,0.17555001225950206,0.19757742337774237,0.06624654931752832,0.04123059858224415,0.06531253402943105,0.020091484317414254,-0.008495260517405845,0.022025942004678944,0.0352901592885404,0.08741444944843008,-0.07465814093387119,-0.03926110509095193,-0.06193535990751936,-0.02776017494163585,-0.0012099573598560731,0.21367497341231922,-0.007721708231658075,0.08029071261931275,0.05101880563606659,0.18222639567528925,0.08526451967094711,-0.08515757550427772,0.1160075960917239,0.03201495965968376,0.06491908435687122,0.031387915283032475,-0.056825711718682226,-0.08112924111936631,-0.0057705459177751495,-0.028542752620525635,0.12344093260197964,0.01591251341106431,-0.019237961027744388,0.050111692739587765,0.13865897680645806,-0.042232172266796264,-0.036738923829211456,0.02421456714967618,0.1252386802169947,0.13174188195282593,0.01119356147735101,-0.06575589071891419,-0.11020445427571163,-0.02315516740860568,0.06800445166166369,0.05151071903799437,0.08685280740231305,0.08576728040850218,-0.030104277739609164,0.09254925232292599,0.09562090680055557,0.17765937355788067,0.06530473088865968,0.026145713495101475,-0.10869355486275101,0.10633404792950207,0.012571889110430945,0.018731489663178502,0.11072051572963948,0.150067913614698,-0.012655490906072153,-0.06799947756701957,0.02351238366689823,-0.008606895086937405,-0.08144967951521154,-0.13395229791755492,0.05858797051281489,0.09460252796911794,0.10433998865867905,0.14887754901018446,-0.04183577321579246,-0.12567945358751081,0.10900994291994787,0.017903931433674025,0.060226842084858845,0.09085817247156475,-0.0728790609640137,0.05718208893414889,-0.10379403784292685],\"xaxis\":\"x\",\"yaxis\":\"y\",\"type\":\"histogram\"}],                        {\"template\":{\"data\":{\"histogram2dcontour\":[{\"type\":\"histogram2dcontour\",\"colorbar\":{\"outlinewidth\":0,\"ticks\":\"\"},\"colorscale\":[[0.0,\"#0d0887\"],[0.1111111111111111,\"#46039f\"],[0.2222222222222222,\"#7201a8\"],[0.3333333333333333,\"#9c179e\"],[0.4444444444444444,\"#bd3786\"],[0.5555555555555556,\"#d8576b\"],[0.6666666666666666,\"#ed7953\"],[0.7777777777777778,\"#fb9f3a\"],[0.8888888888888888,\"#fdca26\"],[1.0,\"#f0f921\"]]}],\"choropleth\":[{\"type\":\"choropleth\",\"colorbar\":{\"outlinewidth\":0,\"ticks\":\"\"}}],\"histogram2d\":[{\"type\":\"histogram2d\",\"colorbar\":{\"outlinewidth\":0,\"ticks\":\"\"},\"colorscale\":[[0.0,\"#0d0887\"],[0.1111111111111111,\"#46039f\"],[0.2222222222222222,\"#7201a8\"],[0.3333333333333333,\"#9c179e\"],[0.4444444444444444,\"#bd3786\"],[0.5555555555555556,\"#d8576b\"],[0.6666666666666666,\"#ed7953\"],[0.7777777777777778,\"#fb9f3a\"],[0.8888888888888888,\"#fdca26\"],[1.0,\"#f0f921\"]]}],\"heatmap\":[{\"type\":\"heatmap\",\"colorbar\":{\"outlinewidth\":0,\"ticks\":\"\"},\"colorscale\":[[0.0,\"#0d0887\"],[0.1111111111111111,\"#46039f\"],[0.2222222222222222,\"#7201a8\"],[0.3333333333333333,\"#9c179e\"],[0.4444444444444444,\"#bd3786\"],[0.5555555555555556,\"#d8576b\"],[0.6666666666666666,\"#ed7953\"],[0.7777777777777778,\"#fb9f3a\"],[0.8888888888888888,\"#fdca26\"],[1.0,\"#f0f921\"]]}],\"heatmapgl\":[{\"type\":\"heatmapgl\",\"colorbar\":{\"outlinewidth\":0,\"ticks\":\"\"},\"colorscale\":[[0.0,\"#0d0887\"],[0.1111111111111111,\"#46039f\"],[0.2222222222222222,\"#7201a8\"],[0.3333333333333333,\"#9c179e\"],[0.4444444444444444,\"#bd3786\"],[0.5555555555555556,\"#d8576b\"],[0.6666666666666666,\"#ed7953\"],[0.7777777777777778,\"#fb9f3a\"],[0.8888888888888888,\"#fdca26\"],[1.0,\"#f0f921\"]]}],\"contourcarpet\":[{\"type\":\"contourcarpet\",\"colorbar\":{\"outlinewidth\":0,\"ticks\":\"\"}}],\"contour\":[{\"type\":\"contour\",\"colorbar\":{\"outlinewidth\":0,\"ticks\":\"\"},\"colorscale\":[[0.0,\"#0d0887\"],[0.1111111111111111,\"#46039f\"],[0.2222222222222222,\"#7201a8\"],[0.3333333333333333,\"#9c179e\"],[0.4444444444444444,\"#bd3786\"],[0.5555555555555556,\"#d8576b\"],[0.6666666666666666,\"#ed7953\"],[0.7777777777777778,\"#fb9f3a\"],[0.8888888888888888,\"#fdca26\"],[1.0,\"#f0f921\"]]}],\"surface\":[{\"type\":\"surface\",\"colorbar\":{\"outlinewidth\":0,\"ticks\":\"\"},\"colorscale\":[[0.0,\"#0d0887\"],[0.1111111111111111,\"#46039f\"],[0.2222222222222222,\"#7201a8\"],[0.3333333333333333,\"#9c179e\"],[0.4444444444444444,\"#bd3786\"],[0.5555555555555556,\"#d8576b\"],[0.6666666666666666,\"#ed7953\"],[0.7777777777777778,\"#fb9f3a\"],[0.8888888888888888,\"#fdca26\"],[1.0,\"#f0f921\"]]}],\"mesh3d\":[{\"type\":\"mesh3d\",\"colorbar\":{\"outlinewidth\":0,\"ticks\":\"\"}}],\"scatter\":[{\"fillpattern\":{\"fillmode\":\"overlay\",\"size\":10,\"solidity\":0.2},\"type\":\"scatter\"}],\"parcoords\":[{\"type\":\"parcoords\",\"line\":{\"colorbar\":{\"outlinewidth\":0,\"ticks\":\"\"}}}],\"scatterpolargl\":[{\"type\":\"scatterpolargl\",\"marker\":{\"colorbar\":{\"outlinewidth\":0,\"ticks\":\"\"}}}],\"bar\":[{\"error_x\":{\"color\":\"#2a3f5f\"},\"error_y\":{\"color\":\"#2a3f5f\"},\"marker\":{\"line\":{\"color\":\"#E5ECF6\",\"width\":0.5},\"pattern\":{\"fillmode\":\"overlay\",\"size\":10,\"solidity\":0.2}},\"type\":\"bar\"}],\"scattergeo\":[{\"type\":\"scattergeo\",\"marker\":{\"colorbar\":{\"outlinewidth\":0,\"ticks\":\"\"}}}],\"scatterpolar\":[{\"type\":\"scatterpolar\",\"marker\":{\"colorbar\":{\"outlinewidth\":0,\"ticks\":\"\"}}}],\"histogram\":[{\"marker\":{\"pattern\":{\"fillmode\":\"overlay\",\"size\":10,\"solidity\":0.2}},\"type\":\"histogram\"}],\"scattergl\":[{\"type\":\"scattergl\",\"marker\":{\"colorbar\":{\"outlinewidth\":0,\"ticks\":\"\"}}}],\"scatter3d\":[{\"type\":\"scatter3d\",\"line\":{\"colorbar\":{\"outlinewidth\":0,\"ticks\":\"\"}},\"marker\":{\"colorbar\":{\"outlinewidth\":0,\"ticks\":\"\"}}}],\"scattermapbox\":[{\"type\":\"scattermapbox\",\"marker\":{\"colorbar\":{\"outlinewidth\":0,\"ticks\":\"\"}}}],\"scatterternary\":[{\"type\":\"scatterternary\",\"marker\":{\"colorbar\":{\"outlinewidth\":0,\"ticks\":\"\"}}}],\"scattercarpet\":[{\"type\":\"scattercarpet\",\"marker\":{\"colorbar\":{\"outlinewidth\":0,\"ticks\":\"\"}}}],\"carpet\":[{\"aaxis\":{\"endlinecolor\":\"#2a3f5f\",\"gridcolor\":\"white\",\"linecolor\":\"white\",\"minorgridcolor\":\"white\",\"startlinecolor\":\"#2a3f5f\"},\"baxis\":{\"endlinecolor\":\"#2a3f5f\",\"gridcolor\":\"white\",\"linecolor\":\"white\",\"minorgridcolor\":\"white\",\"startlinecolor\":\"#2a3f5f\"},\"type\":\"carpet\"}],\"table\":[{\"cells\":{\"fill\":{\"color\":\"#EBF0F8\"},\"line\":{\"color\":\"white\"}},\"header\":{\"fill\":{\"color\":\"#C8D4E3\"},\"line\":{\"color\":\"white\"}},\"type\":\"table\"}],\"barpolar\":[{\"marker\":{\"line\":{\"color\":\"#E5ECF6\",\"width\":0.5},\"pattern\":{\"fillmode\":\"overlay\",\"size\":10,\"solidity\":0.2}},\"type\":\"barpolar\"}],\"pie\":[{\"automargin\":true,\"type\":\"pie\"}]},\"layout\":{\"autotypenumbers\":\"strict\",\"colorway\":[\"#636efa\",\"#EF553B\",\"#00cc96\",\"#ab63fa\",\"#FFA15A\",\"#19d3f3\",\"#FF6692\",\"#B6E880\",\"#FF97FF\",\"#FECB52\"],\"font\":{\"color\":\"#2a3f5f\"},\"hovermode\":\"closest\",\"hoverlabel\":{\"align\":\"left\"},\"paper_bgcolor\":\"white\",\"plot_bgcolor\":\"#E5ECF6\",\"polar\":{\"bgcolor\":\"#E5ECF6\",\"angularaxis\":{\"gridcolor\":\"white\",\"linecolor\":\"white\",\"ticks\":\"\"},\"radialaxis\":{\"gridcolor\":\"white\",\"linecolor\":\"white\",\"ticks\":\"\"}},\"ternary\":{\"bgcolor\":\"#E5ECF6\",\"aaxis\":{\"gridcolor\":\"white\",\"linecolor\":\"white\",\"ticks\":\"\"},\"baxis\":{\"gridcolor\":\"white\",\"linecolor\":\"white\",\"ticks\":\"\"},\"caxis\":{\"gridcolor\":\"white\",\"linecolor\":\"white\",\"ticks\":\"\"}},\"coloraxis\":{\"colorbar\":{\"outlinewidth\":0,\"ticks\":\"\"}},\"colorscale\":{\"sequential\":[[0.0,\"#0d0887\"],[0.1111111111111111,\"#46039f\"],[0.2222222222222222,\"#7201a8\"],[0.3333333333333333,\"#9c179e\"],[0.4444444444444444,\"#bd3786\"],[0.5555555555555556,\"#d8576b\"],[0.6666666666666666,\"#ed7953\"],[0.7777777777777778,\"#fb9f3a\"],[0.8888888888888888,\"#fdca26\"],[1.0,\"#f0f921\"]],\"sequentialminus\":[[0.0,\"#0d0887\"],[0.1111111111111111,\"#46039f\"],[0.2222222222222222,\"#7201a8\"],[0.3333333333333333,\"#9c179e\"],[0.4444444444444444,\"#bd3786\"],[0.5555555555555556,\"#d8576b\"],[0.6666666666666666,\"#ed7953\"],[0.7777777777777778,\"#fb9f3a\"],[0.8888888888888888,\"#fdca26\"],[1.0,\"#f0f921\"]],\"diverging\":[[0,\"#8e0152\"],[0.1,\"#c51b7d\"],[0.2,\"#de77ae\"],[0.3,\"#f1b6da\"],[0.4,\"#fde0ef\"],[0.5,\"#f7f7f7\"],[0.6,\"#e6f5d0\"],[0.7,\"#b8e186\"],[0.8,\"#7fbc41\"],[0.9,\"#4d9221\"],[1,\"#276419\"]]},\"xaxis\":{\"gridcolor\":\"white\",\"linecolor\":\"white\",\"ticks\":\"\",\"title\":{\"standoff\":15},\"zerolinecolor\":\"white\",\"automargin\":true,\"zerolinewidth\":2},\"yaxis\":{\"gridcolor\":\"white\",\"linecolor\":\"white\",\"ticks\":\"\",\"title\":{\"standoff\":15},\"zerolinecolor\":\"white\",\"automargin\":true,\"zerolinewidth\":2},\"scene\":{\"xaxis\":{\"backgroundcolor\":\"#E5ECF6\",\"gridcolor\":\"white\",\"linecolor\":\"white\",\"showbackground\":true,\"ticks\":\"\",\"zerolinecolor\":\"white\",\"gridwidth\":2},\"yaxis\":{\"backgroundcolor\":\"#E5ECF6\",\"gridcolor\":\"white\",\"linecolor\":\"white\",\"showbackground\":true,\"ticks\":\"\",\"zerolinecolor\":\"white\",\"gridwidth\":2},\"zaxis\":{\"backgroundcolor\":\"#E5ECF6\",\"gridcolor\":\"white\",\"linecolor\":\"white\",\"showbackground\":true,\"ticks\":\"\",\"zerolinecolor\":\"white\",\"gridwidth\":2}},\"shapedefaults\":{\"line\":{\"color\":\"#2a3f5f\"}},\"annotationdefaults\":{\"arrowcolor\":\"#2a3f5f\",\"arrowhead\":0,\"arrowwidth\":1},\"geo\":{\"bgcolor\":\"white\",\"landcolor\":\"#E5ECF6\",\"subunitcolor\":\"white\",\"showland\":true,\"showlakes\":true,\"lakecolor\":\"white\"},\"title\":{\"x\":0.05},\"mapbox\":{\"style\":\"light\"}}},\"xaxis\":{\"anchor\":\"y\",\"domain\":[0.0,1.0],\"title\":{\"text\":\"R-squared Delta (Train - Test)\"}},\"yaxis\":{\"anchor\":\"x\",\"domain\":[0.0,1.0],\"title\":{\"text\":\"Frequency\"}},\"legend\":{\"title\":{\"text\":\"variable\"},\"tracegroupgap\":0},\"title\":{\"text\":\"Distribution of R-squared Deltas (Training vs. Testing)\"},\"barmode\":\"relative\"},                        {\"responsive\": true}                    ).then(function(){\n",
       "                            \n",
       "var gd = document.getElementById('afe1ed9f-dedb-404c-966f-a98bd0fd227c');\n",
       "var x = new MutationObserver(function (mutations, observer) {{\n",
       "        var display = window.getComputedStyle(gd).display;\n",
       "        if (!display || display === 'none') {{\n",
       "            console.log([gd, 'removed!']);\n",
       "            Plotly.purge(gd);\n",
       "            observer.disconnect();\n",
       "        }}\n",
       "}});\n",
       "\n",
       "// Listen for the removal of the full notebook cells\n",
       "var notebookContainer = gd.closest('#notebook-container');\n",
       "if (notebookContainer) {{\n",
       "    x.observe(notebookContainer, {childList: true});\n",
       "}}\n",
       "\n",
       "// Listen for the clearing of the current output cell\n",
       "var outputEl = gd.closest('.output');\n",
       "if (outputEl) {{\n",
       "    x.observe(outputEl, {childList: true});\n",
       "}}\n",
       "\n",
       "                        })                };                });            </script>        </div>"
      ]
     },
     "metadata": {},
     "output_type": "display_data"
    }
   ],
   "source": [
    "import numpy as np\n",
    "import pandas as pd\n",
    "from sklearn.model_selection import train_test_split\n",
    "import statsmodels.formula.api as smf\n",
    "import plotly.express as px\n",
    "\n",
    "# Ensure consistent categories in 'Type 1' and 'Type 2' across the entire dataset\n",
    "pokeaman['Type 1'] = pokeaman['Type 1'].astype('category')\n",
    "pokeaman['Type 2'] = pokeaman['Type 2'].astype('category')\n",
    "\n",
    "# Define an empty list to store R-squared deltas\n",
    "r_squared_deltas = []\n",
    "\n",
    "# Loop for 100 iterations\n",
    "for _ in range(1000):\n",
    "    # Split the data into training and testing sets\n",
    "    pokeaman_train, pokeaman_test = train_test_split(pokeaman, train_size=0.5)\n",
    "\n",
    "    # Define the formula for the OLS model\n",
    "    model_linear_form = 'HP ~ Attack + Speed + Q(\"Sp. Def\") + Q(\"Sp. Atk\")'\n",
    "    # And here we'll add the significant indicators from the previous model\n",
    "    # https://chatgpt.com/share/81ab88df-4f07-49f9-a44a-de0cfd89c67c\n",
    "    model_linear_form += ' + I(Q(\"Type 1\")==\"Normal\")'\n",
    "    model_linear_form += ' + I(Q(\"Type 1\")==\"Water\")'\n",
    "    model_linear_form += ' + I(Generation==2)'\n",
    "    model_linear_form += ' + I(Generation==5)'\n",
    "\n",
    "    # Fit the OLS model to the training data\n",
    "    model_spec = smf.ols(formula=model_linear_form, data=pokeaman_train)\n",
    "    model_fit = model_spec.fit()\n",
    "\n",
    "    # Calculate R-squared for the training set\n",
    "    r2_train = model_fit.rsquared\n",
    "\n",
    "    # Calculate R-squared for the testing set\n",
    "    yhat_test = model_fit.predict(pokeaman_test)\n",
    "    y_test = pokeaman_test['HP']\n",
    "    r2_test = np.corrcoef(y_test, yhat_test)[0, 1] ** 2\n",
    "\n",
    "    # Store the difference in R-squared values\n",
    "    r_squared_deltas.append(r2_train - r2_test)\n",
    "\n",
    "# Plot the deltas using Plotly\n",
    "fig = px.histogram(r_squared_deltas, nbins=20, title=\"Distribution of R-squared Deltas (Training vs. Testing)\")\n",
    "fig.update_xaxes(title_text=\"R-squared Delta (Train - Test)\")\n",
    "fig.update_yaxes(title_text=\"Frequency\")\n",
    "fig.show()\n"
   ]
  },
  {
   "cell_type": "code",
   "execution_count": 108,
   "id": "ed4aed5c-1afb-4282-ad39-e022a55b0633",
   "metadata": {},
   "outputs": [
    {
     "data": {
      "text/plain": [
       "0.02488736600612782"
      ]
     },
     "execution_count": 108,
     "metadata": {},
     "output_type": "execute_result"
    }
   ],
   "source": [
    "sum(r_squared_deltas) / len(r_squared_deltas)"
   ]
  },
  {
   "cell_type": "markdown",
   "id": "ccaa7070-dced-4cb6-8d9b-6bfc029aa364",
   "metadata": {},
   "source": [
    "#### 9:"
   ]
  },
  {
   "cell_type": "markdown",
   "id": "b332050c-52c0-4283-9e40-a48d0a582700",
   "metadata": {},
   "source": [
    "The following code attempts to compare a model trained on Generation 1 Pokemon data with a model trained on Generation 1-5 Pokemon data, to see which one is able to predict Generation 6 Pokemon data the most accurately. \n",
    "\n",
    "model6: ``'HP ~ Attack + Speed + Q(\"Sp. Def\") + Q(\"Sp. Atk\") + I(Q(\"Type 1\")==\"Normal\") + I(Q(\"Type 1\")==\"Water\") + I(Generation==2) + I(Generation==5)'``\n",
    "\n",
    "model7: ``'HP ~ Attack * Speed * Q(\"Sp. Def\") * Q(\"Sp. Atk\") + I(Q(\"Type 1\")==\"Normal\") + I(Q(\"Type 1\")==\"Water\") + I(Generation==2) + I(Generation==5)'``\n",
    "\n",
    "The first chunk of code compares the original model7 with model7 trained only on Generation 1. As expected, delta R-squared between 'in sample' and 'out of sample' is very very negative for gen1_predict_future, as it has only been trained on generation 1 Pokemon and does not generalize well. **It does, however, do very well on Gen 1 data as it's specialized on that.**\n",
    "\n",
    "The second chunk of code compares the original model7 with model7 trained on Generation 1-5. As expected, while delta R-squared is still negative, the difference is much less than the first test (only -0.17 compared to -0.46) as **it generalizes much better, having been trained on a larger and more diverse dataset that is more connected to Gen 6.**\n",
    "\n",
    "The third and fourth chunks of code do the same thing, but just for model6. We can see for model6 that the original model's generalizing is terrible (going from R^2 of 0.33 to almost 0) and the same pattern that **the model trained on Gen1 only does not generalize as well as the model trained on Gen1-5 data.**"
   ]
  },
  {
   "cell_type": "code",
   "execution_count": 112,
   "id": "9a20c570-ff6b-40dc-9e26-b2dedbd38c84",
   "metadata": {},
   "outputs": [
    {
     "name": "stdout",
     "output_type": "stream",
     "text": [
      "'In sample' R-squared:     0.3327557117602232 (original)\n",
      "'Out of sample' R-squared: 0.35438289685766466 (original)\n",
      "'In sample' R-squared:     0.5726118179916575 (gen1_predict_future)\n",
      "'Out of sample' R-squared: 0.11151363386295031 (gen1_predict_future)\n"
     ]
    }
   ],
   "source": [
    "model7_gen1_predict_future = smf.ols(formula=model7_linear_form,\n",
    "                                   data=pokeaman[pokeaman.Generation==1])\n",
    "model7_gen1_predict_future_fit = model7_gen1_predict_future.fit()\n",
    "print(\"'In sample' R-squared:    \", model7_fit.rsquared, \"(original)\")\n",
    "y = pokeaman_test.HP\n",
    "print(\"'Out of sample' R-squared:\", np.corrcoef(y,yhat_model7)[0,1]**2, \"(original)\")\n",
    "print(\"'In sample' R-squared:    \", model7_gen1_predict_future_fit.rsquared, \"(gen1_predict_future)\")\n",
    "y = pokeaman[pokeaman.Generation!=1].HP\n",
    "yhat = model7_gen1_predict_future_fit.predict(pokeaman[pokeaman.Generation!=1])\n",
    "print(\"'Out of sample' R-squared:\", np.corrcoef(y,yhat)[0,1]**2, \"(gen1_predict_future)\")\n"
   ]
  },
  {
   "cell_type": "code",
   "execution_count": 113,
   "id": "d84981d4-f61e-4c30-847a-97ac3c231af9",
   "metadata": {},
   "outputs": [
    {
     "name": "stdout",
     "output_type": "stream",
     "text": [
      "'In sample' R-squared:     0.3327557117602232 (original)\n",
      "'Out of sample' R-squared: 0.35438289685766466 (original)\n",
      "'In sample' R-squared:     0.3904756578094539 (gen1to5_predict_future)\n",
      "'Out of sample' R-squared: 0.23394915433285515 (gen1to5_predict_future)\n"
     ]
    }
   ],
   "source": [
    "model7_gen1to5_predict_future = smf.ols(formula=model7_linear_form,\n",
    "                                   data=pokeaman[pokeaman.Generation!=6])\n",
    "model7_gen1to5_predict_future_fit = model7_gen1to5_predict_future.fit()\n",
    "print(\"'In sample' R-squared:    \", model7_fit.rsquared, \"(original)\")\n",
    "y = pokeaman_test.HP\n",
    "print(\"'Out of sample' R-squared:\", np.corrcoef(y,yhat_model7)[0,1]**2, \"(original)\")\n",
    "print(\"'In sample' R-squared:    \", model7_gen1to5_predict_future_fit.rsquared, \"(gen1to5_predict_future)\")\n",
    "y = pokeaman[pokeaman.Generation==6].HP\n",
    "yhat = model7_gen1to5_predict_future_fit.predict(pokeaman[pokeaman.Generation==6])\n",
    "print(\"'Out of sample' R-squared:\", np.corrcoef(y,yhat)[0,1]**2, \"(gen1to5_predict_future)\")\n",
    "\n"
   ]
  },
  {
   "cell_type": "code",
   "execution_count": 114,
   "id": "23744347-aed5-45c3-b946-dbf2bc13042f",
   "metadata": {},
   "outputs": [
    {
     "name": "stdout",
     "output_type": "stream",
     "text": [
      "'In sample' R-squared:     0.3326310334310908 (original)\n",
      "'Out of sample' R-squared: 1.3089076225194694e-05 (original)\n",
      "'In sample' R-squared:     0.44338805177272833 (gen1_predict_future)\n",
      "'Out of sample' R-squared: 0.19328585342761895 (gen1_predict_future)\n"
     ]
    }
   ],
   "source": [
    "model6_gen1_predict_future = smf.ols(formula=model6_linear_form,\n",
    "                                   data=pokeaman[pokeaman.Generation==1])\n",
    "model6_gen1_predict_future_fit = model6_gen1_predict_future.fit()\n",
    "print(\"'In sample' R-squared:    \", model6_fit.rsquared, \"(original)\")\n",
    "y = pokeaman_test.HP\n",
    "print(\"'Out of sample' R-squared:\", np.corrcoef(y,yhat_model6)[0,1]**2, \"(original)\")\n",
    "print(\"'In sample' R-squared:    \", model6_gen1_predict_future_fit.rsquared, \"(gen1_predict_future)\")\n",
    "y = pokeaman[pokeaman.Generation!=1].HP\n",
    "yhat = model6_gen1_predict_future_fit.predict(pokeaman[pokeaman.Generation!=1])\n",
    "print(\"'Out of sample' R-squared:\", np.corrcoef(y,yhat)[0,1]**2, \"(gen1_predict_future)\")\n",
    "\n"
   ]
  },
  {
   "cell_type": "code",
   "execution_count": 115,
   "id": "7ab24c77-ab82-4a64-a80d-1c186b5c262d",
   "metadata": {},
   "outputs": [
    {
     "name": "stdout",
     "output_type": "stream",
     "text": [
      "'In sample' R-squared:     0.3326310334310908 (original)\n",
      "'Out of sample' R-squared: 1.3089076225194694e-05 (original)\n",
      "'In sample' R-squared:     0.335172798241148 (gen1to5_predict_future)\n",
      "'Out of sample' R-squared: 0.2626269017879997 (gen1to5_predict_future)\n"
     ]
    }
   ],
   "source": [
    "model6_gen1to5_predict_future = smf.ols(formula=model6_linear_form,\n",
    "                                   data=pokeaman[pokeaman.Generation!=6])\n",
    "model6_gen1to5_predict_future_fit = model6_gen1to5_predict_future.fit()\n",
    "print(\"'In sample' R-squared:    \", model6_fit.rsquared, \"(original)\")\n",
    "y = pokeaman_test.HP\n",
    "print(\"'Out of sample' R-squared:\", np.corrcoef(y,yhat_model6)[0,1]**2, \"(original)\")\n",
    "print(\"'In sample' R-squared:    \", model6_gen1to5_predict_future_fit.rsquared, \"(gen1to5_predict_future)\")\n",
    "y = pokeaman[pokeaman.Generation==6].HP\n",
    "yhat = model6_gen1to5_predict_future_fit.predict(pokeaman[pokeaman.Generation==6])\n",
    "print(\"'Out of sample' R-squared:\", np.corrcoef(y,yhat)[0,1]**2, \"(gen1to5_predict_future)\")\n",
    "\n"
   ]
  },
  {
   "cell_type": "markdown",
   "id": "8bd25333-5223-4daf-9ec2-ccb07d227261",
   "metadata": {},
   "source": [
    "Here's a summary of this specific conversation:\n",
    "\n",
    "1. **Understanding Model Evaluation**:\n",
    "   - We discussed the R-squared values printed in the code, focusing on the comparison between \"in-sample\" and \"out-of-sample\" R-squared. You were trying to understand why certain R-squared values might be higher or lower for different models and why there might be discrepancies in these values.\n",
    "   - We went over how to interpret the R-squared value for both training (in-sample) and testing (out-of-sample) data, and how different subsets of the data (like specific generations in your Pokémon dataset) affect model predictions.\n",
    "\n",
    "2. **Code Breakdown**:\n",
    "   - You shared a block of code involving several linear regression models (using `smf.ols`), where different subsets of the data were being used to predict \"HP\" based on the generation of the Pokémon.\n",
    "   - The code checks both \"in-sample\" and \"out-of-sample\" R-squared values, comparing the models' ability to predict HP for different subsets of the data (e.g., Generation 1 vs non-Generation 1, and Generation 1 to 5 vs Generation 6).\n",
    "\n",
    "3. **Specific Query**:\n",
    "   - You were curious about the line of code: \n",
    "     ```python\n",
    "     y = pokeaman[pokeaman.Generation!=1].HP\n",
    "     ```\n",
    "     which selects data from all Pokémon that are not Generation 1 and tests how the model trained on Generation 1 data performs on this different data. We clarified that this doesn't mean the model predicts Generation 1 data well, but instead shows how well a model trained on one subset (e.g., Generation 1) generalizes to another (e.g., non-Generation 1).\n",
    "\n",
    "4. **Next Steps**:\n",
    "   - You are continuing to work through the evaluation of your models, particularly in understanding how to interpret the results in terms of predictive accuracy and fitting for different subsets of your data.\n",
    "\n",
    "Let me know if you need further clarification on any part!"
   ]
  }
 ],
 "metadata": {
  "kernelspec": {
   "display_name": "Python 3 (ipykernel)",
   "language": "python",
   "name": "python3"
  },
  "language_info": {
   "codemirror_mode": {
    "name": "ipython",
    "version": 3
   },
   "file_extension": ".py",
   "mimetype": "text/x-python",
   "name": "python",
   "nbconvert_exporter": "python",
   "pygments_lexer": "ipython3",
   "version": "3.9.6"
  }
 },
 "nbformat": 4,
 "nbformat_minor": 5
}
