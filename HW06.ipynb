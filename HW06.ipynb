{
 "cells": [
  {
   "cell_type": "markdown",
   "id": "8bc2ef31-bfe1-4ced-964d-2d88c5c65304",
   "metadata": {},
   "source": [
    "# Week of Oct21 HW"
   ]
  },
  {
   "cell_type": "markdown",
   "id": "b1fd4f61-0c43-4c97-8979-4d080e3cefa6",
   "metadata": {},
   "source": [
    "#### 1:"
   ]
  },
  {
   "cell_type": "markdown",
   "id": "8e53a011-048c-429d-84e3-1e6394721e67",
   "metadata": {},
   "source": [
    "$$y = \\beta_0 + \\beta_1 x + \\varepsilon$$ is the equation for a simple linear regression model. \n",
    "\n",
    "Components of the linear regression model:\n",
    "- $y$: predictor variable (output of the model; the dependent variable we are estimating)\n",
    "- $x$: outcome variable (input of the model; the independent variable we are using to estimate the predictor variable)\n",
    "- $\\beta_1$: slope coefficient (slope of the linear curve)\n",
    "- $\\beta_0$: intercept coefficient (y-intercept of the linear curve)\n",
    "- $\\varepsilon$: error term (vertical difference from predicted and observed values at a single point)\n",
    "\n",
    "The aim for the Linear Regression model is to predict a dependent variable based on a input variable, using a line that best fits the data we have. \n"
   ]
  },
  {
   "cell_type": "code",
   "execution_count": 22,
   "id": "f4c93946-64a9-46e4-ba1e-ac7048615064",
   "metadata": {},
   "outputs": [
    {
     "data": {
      "application/vnd.plotly.v1+json": {
       "config": {
        "plotlyServerURL": "https://plot.ly"
       },
       "data": [
        {
         "marker": {
          "color": "blue"
         },
         "mode": "markers",
         "name": "Data Points",
         "type": "scatter",
         "x": [
          3.745401188473625,
          9.50714306409916,
          7.319939418114051,
          5.986584841970366,
          1.5601864044243652,
          1.5599452033620265,
          0.5808361216819946,
          8.661761457749352,
          6.011150117432088,
          7.080725777960454,
          0.20584494295802447,
          9.699098521619943,
          8.324426408004218,
          2.1233911067827616,
          1.8182496720710062,
          1.8340450985343382,
          3.0424224295953772,
          5.247564316322379,
          4.319450186421157,
          2.9122914019804194,
          6.118528947223795,
          1.3949386065204183,
          2.9214464853521815,
          3.663618432936917,
          4.56069984217036,
          7.851759613930136,
          1.9967378215835974,
          5.142344384136116,
          5.924145688620425,
          0.46450412719997725,
          6.075448519014383,
          1.7052412368729153,
          0.6505159298527952,
          9.488855372533333,
          9.656320330745594,
          8.08397348116461,
          3.0461376917337066,
          0.9767211400638387,
          6.842330265121569,
          4.4015249373960135,
          1.2203823484477883,
          4.951769101112702,
          0.34388521115218396,
          9.093204020787821,
          2.587799816000169,
          6.62522284353982,
          3.1171107608941098,
          5.200680211778108,
          5.4671027934327965,
          1.8485445552552704,
          9.695846277645586,
          7.7513282336111455,
          9.394989415641891,
          8.948273504276488,
          5.978999788110851,
          9.218742350231167,
          0.884925020519195,
          1.959828624191452,
          0.45227288910538066,
          3.2533033076326436,
          3.8867728968948203,
          2.713490317738959,
          8.287375091519294,
          3.567533266935893,
          2.8093450968738076,
          5.426960831582485,
          1.4092422497476265,
          8.021969807540398,
          0.7455064367977082,
          9.868869366005173,
          7.722447692966574,
          1.987156815341724,
          0.05522117123602399,
          8.154614284548341,
          7.068573438476172,
          7.2900716804098735,
          7.712703466859457,
          0.7404465173409036,
          3.5846572854427263,
          1.1586905952512971,
          8.631034258755935,
          6.232981268275579,
          3.308980248526492,
          0.6355835028602363,
          3.109823217156622,
          3.2518332202674705,
          7.29606178338064,
          6.3755747135521315,
          8.872127425763265,
          4.722149251619493,
          1.195942459383017,
          7.13244787222995,
          7.607850486168974,
          5.612771975694963,
          7.70967179954561,
          4.937955963643907,
          5.227328293819941,
          4.275410183585496,
          0.2541912674409519,
          1.0789142699330445
         ],
         "y": [
          9.577849445185421,
          20.715278777732454,
          16.7316396127636,
          11.98560076933984,
          4.900700921011218,
          5.4770029782358,
          4.639566288105505,
          18.805252697225058,
          13.213806631970987,
          15.659694512336372,
          3.327092003618123,
          21.72694815289957,
          18.119092612241396,
          6.760049646678879,
          5.733576893490053,
          6.636735187601565,
          7.382791765313402,
          12.167466486046989,
          10.246792219710157,
          6.36106785582872,
          14.533178171512166,
          5.050932485220726,
          7.848006427346824,
          9.092649732498687,
          9.706028942290306,
          17.282873905094913,
          5.6507611266404245,
          11.482411499050613,
          13.68700566557484,
          3.3330591112144927,
          16.037082939239298,
          5.5850602865776695,
          3.558582250428355,
          20.9032648293005,
          19.393869446192145,
          18.141433086880003,
          8.15250559340844,
          6.4166843926129635,
          15.492299565462014,
          11.10459721712564,
          4.406052927190333,
          10.734860164605871,
          3.8305932368193885,
          20.938341074262418,
          7.966631579043385,
          14.341058232284901,
          9.63701583272432,
          10.999509360763936,
          13.521062680665864,
          7.887544736320519,
          20.401156230160485,
          16.936358737619518,
          20.889630196371424,
          19.393071354436778,
          12.40733614515557,
          20.506047675268363,
          2.707546327312285,
          6.393249679018086,
          1.985121543976958,
          10.056541020282827,
          8.990292501453403,
          7.1049191192722425,
          19.388267400408257,
          7.904202217437831,
          7.846150128351745,
          14.161064417447397,
          3.2110012649340254,
          18.2285734736131,
          3.75089566784384,
          22.519561603787658,
          16.207944675055067,
          4.653857017599172,
          2.6323839080889457,
          18.60621324232987,
          16.387639727298218,
          16.926591570316724,
          16.745382212140424,
          3.713146731842811,
          9.462387044184133,
          3.6030297724762264,
          21.127843028656628,
          14.939795457462946,
          7.426656999850335,
          3.9277206143543024,
          7.244964764085923,
          9.290751044277393,
          17.750719145768684,
          13.930467108752552,
          20.70763098077085,
          11.857079430175485,
          5.213945078760524,
          18.161688727113848,
          16.970312856335077,
          12.471807787032436,
          16.529829169465696,
          11.060101642322376,
          12.377554878225778,
          10.891972341987636,
          2.7850733342119227,
          4.985011788902113
         ]
        },
        {
         "line": {
          "color": "red"
         },
         "mode": "lines",
         "name": "True Line (y = 2 + 2x)",
         "type": "scatter",
         "x": [
          0,
          0.10101010101010101,
          0.20202020202020202,
          0.30303030303030304,
          0.40404040404040403,
          0.5050505050505051,
          0.6060606060606061,
          0.7070707070707071,
          0.8080808080808081,
          0.9090909090909091,
          1.0101010101010102,
          1.1111111111111112,
          1.2121212121212122,
          1.3131313131313131,
          1.4141414141414141,
          1.5151515151515151,
          1.6161616161616161,
          1.7171717171717171,
          1.8181818181818181,
          1.9191919191919191,
          2.0202020202020203,
          2.121212121212121,
          2.2222222222222223,
          2.323232323232323,
          2.4242424242424243,
          2.525252525252525,
          2.6262626262626263,
          2.727272727272727,
          2.8282828282828283,
          2.929292929292929,
          3.0303030303030303,
          3.131313131313131,
          3.2323232323232323,
          3.3333333333333335,
          3.4343434343434343,
          3.5353535353535355,
          3.6363636363636362,
          3.7373737373737375,
          3.8383838383838382,
          3.9393939393939394,
          4.040404040404041,
          4.141414141414141,
          4.242424242424242,
          4.343434343434343,
          4.444444444444445,
          4.545454545454545,
          4.646464646464646,
          4.747474747474747,
          4.848484848484849,
          4.94949494949495,
          5.05050505050505,
          5.151515151515151,
          5.252525252525253,
          5.353535353535354,
          5.454545454545454,
          5.555555555555555,
          5.656565656565657,
          5.757575757575758,
          5.858585858585858,
          5.959595959595959,
          6.0606060606060606,
          6.161616161616162,
          6.262626262626262,
          6.363636363636363,
          6.4646464646464645,
          6.565656565656566,
          6.666666666666667,
          6.767676767676767,
          6.8686868686868685,
          6.96969696969697,
          7.070707070707071,
          7.171717171717171,
          7.2727272727272725,
          7.373737373737374,
          7.474747474747475,
          7.575757575757575,
          7.6767676767676765,
          7.777777777777778,
          7.878787878787879,
          7.979797979797979,
          8.080808080808081,
          8.181818181818182,
          8.282828282828282,
          8.383838383838384,
          8.484848484848484,
          8.585858585858587,
          8.686868686868687,
          8.787878787878787,
          8.88888888888889,
          8.98989898989899,
          9.09090909090909,
          9.191919191919192,
          9.292929292929292,
          9.393939393939394,
          9.494949494949495,
          9.595959595959595,
          9.696969696969697,
          9.797979797979798,
          9.8989898989899,
          10
         ],
         "y": [
          2,
          2.202020202020202,
          2.404040404040404,
          2.606060606060606,
          2.808080808080808,
          3.0101010101010104,
          3.212121212121212,
          3.4141414141414144,
          3.616161616161616,
          3.8181818181818183,
          4.020202020202021,
          4.222222222222222,
          4.424242424242424,
          4.626262626262626,
          4.828282828282829,
          5.03030303030303,
          5.232323232323232,
          5.434343434343434,
          5.636363636363637,
          5.838383838383838,
          6.040404040404041,
          6.242424242424242,
          6.444444444444445,
          6.646464646464646,
          6.848484848484849,
          7.05050505050505,
          7.252525252525253,
          7.454545454545454,
          7.656565656565657,
          7.858585858585858,
          8.06060606060606,
          8.262626262626263,
          8.464646464646464,
          8.666666666666668,
          8.868686868686869,
          9.070707070707071,
          9.272727272727273,
          9.474747474747474,
          9.676767676767676,
          9.878787878787879,
          10.080808080808081,
          10.282828282828282,
          10.484848484848484,
          10.686868686868687,
          10.88888888888889,
          11.09090909090909,
          11.292929292929292,
          11.494949494949495,
          11.696969696969697,
          11.8989898989899,
          12.1010101010101,
          12.303030303030303,
          12.505050505050505,
          12.707070707070708,
          12.909090909090908,
          13.11111111111111,
          13.313131313131313,
          13.515151515151516,
          13.717171717171716,
          13.919191919191919,
          14.121212121212121,
          14.323232323232324,
          14.525252525252524,
          14.727272727272727,
          14.929292929292929,
          15.131313131313131,
          15.333333333333334,
          15.535353535353535,
          15.737373737373737,
          15.93939393939394,
          16.141414141414142,
          16.343434343434343,
          16.545454545454547,
          16.747474747474747,
          16.949494949494948,
          17.15151515151515,
          17.353535353535353,
          17.555555555555557,
          17.757575757575758,
          17.95959595959596,
          18.161616161616163,
          18.363636363636363,
          18.565656565656564,
          18.767676767676768,
          18.96969696969697,
          19.171717171717173,
          19.373737373737374,
          19.575757575757574,
          19.77777777777778,
          19.97979797979798,
          20.18181818181818,
          20.383838383838384,
          20.585858585858585,
          20.78787878787879,
          20.98989898989899,
          21.19191919191919,
          21.393939393939394,
          21.595959595959595,
          21.7979797979798,
          22
         ]
        }
       ],
       "layout": {
        "autosize": true,
        "showlegend": true,
        "template": {
         "data": {
          "bar": [
           {
            "error_x": {
             "color": "#2a3f5f"
            },
            "error_y": {
             "color": "#2a3f5f"
            },
            "marker": {
             "line": {
              "color": "#E5ECF6",
              "width": 0.5
             },
             "pattern": {
              "fillmode": "overlay",
              "size": 10,
              "solidity": 0.2
             }
            },
            "type": "bar"
           }
          ],
          "barpolar": [
           {
            "marker": {
             "line": {
              "color": "#E5ECF6",
              "width": 0.5
             },
             "pattern": {
              "fillmode": "overlay",
              "size": 10,
              "solidity": 0.2
             }
            },
            "type": "barpolar"
           }
          ],
          "carpet": [
           {
            "aaxis": {
             "endlinecolor": "#2a3f5f",
             "gridcolor": "white",
             "linecolor": "white",
             "minorgridcolor": "white",
             "startlinecolor": "#2a3f5f"
            },
            "baxis": {
             "endlinecolor": "#2a3f5f",
             "gridcolor": "white",
             "linecolor": "white",
             "minorgridcolor": "white",
             "startlinecolor": "#2a3f5f"
            },
            "type": "carpet"
           }
          ],
          "choropleth": [
           {
            "colorbar": {
             "outlinewidth": 0,
             "ticks": ""
            },
            "type": "choropleth"
           }
          ],
          "contour": [
           {
            "colorbar": {
             "outlinewidth": 0,
             "ticks": ""
            },
            "colorscale": [
             [
              0,
              "#0d0887"
             ],
             [
              0.1111111111111111,
              "#46039f"
             ],
             [
              0.2222222222222222,
              "#7201a8"
             ],
             [
              0.3333333333333333,
              "#9c179e"
             ],
             [
              0.4444444444444444,
              "#bd3786"
             ],
             [
              0.5555555555555556,
              "#d8576b"
             ],
             [
              0.6666666666666666,
              "#ed7953"
             ],
             [
              0.7777777777777778,
              "#fb9f3a"
             ],
             [
              0.8888888888888888,
              "#fdca26"
             ],
             [
              1,
              "#f0f921"
             ]
            ],
            "type": "contour"
           }
          ],
          "contourcarpet": [
           {
            "colorbar": {
             "outlinewidth": 0,
             "ticks": ""
            },
            "type": "contourcarpet"
           }
          ],
          "heatmap": [
           {
            "colorbar": {
             "outlinewidth": 0,
             "ticks": ""
            },
            "colorscale": [
             [
              0,
              "#0d0887"
             ],
             [
              0.1111111111111111,
              "#46039f"
             ],
             [
              0.2222222222222222,
              "#7201a8"
             ],
             [
              0.3333333333333333,
              "#9c179e"
             ],
             [
              0.4444444444444444,
              "#bd3786"
             ],
             [
              0.5555555555555556,
              "#d8576b"
             ],
             [
              0.6666666666666666,
              "#ed7953"
             ],
             [
              0.7777777777777778,
              "#fb9f3a"
             ],
             [
              0.8888888888888888,
              "#fdca26"
             ],
             [
              1,
              "#f0f921"
             ]
            ],
            "type": "heatmap"
           }
          ],
          "heatmapgl": [
           {
            "colorbar": {
             "outlinewidth": 0,
             "ticks": ""
            },
            "colorscale": [
             [
              0,
              "#0d0887"
             ],
             [
              0.1111111111111111,
              "#46039f"
             ],
             [
              0.2222222222222222,
              "#7201a8"
             ],
             [
              0.3333333333333333,
              "#9c179e"
             ],
             [
              0.4444444444444444,
              "#bd3786"
             ],
             [
              0.5555555555555556,
              "#d8576b"
             ],
             [
              0.6666666666666666,
              "#ed7953"
             ],
             [
              0.7777777777777778,
              "#fb9f3a"
             ],
             [
              0.8888888888888888,
              "#fdca26"
             ],
             [
              1,
              "#f0f921"
             ]
            ],
            "type": "heatmapgl"
           }
          ],
          "histogram": [
           {
            "marker": {
             "pattern": {
              "fillmode": "overlay",
              "size": 10,
              "solidity": 0.2
             }
            },
            "type": "histogram"
           }
          ],
          "histogram2d": [
           {
            "colorbar": {
             "outlinewidth": 0,
             "ticks": ""
            },
            "colorscale": [
             [
              0,
              "#0d0887"
             ],
             [
              0.1111111111111111,
              "#46039f"
             ],
             [
              0.2222222222222222,
              "#7201a8"
             ],
             [
              0.3333333333333333,
              "#9c179e"
             ],
             [
              0.4444444444444444,
              "#bd3786"
             ],
             [
              0.5555555555555556,
              "#d8576b"
             ],
             [
              0.6666666666666666,
              "#ed7953"
             ],
             [
              0.7777777777777778,
              "#fb9f3a"
             ],
             [
              0.8888888888888888,
              "#fdca26"
             ],
             [
              1,
              "#f0f921"
             ]
            ],
            "type": "histogram2d"
           }
          ],
          "histogram2dcontour": [
           {
            "colorbar": {
             "outlinewidth": 0,
             "ticks": ""
            },
            "colorscale": [
             [
              0,
              "#0d0887"
             ],
             [
              0.1111111111111111,
              "#46039f"
             ],
             [
              0.2222222222222222,
              "#7201a8"
             ],
             [
              0.3333333333333333,
              "#9c179e"
             ],
             [
              0.4444444444444444,
              "#bd3786"
             ],
             [
              0.5555555555555556,
              "#d8576b"
             ],
             [
              0.6666666666666666,
              "#ed7953"
             ],
             [
              0.7777777777777778,
              "#fb9f3a"
             ],
             [
              0.8888888888888888,
              "#fdca26"
             ],
             [
              1,
              "#f0f921"
             ]
            ],
            "type": "histogram2dcontour"
           }
          ],
          "mesh3d": [
           {
            "colorbar": {
             "outlinewidth": 0,
             "ticks": ""
            },
            "type": "mesh3d"
           }
          ],
          "parcoords": [
           {
            "line": {
             "colorbar": {
              "outlinewidth": 0,
              "ticks": ""
             }
            },
            "type": "parcoords"
           }
          ],
          "pie": [
           {
            "automargin": true,
            "type": "pie"
           }
          ],
          "scatter": [
           {
            "fillpattern": {
             "fillmode": "overlay",
             "size": 10,
             "solidity": 0.2
            },
            "type": "scatter"
           }
          ],
          "scatter3d": [
           {
            "line": {
             "colorbar": {
              "outlinewidth": 0,
              "ticks": ""
             }
            },
            "marker": {
             "colorbar": {
              "outlinewidth": 0,
              "ticks": ""
             }
            },
            "type": "scatter3d"
           }
          ],
          "scattercarpet": [
           {
            "marker": {
             "colorbar": {
              "outlinewidth": 0,
              "ticks": ""
             }
            },
            "type": "scattercarpet"
           }
          ],
          "scattergeo": [
           {
            "marker": {
             "colorbar": {
              "outlinewidth": 0,
              "ticks": ""
             }
            },
            "type": "scattergeo"
           }
          ],
          "scattergl": [
           {
            "marker": {
             "colorbar": {
              "outlinewidth": 0,
              "ticks": ""
             }
            },
            "type": "scattergl"
           }
          ],
          "scattermapbox": [
           {
            "marker": {
             "colorbar": {
              "outlinewidth": 0,
              "ticks": ""
             }
            },
            "type": "scattermapbox"
           }
          ],
          "scatterpolar": [
           {
            "marker": {
             "colorbar": {
              "outlinewidth": 0,
              "ticks": ""
             }
            },
            "type": "scatterpolar"
           }
          ],
          "scatterpolargl": [
           {
            "marker": {
             "colorbar": {
              "outlinewidth": 0,
              "ticks": ""
             }
            },
            "type": "scatterpolargl"
           }
          ],
          "scatterternary": [
           {
            "marker": {
             "colorbar": {
              "outlinewidth": 0,
              "ticks": ""
             }
            },
            "type": "scatterternary"
           }
          ],
          "surface": [
           {
            "colorbar": {
             "outlinewidth": 0,
             "ticks": ""
            },
            "colorscale": [
             [
              0,
              "#0d0887"
             ],
             [
              0.1111111111111111,
              "#46039f"
             ],
             [
              0.2222222222222222,
              "#7201a8"
             ],
             [
              0.3333333333333333,
              "#9c179e"
             ],
             [
              0.4444444444444444,
              "#bd3786"
             ],
             [
              0.5555555555555556,
              "#d8576b"
             ],
             [
              0.6666666666666666,
              "#ed7953"
             ],
             [
              0.7777777777777778,
              "#fb9f3a"
             ],
             [
              0.8888888888888888,
              "#fdca26"
             ],
             [
              1,
              "#f0f921"
             ]
            ],
            "type": "surface"
           }
          ],
          "table": [
           {
            "cells": {
             "fill": {
              "color": "#EBF0F8"
             },
             "line": {
              "color": "white"
             }
            },
            "header": {
             "fill": {
              "color": "#C8D4E3"
             },
             "line": {
              "color": "white"
             }
            },
            "type": "table"
           }
          ]
         },
         "layout": {
          "annotationdefaults": {
           "arrowcolor": "#2a3f5f",
           "arrowhead": 0,
           "arrowwidth": 1
          },
          "autotypenumbers": "strict",
          "coloraxis": {
           "colorbar": {
            "outlinewidth": 0,
            "ticks": ""
           }
          },
          "colorscale": {
           "diverging": [
            [
             0,
             "#8e0152"
            ],
            [
             0.1,
             "#c51b7d"
            ],
            [
             0.2,
             "#de77ae"
            ],
            [
             0.3,
             "#f1b6da"
            ],
            [
             0.4,
             "#fde0ef"
            ],
            [
             0.5,
             "#f7f7f7"
            ],
            [
             0.6,
             "#e6f5d0"
            ],
            [
             0.7,
             "#b8e186"
            ],
            [
             0.8,
             "#7fbc41"
            ],
            [
             0.9,
             "#4d9221"
            ],
            [
             1,
             "#276419"
            ]
           ],
           "sequential": [
            [
             0,
             "#0d0887"
            ],
            [
             0.1111111111111111,
             "#46039f"
            ],
            [
             0.2222222222222222,
             "#7201a8"
            ],
            [
             0.3333333333333333,
             "#9c179e"
            ],
            [
             0.4444444444444444,
             "#bd3786"
            ],
            [
             0.5555555555555556,
             "#d8576b"
            ],
            [
             0.6666666666666666,
             "#ed7953"
            ],
            [
             0.7777777777777778,
             "#fb9f3a"
            ],
            [
             0.8888888888888888,
             "#fdca26"
            ],
            [
             1,
             "#f0f921"
            ]
           ],
           "sequentialminus": [
            [
             0,
             "#0d0887"
            ],
            [
             0.1111111111111111,
             "#46039f"
            ],
            [
             0.2222222222222222,
             "#7201a8"
            ],
            [
             0.3333333333333333,
             "#9c179e"
            ],
            [
             0.4444444444444444,
             "#bd3786"
            ],
            [
             0.5555555555555556,
             "#d8576b"
            ],
            [
             0.6666666666666666,
             "#ed7953"
            ],
            [
             0.7777777777777778,
             "#fb9f3a"
            ],
            [
             0.8888888888888888,
             "#fdca26"
            ],
            [
             1,
             "#f0f921"
            ]
           ]
          },
          "colorway": [
           "#636efa",
           "#EF553B",
           "#00cc96",
           "#ab63fa",
           "#FFA15A",
           "#19d3f3",
           "#FF6692",
           "#B6E880",
           "#FF97FF",
           "#FECB52"
          ],
          "font": {
           "color": "#2a3f5f"
          },
          "geo": {
           "bgcolor": "white",
           "lakecolor": "white",
           "landcolor": "#E5ECF6",
           "showlakes": true,
           "showland": true,
           "subunitcolor": "white"
          },
          "hoverlabel": {
           "align": "left"
          },
          "hovermode": "closest",
          "mapbox": {
           "style": "light"
          },
          "paper_bgcolor": "white",
          "plot_bgcolor": "#E5ECF6",
          "polar": {
           "angularaxis": {
            "gridcolor": "white",
            "linecolor": "white",
            "ticks": ""
           },
           "bgcolor": "#E5ECF6",
           "radialaxis": {
            "gridcolor": "white",
            "linecolor": "white",
            "ticks": ""
           }
          },
          "scene": {
           "xaxis": {
            "backgroundcolor": "#E5ECF6",
            "gridcolor": "white",
            "gridwidth": 2,
            "linecolor": "white",
            "showbackground": true,
            "ticks": "",
            "zerolinecolor": "white"
           },
           "yaxis": {
            "backgroundcolor": "#E5ECF6",
            "gridcolor": "white",
            "gridwidth": 2,
            "linecolor": "white",
            "showbackground": true,
            "ticks": "",
            "zerolinecolor": "white"
           },
           "zaxis": {
            "backgroundcolor": "#E5ECF6",
            "gridcolor": "white",
            "gridwidth": 2,
            "linecolor": "white",
            "showbackground": true,
            "ticks": "",
            "zerolinecolor": "white"
           }
          },
          "shapedefaults": {
           "line": {
            "color": "#2a3f5f"
           }
          },
          "ternary": {
           "aaxis": {
            "gridcolor": "white",
            "linecolor": "white",
            "ticks": ""
           },
           "baxis": {
            "gridcolor": "white",
            "linecolor": "white",
            "ticks": ""
           },
           "bgcolor": "#E5ECF6",
           "caxis": {
            "gridcolor": "white",
            "linecolor": "white",
            "ticks": ""
           }
          },
          "title": {
           "x": 0.05
          },
          "xaxis": {
           "automargin": true,
           "gridcolor": "white",
           "linecolor": "white",
           "ticks": "",
           "title": {
            "standoff": 15
           },
           "zerolinecolor": "white",
           "zerolinewidth": 2
          },
          "yaxis": {
           "automargin": true,
           "gridcolor": "white",
           "linecolor": "white",
           "ticks": "",
           "title": {
            "standoff": 15
           },
           "zerolinecolor": "white",
           "zerolinewidth": 2
          }
         }
        },
        "title": {
         "text": "Simulated Data and Theoretical Line"
        },
        "xaxis": {
         "autorange": true,
         "range": [
          -0.598501147470732,
          10.522591684711928
         ],
         "title": {
          "text": "X"
         },
         "type": "linear"
        },
        "yaxis": {
         "autorange": true,
         "range": [
          0.2905318303032596,
          24.214151317461358
         ],
         "title": {
          "text": "Y"
         },
         "type": "linear"
        }
       }
      },
      "image/png": "[encoded data removed]",
      "text/html": [
       "<div>                            <div id=\"0b99cb1b-ada9-4271-827e-96d70ff73439\" class=\"plotly-graph-div\" style=\"height:525px; width:100%;\"></div>            <script type=\"text/javascript\">                require([\"plotly\"], function(Plotly) {                    window.PLOTLYENV=window.PLOTLYENV || {};                                    if (document.getElementById(\"0b99cb1b-ada9-4271-827e-96d70ff73439\")) {                    Plotly.newPlot(                        \"0b99cb1b-ada9-4271-827e-96d70ff73439\",                        [{\"marker\":{\"color\":\"blue\"},\"mode\":\"markers\",\"name\":\"Data Points\",\"x\":[3.745401188473625,9.50714306409916,7.319939418114051,5.986584841970366,1.5601864044243652,1.5599452033620265,0.5808361216819946,8.661761457749352,6.011150117432088,7.080725777960454,0.20584494295802447,9.699098521619943,8.324426408004218,2.1233911067827616,1.8182496720710062,1.8340450985343382,3.0424224295953772,5.247564316322379,4.319450186421157,2.9122914019804194,6.118528947223795,1.3949386065204183,2.9214464853521815,3.663618432936917,4.56069984217036,7.851759613930136,1.9967378215835974,5.142344384136116,5.924145688620425,0.46450412719997725,6.075448519014383,1.7052412368729153,0.6505159298527952,9.488855372533333,9.656320330745594,8.08397348116461,3.0461376917337066,0.9767211400638387,6.842330265121569,4.4015249373960135,1.2203823484477883,4.951769101112702,0.34388521115218396,9.093204020787821,2.587799816000169,6.62522284353982,3.1171107608941098,5.200680211778108,5.4671027934327965,1.8485445552552704,9.695846277645586,7.7513282336111455,9.394989415641891,8.948273504276488,5.978999788110851,9.218742350231167,0.884925020519195,1.959828624191452,0.45227288910538066,3.2533033076326436,3.8867728968948203,2.713490317738959,8.287375091519294,3.567533266935893,2.8093450968738076,5.426960831582485,1.4092422497476265,8.021969807540398,0.7455064367977082,9.868869366005173,7.722447692966574,1.987156815341724,0.05522117123602399,8.154614284548341,7.068573438476172,7.2900716804098735,7.712703466859457,0.7404465173409036,3.5846572854427263,1.1586905952512971,8.631034258755935,6.232981268275579,3.308980248526492,0.6355835028602363,3.109823217156622,3.2518332202674705,7.29606178338064,6.3755747135521315,8.872127425763265,4.722149251619493,1.195942459383017,7.13244787222995,7.607850486168974,5.612771975694963,7.70967179954561,4.937955963643907,5.227328293819941,4.275410183585496,0.2541912674409519,1.0789142699330445],\"y\":[9.577849445185421,20.715278777732454,16.7316396127636,11.98560076933984,4.900700921011218,5.4770029782358,4.639566288105505,18.805252697225058,13.213806631970987,15.659694512336372,3.327092003618123,21.72694815289957,18.119092612241396,6.760049646678879,5.733576893490053,6.636735187601565,7.382791765313402,12.167466486046989,10.246792219710157,6.36106785582872,14.533178171512166,5.050932485220726,7.848006427346824,9.092649732498687,9.706028942290306,17.282873905094913,5.6507611266404245,11.482411499050613,13.68700566557484,3.3330591112144927,16.037082939239298,5.5850602865776695,3.558582250428355,20.9032648293005,19.393869446192145,18.141433086880003,8.15250559340844,6.4166843926129635,15.492299565462014,11.10459721712564,4.406052927190333,10.734860164605871,3.8305932368193885,20.938341074262418,7.966631579043385,14.341058232284901,9.63701583272432,10.999509360763936,13.521062680665864,7.887544736320519,20.401156230160485,16.936358737619518,20.889630196371424,19.393071354436778,12.40733614515557,20.506047675268363,2.707546327312285,6.393249679018086,1.985121543976958,10.056541020282827,8.990292501453403,7.1049191192722425,19.388267400408257,7.904202217437831,7.846150128351745,14.161064417447397,3.2110012649340254,18.2285734736131,3.75089566784384,22.519561603787658,16.207944675055067,4.653857017599172,2.6323839080889457,18.60621324232987,16.387639727298218,16.926591570316724,16.745382212140424,3.713146731842811,9.462387044184133,3.6030297724762264,21.127843028656628,14.939795457462946,7.426656999850335,3.9277206143543024,7.244964764085923,9.290751044277393,17.750719145768684,13.930467108752552,20.70763098077085,11.857079430175485,5.213945078760524,18.161688727113848,16.970312856335077,12.471807787032436,16.529829169465696,11.060101642322376,12.377554878225778,10.891972341987636,2.7850733342119227,4.985011788902113],\"type\":\"scatter\"},{\"line\":{\"color\":\"red\"},\"mode\":\"lines\",\"name\":\"True Line (y = 2 + 2x)\",\"x\":[0.0,0.10101010101010101,0.20202020202020202,0.30303030303030304,0.40404040404040403,0.5050505050505051,0.6060606060606061,0.7070707070707071,0.8080808080808081,0.9090909090909091,1.0101010101010102,1.1111111111111112,1.2121212121212122,1.3131313131313131,1.4141414141414141,1.5151515151515151,1.6161616161616161,1.7171717171717171,1.8181818181818181,1.9191919191919191,2.0202020202020203,2.121212121212121,2.2222222222222223,2.323232323232323,2.4242424242424243,2.525252525252525,2.6262626262626263,2.727272727272727,2.8282828282828283,2.929292929292929,3.0303030303030303,3.131313131313131,3.2323232323232323,3.3333333333333335,3.4343434343434343,3.5353535353535355,3.6363636363636362,3.7373737373737375,3.8383838383838382,3.9393939393939394,4.040404040404041,4.141414141414141,4.242424242424242,4.343434343434343,4.444444444444445,4.545454545454545,4.646464646464646,4.747474747474747,4.848484848484849,4.94949494949495,5.05050505050505,5.151515151515151,5.252525252525253,5.353535353535354,5.454545454545454,5.555555555555555,5.656565656565657,5.757575757575758,5.858585858585858,5.959595959595959,6.0606060606060606,6.161616161616162,6.262626262626262,6.363636363636363,6.4646464646464645,6.565656565656566,6.666666666666667,6.767676767676767,6.8686868686868685,6.96969696969697,7.070707070707071,7.171717171717171,7.2727272727272725,7.373737373737374,7.474747474747475,7.575757575757575,7.6767676767676765,7.777777777777778,7.878787878787879,7.979797979797979,8.080808080808081,8.181818181818182,8.282828282828282,8.383838383838384,8.484848484848484,8.585858585858587,8.686868686868687,8.787878787878787,8.88888888888889,8.98989898989899,9.09090909090909,9.191919191919192,9.292929292929292,9.393939393939394,9.494949494949495,9.595959595959595,9.696969696969697,9.797979797979798,9.8989898989899,10.0],\"y\":[2.0,2.202020202020202,2.404040404040404,2.606060606060606,2.808080808080808,3.0101010101010104,3.212121212121212,3.4141414141414144,3.616161616161616,3.8181818181818183,4.020202020202021,4.222222222222222,4.424242424242424,4.626262626262626,4.828282828282829,5.03030303030303,5.232323232323232,5.434343434343434,5.636363636363637,5.838383838383838,6.040404040404041,6.242424242424242,6.444444444444445,6.646464646464646,6.848484848484849,7.05050505050505,7.252525252525253,7.454545454545454,7.656565656565657,7.858585858585858,8.06060606060606,8.262626262626263,8.464646464646464,8.666666666666668,8.868686868686869,9.070707070707071,9.272727272727273,9.474747474747474,9.676767676767676,9.878787878787879,10.080808080808081,10.282828282828282,10.484848484848484,10.686868686868687,10.88888888888889,11.09090909090909,11.292929292929292,11.494949494949495,11.696969696969697,11.8989898989899,12.1010101010101,12.303030303030303,12.505050505050505,12.707070707070708,12.909090909090908,13.11111111111111,13.313131313131313,13.515151515151516,13.717171717171716,13.919191919191919,14.121212121212121,14.323232323232324,14.525252525252524,14.727272727272727,14.929292929292929,15.131313131313131,15.333333333333334,15.535353535353535,15.737373737373737,15.93939393939394,16.141414141414142,16.343434343434343,16.545454545454547,16.747474747474747,16.949494949494948,17.15151515151515,17.353535353535353,17.555555555555557,17.757575757575758,17.95959595959596,18.161616161616163,18.363636363636363,18.565656565656564,18.767676767676768,18.96969696969697,19.171717171717173,19.373737373737374,19.575757575757574,19.77777777777778,19.97979797979798,20.18181818181818,20.383838383838384,20.585858585858585,20.78787878787879,20.98989898989899,21.19191919191919,21.393939393939394,21.595959595959595,21.7979797979798,22.0],\"type\":\"scatter\"}],                        {\"template\":{\"data\":{\"histogram2dcontour\":[{\"type\":\"histogram2dcontour\",\"colorbar\":{\"outlinewidth\":0,\"ticks\":\"\"},\"colorscale\":[[0.0,\"#0d0887\"],[0.1111111111111111,\"#46039f\"],[0.2222222222222222,\"#7201a8\"],[0.3333333333333333,\"#9c179e\"],[0.4444444444444444,\"#bd3786\"],[0.5555555555555556,\"#d8576b\"],[0.6666666666666666,\"#ed7953\"],[0.7777777777777778,\"#fb9f3a\"],[0.8888888888888888,\"#fdca26\"],[1.0,\"#f0f921\"]]}],\"choropleth\":[{\"type\":\"choropleth\",\"colorbar\":{\"outlinewidth\":0,\"ticks\":\"\"}}],\"histogram2d\":[{\"type\":\"histogram2d\",\"colorbar\":{\"outlinewidth\":0,\"ticks\":\"\"},\"colorscale\":[[0.0,\"#0d0887\"],[0.1111111111111111,\"#46039f\"],[0.2222222222222222,\"#7201a8\"],[0.3333333333333333,\"#9c179e\"],[0.4444444444444444,\"#bd3786\"],[0.5555555555555556,\"#d8576b\"],[0.6666666666666666,\"#ed7953\"],[0.7777777777777778,\"#fb9f3a\"],[0.8888888888888888,\"#fdca26\"],[1.0,\"#f0f921\"]]}],\"heatmap\":[{\"type\":\"heatmap\",\"colorbar\":{\"outlinewidth\":0,\"ticks\":\"\"},\"colorscale\":[[0.0,\"#0d0887\"],[0.1111111111111111,\"#46039f\"],[0.2222222222222222,\"#7201a8\"],[0.3333333333333333,\"#9c179e\"],[0.4444444444444444,\"#bd3786\"],[0.5555555555555556,\"#d8576b\"],[0.6666666666666666,\"#ed7953\"],[0.7777777777777778,\"#fb9f3a\"],[0.8888888888888888,\"#fdca26\"],[1.0,\"#f0f921\"]]}],\"heatmapgl\":[{\"type\":\"heatmapgl\",\"colorbar\":{\"outlinewidth\":0,\"ticks\":\"\"},\"colorscale\":[[0.0,\"#0d0887\"],[0.1111111111111111,\"#46039f\"],[0.2222222222222222,\"#7201a8\"],[0.3333333333333333,\"#9c179e\"],[0.4444444444444444,\"#bd3786\"],[0.5555555555555556,\"#d8576b\"],[0.6666666666666666,\"#ed7953\"],[0.7777777777777778,\"#fb9f3a\"],[0.8888888888888888,\"#fdca26\"],[1.0,\"#f0f921\"]]}],\"contourcarpet\":[{\"type\":\"contourcarpet\",\"colorbar\":{\"outlinewidth\":0,\"ticks\":\"\"}}],\"contour\":[{\"type\":\"contour\",\"colorbar\":{\"outlinewidth\":0,\"ticks\":\"\"},\"colorscale\":[[0.0,\"#0d0887\"],[0.1111111111111111,\"#46039f\"],[0.2222222222222222,\"#7201a8\"],[0.3333333333333333,\"#9c179e\"],[0.4444444444444444,\"#bd3786\"],[0.5555555555555556,\"#d8576b\"],[0.6666666666666666,\"#ed7953\"],[0.7777777777777778,\"#fb9f3a\"],[0.8888888888888888,\"#fdca26\"],[1.0,\"#f0f921\"]]}],\"surface\":[{\"type\":\"surface\",\"colorbar\":{\"outlinewidth\":0,\"ticks\":\"\"},\"colorscale\":[[0.0,\"#0d0887\"],[0.1111111111111111,\"#46039f\"],[0.2222222222222222,\"#7201a8\"],[0.3333333333333333,\"#9c179e\"],[0.4444444444444444,\"#bd3786\"],[0.5555555555555556,\"#d8576b\"],[0.6666666666666666,\"#ed7953\"],[0.7777777777777778,\"#fb9f3a\"],[0.8888888888888888,\"#fdca26\"],[1.0,\"#f0f921\"]]}],\"mesh3d\":[{\"type\":\"mesh3d\",\"colorbar\":{\"outlinewidth\":0,\"ticks\":\"\"}}],\"scatter\":[{\"fillpattern\":{\"fillmode\":\"overlay\",\"size\":10,\"solidity\":0.2},\"type\":\"scatter\"}],\"parcoords\":[{\"type\":\"parcoords\",\"line\":{\"colorbar\":{\"outlinewidth\":0,\"ticks\":\"\"}}}],\"scatterpolargl\":[{\"type\":\"scatterpolargl\",\"marker\":{\"colorbar\":{\"outlinewidth\":0,\"ticks\":\"\"}}}],\"bar\":[{\"error_x\":{\"color\":\"#2a3f5f\"},\"error_y\":{\"color\":\"#2a3f5f\"},\"marker\":{\"line\":{\"color\":\"#E5ECF6\",\"width\":0.5},\"pattern\":{\"fillmode\":\"overlay\",\"size\":10,\"solidity\":0.2}},\"type\":\"bar\"}],\"scattergeo\":[{\"type\":\"scattergeo\",\"marker\":{\"colorbar\":{\"outlinewidth\":0,\"ticks\":\"\"}}}],\"scatterpolar\":[{\"type\":\"scatterpolar\",\"marker\":{\"colorbar\":{\"outlinewidth\":0,\"ticks\":\"\"}}}],\"histogram\":[{\"marker\":{\"pattern\":{\"fillmode\":\"overlay\",\"size\":10,\"solidity\":0.2}},\"type\":\"histogram\"}],\"scattergl\":[{\"type\":\"scattergl\",\"marker\":{\"colorbar\":{\"outlinewidth\":0,\"ticks\":\"\"}}}],\"scatter3d\":[{\"type\":\"scatter3d\",\"line\":{\"colorbar\":{\"outlinewidth\":0,\"ticks\":\"\"}},\"marker\":{\"colorbar\":{\"outlinewidth\":0,\"ticks\":\"\"}}}],\"scattermapbox\":[{\"type\":\"scattermapbox\",\"marker\":{\"colorbar\":{\"outlinewidth\":0,\"ticks\":\"\"}}}],\"scatterternary\":[{\"type\":\"scatterternary\",\"marker\":{\"colorbar\":{\"outlinewidth\":0,\"ticks\":\"\"}}}],\"scattercarpet\":[{\"type\":\"scattercarpet\",\"marker\":{\"colorbar\":{\"outlinewidth\":0,\"ticks\":\"\"}}}],\"carpet\":[{\"aaxis\":{\"endlinecolor\":\"#2a3f5f\",\"gridcolor\":\"white\",\"linecolor\":\"white\",\"minorgridcolor\":\"white\",\"startlinecolor\":\"#2a3f5f\"},\"baxis\":{\"endlinecolor\":\"#2a3f5f\",\"gridcolor\":\"white\",\"linecolor\":\"white\",\"minorgridcolor\":\"white\",\"startlinecolor\":\"#2a3f5f\"},\"type\":\"carpet\"}],\"table\":[{\"cells\":{\"fill\":{\"color\":\"#EBF0F8\"},\"line\":{\"color\":\"white\"}},\"header\":{\"fill\":{\"color\":\"#C8D4E3\"},\"line\":{\"color\":\"white\"}},\"type\":\"table\"}],\"barpolar\":[{\"marker\":{\"line\":{\"color\":\"#E5ECF6\",\"width\":0.5},\"pattern\":{\"fillmode\":\"overlay\",\"size\":10,\"solidity\":0.2}},\"type\":\"barpolar\"}],\"pie\":[{\"automargin\":true,\"type\":\"pie\"}]},\"layout\":{\"autotypenumbers\":\"strict\",\"colorway\":[\"#636efa\",\"#EF553B\",\"#00cc96\",\"#ab63fa\",\"#FFA15A\",\"#19d3f3\",\"#FF6692\",\"#B6E880\",\"#FF97FF\",\"#FECB52\"],\"font\":{\"color\":\"#2a3f5f\"},\"hovermode\":\"closest\",\"hoverlabel\":{\"align\":\"left\"},\"paper_bgcolor\":\"white\",\"plot_bgcolor\":\"#E5ECF6\",\"polar\":{\"bgcolor\":\"#E5ECF6\",\"angularaxis\":{\"gridcolor\":\"white\",\"linecolor\":\"white\",\"ticks\":\"\"},\"radialaxis\":{\"gridcolor\":\"white\",\"linecolor\":\"white\",\"ticks\":\"\"}},\"ternary\":{\"bgcolor\":\"#E5ECF6\",\"aaxis\":{\"gridcolor\":\"white\",\"linecolor\":\"white\",\"ticks\":\"\"},\"baxis\":{\"gridcolor\":\"white\",\"linecolor\":\"white\",\"ticks\":\"\"},\"caxis\":{\"gridcolor\":\"white\",\"linecolor\":\"white\",\"ticks\":\"\"}},\"coloraxis\":{\"colorbar\":{\"outlinewidth\":0,\"ticks\":\"\"}},\"colorscale\":{\"sequential\":[[0.0,\"#0d0887\"],[0.1111111111111111,\"#46039f\"],[0.2222222222222222,\"#7201a8\"],[0.3333333333333333,\"#9c179e\"],[0.4444444444444444,\"#bd3786\"],[0.5555555555555556,\"#d8576b\"],[0.6666666666666666,\"#ed7953\"],[0.7777777777777778,\"#fb9f3a\"],[0.8888888888888888,\"#fdca26\"],[1.0,\"#f0f921\"]],\"sequentialminus\":[[0.0,\"#0d0887\"],[0.1111111111111111,\"#46039f\"],[0.2222222222222222,\"#7201a8\"],[0.3333333333333333,\"#9c179e\"],[0.4444444444444444,\"#bd3786\"],[0.5555555555555556,\"#d8576b\"],[0.6666666666666666,\"#ed7953\"],[0.7777777777777778,\"#fb9f3a\"],[0.8888888888888888,\"#fdca26\"],[1.0,\"#f0f921\"]],\"diverging\":[[0,\"#8e0152\"],[0.1,\"#c51b7d\"],[0.2,\"#de77ae\"],[0.3,\"#f1b6da\"],[0.4,\"#fde0ef\"],[0.5,\"#f7f7f7\"],[0.6,\"#e6f5d0\"],[0.7,\"#b8e186\"],[0.8,\"#7fbc41\"],[0.9,\"#4d9221\"],[1,\"#276419\"]]},\"xaxis\":{\"gridcolor\":\"white\",\"linecolor\":\"white\",\"ticks\":\"\",\"title\":{\"standoff\":15},\"zerolinecolor\":\"white\",\"automargin\":true,\"zerolinewidth\":2},\"yaxis\":{\"gridcolor\":\"white\",\"linecolor\":\"white\",\"ticks\":\"\",\"title\":{\"standoff\":15},\"zerolinecolor\":\"white\",\"automargin\":true,\"zerolinewidth\":2},\"scene\":{\"xaxis\":{\"backgroundcolor\":\"#E5ECF6\",\"gridcolor\":\"white\",\"linecolor\":\"white\",\"showbackground\":true,\"ticks\":\"\",\"zerolinecolor\":\"white\",\"gridwidth\":2},\"yaxis\":{\"backgroundcolor\":\"#E5ECF6\",\"gridcolor\":\"white\",\"linecolor\":\"white\",\"showbackground\":true,\"ticks\":\"\",\"zerolinecolor\":\"white\",\"gridwidth\":2},\"zaxis\":{\"backgroundcolor\":\"#E5ECF6\",\"gridcolor\":\"white\",\"linecolor\":\"white\",\"showbackground\":true,\"ticks\":\"\",\"zerolinecolor\":\"white\",\"gridwidth\":2}},\"shapedefaults\":{\"line\":{\"color\":\"#2a3f5f\"}},\"annotationdefaults\":{\"arrowcolor\":\"#2a3f5f\",\"arrowhead\":0,\"arrowwidth\":1},\"geo\":{\"bgcolor\":\"white\",\"landcolor\":\"#E5ECF6\",\"subunitcolor\":\"white\",\"showland\":true,\"showlakes\":true,\"lakecolor\":\"white\"},\"title\":{\"x\":0.05},\"mapbox\":{\"style\":\"light\"}}},\"title\":{\"text\":\"Simulated Data and Theoretical Line\"},\"xaxis\":{\"title\":{\"text\":\"X\"}},\"yaxis\":{\"title\":{\"text\":\"Y\"}},\"showlegend\":true},                        {\"responsive\": true}                    ).then(function(){\n",
       "                            \n",
       "var gd = document.getElementById('0b99cb1b-ada9-4271-827e-96d70ff73439');\n",
       "var x = new MutationObserver(function (mutations, observer) {{\n",
       "        var display = window.getComputedStyle(gd).display;\n",
       "        if (!display || display === 'none') {{\n",
       "            console.log([gd, 'removed!']);\n",
       "            Plotly.purge(gd);\n",
       "            observer.disconnect();\n",
       "        }}\n",
       "}});\n",
       "\n",
       "// Listen for the removal of the full notebook cells\n",
       "var notebookContainer = gd.closest('#notebook-container');\n",
       "if (notebookContainer) {{\n",
       "    x.observe(notebookContainer, {childList: true});\n",
       "}}\n",
       "\n",
       "// Listen for the clearing of the current output cell\n",
       "var outputEl = gd.closest('.output');\n",
       "if (outputEl) {{\n",
       "    x.observe(outputEl, {childList: true});\n",
       "}}\n",
       "\n",
       "                        })                };                });            </script>        </div>"
      ]
     },
     "metadata": {},
     "output_type": "display_data"
    }
   ],
   "source": [
    "import numpy as np\n",
    "import pandas as pd\n",
    "import plotly.graph_objects as go\n",
    "from scipy.stats import uniform, norm\n",
    "\n",
    "# Set seed for reproducibility\n",
    "np.random.seed(42)\n",
    "\n",
    "# Step 1: Generate 100 x values uniformly between 0 and 10\n",
    "x = uniform.rvs(loc=0, scale=10, size=100)\n",
    "\n",
    "# Step 2: Generate corresponding y values with slope 2, intercept 2 and random error from a normal distribution with std 1\n",
    "slope = 2\n",
    "intercept = 2\n",
    "error = norm.rvs(loc=0, scale=1, size=100)\n",
    "y = intercept + slope * x + error\n",
    "\n",
    "# Step 3: Create a DataFrame with the predictor 'x' and response 'y'\n",
    "df = pd.DataFrame({'x': x, 'y': y})\n",
    "\n",
    "# Step 4: Create the theoretical line y = 2 + 2x\n",
    "x_line = np.linspace(0, 10, 100)\n",
    "y_line = intercept + slope * x_line\n",
    "\n",
    "# Step 5: Plot the data points and the regression line\n",
    "fig = go.Figure()\n",
    "\n",
    "# Add the data points\n",
    "fig.add_trace(go.Scatter(x=df['x'], y=df['y'], mode='markers', name='Data Points', marker=dict(color='blue')))\n",
    "\n",
    "# Add the theoretical regression line\n",
    "fig.add_trace(go.Scatter(x=x_line, y=y_line, mode='lines', name='True Line (y = 2 + 2x)', line=dict(color='red')))\n",
    "\n",
    "# Update the layout\n",
    "fig.update_layout(title='Simulated Data and Theoretical Line',\n",
    "                  xaxis_title='X',\n",
    "                  yaxis_title='Y',\n",
    "                  showlegend=True)\n",
    "\n",
    "# Show the figure\n",
    "fig.show()\n"
   ]
  },
  {
   "cell_type": "code",
   "execution_count": 5,
   "id": "791d009b-1e0f-48ee-8d4c-2dbf93cb4bd3",
   "metadata": {},
   "outputs": [
    {
     "data": {
      "text/plain": [
       "(2, 2)"
      ]
     },
     "execution_count": 5,
     "metadata": {},
     "output_type": "execute_result"
    }
   ],
   "source": [
    "slope, intercept"
   ]
  },
  {
   "cell_type": "markdown",
   "id": "8ae338c6-0cff-4528-8830-a40c28671181",
   "metadata": {},
   "source": [
    "Above are the slope, intercept that were pre-determined. We generated 100 random datapoints with those slope and intercept values, then added a random error term (generated from a normal distribution with std=1). "
   ]
  },
  {
   "cell_type": "markdown",
   "id": "37dca265-508c-4ce8-90b5-fb8e8e023b05",
   "metadata": {},
   "source": [
    "#### 2:"
   ]
  },
  {
   "cell_type": "code",
   "execution_count": 24,
   "id": "61de8de8-6903-43cd-9672-12235326d4d9",
   "metadata": {},
   "outputs": [
    {
     "name": "stdout",
     "output_type": "stream",
     "text": [
      "                            OLS Regression Results                            \n",
      "==============================================================================\n",
      "Dep. Variable:                      y   R-squared:                       0.976\n",
      "Model:                            OLS   Adj. R-squared:                  0.976\n",
      "Method:                 Least Squares   F-statistic:                     4065.\n",
      "Date:                Sun, 20 Oct 2024   Prob (F-statistic):           1.35e-81\n",
      "Time:                        21:16:08   Log-Likelihood:                -131.15\n",
      "No. Observations:                 100   AIC:                             266.3\n",
      "Df Residuals:                      98   BIC:                             271.5\n",
      "Df Model:                           1                                         \n",
      "Covariance Type:            nonrobust                                         \n",
      "==============================================================================\n",
      "                 coef    std err          t      P>|t|      [0.025      0.975]\n",
      "------------------------------------------------------------------------------\n",
      "Intercept      2.2151      0.170     13.008      0.000       1.877       2.553\n",
      "x              1.9540      0.031     63.754      0.000       1.893       2.015\n",
      "==============================================================================\n",
      "Omnibus:                        0.900   Durbin-Watson:                   2.285\n",
      "Prob(Omnibus):                  0.638   Jarque-Bera (JB):                0.808\n",
      "Skew:                           0.217   Prob(JB):                        0.668\n",
      "Kurtosis:                       2.929   Cond. No.                         10.7\n",
      "==============================================================================\n",
      "\n",
      "Notes:\n",
      "[1] Standard Errors assume that the covariance matrix of the errors is correctly specified.\n",
      "Intercept    2.215096\n",
      "x            1.954023\n",
      "dtype: float64\n",
      "0.9764567983510799\n"
     ]
    },
    {
     "data": {
      "application/vnd.plotly.v1+json": {
       "config": {
        "plotlyServerURL": "https://plot.ly"
       },
       "data": [
        {
         "hovertemplate": "X=%{x}<br>Y=%{y}<extra></extra>",
         "legendgroup": "",
         "marker": {
          "color": "#636efa",
          "symbol": "circle"
         },
         "mode": "markers",
         "name": "",
         "orientation": "v",
         "showlegend": false,
         "type": "scatter",
         "x": [
          3.745401188473625,
          9.50714306409916,
          7.319939418114051,
          5.986584841970366,
          1.5601864044243652,
          1.5599452033620265,
          0.5808361216819946,
          8.661761457749352,
          6.011150117432088,
          7.080725777960454,
          0.20584494295802447,
          9.699098521619943,
          8.324426408004218,
          2.1233911067827616,
          1.8182496720710062,
          1.8340450985343382,
          3.0424224295953772,
          5.247564316322379,
          4.319450186421157,
          2.9122914019804194,
          6.118528947223795,
          1.3949386065204183,
          2.9214464853521815,
          3.663618432936917,
          4.56069984217036,
          7.851759613930136,
          1.9967378215835974,
          5.142344384136116,
          5.924145688620425,
          0.46450412719997725,
          6.075448519014383,
          1.7052412368729153,
          0.6505159298527952,
          9.488855372533333,
          9.656320330745594,
          8.08397348116461,
          3.0461376917337066,
          0.9767211400638387,
          6.842330265121569,
          4.4015249373960135,
          1.2203823484477883,
          4.951769101112702,
          0.34388521115218396,
          9.093204020787821,
          2.587799816000169,
          6.62522284353982,
          3.1171107608941098,
          5.200680211778108,
          5.4671027934327965,
          1.8485445552552704,
          9.695846277645586,
          7.7513282336111455,
          9.394989415641891,
          8.948273504276488,
          5.978999788110851,
          9.218742350231167,
          0.884925020519195,
          1.959828624191452,
          0.45227288910538066,
          3.2533033076326436,
          3.8867728968948203,
          2.713490317738959,
          8.287375091519294,
          3.567533266935893,
          2.8093450968738076,
          5.426960831582485,
          1.4092422497476265,
          8.021969807540398,
          0.7455064367977082,
          9.868869366005173,
          7.722447692966574,
          1.987156815341724,
          0.05522117123602399,
          8.154614284548341,
          7.068573438476172,
          7.2900716804098735,
          7.712703466859457,
          0.7404465173409036,
          3.5846572854427263,
          1.1586905952512971,
          8.631034258755935,
          6.232981268275579,
          3.308980248526492,
          0.6355835028602363,
          3.109823217156622,
          3.2518332202674705,
          7.29606178338064,
          6.3755747135521315,
          8.872127425763265,
          4.722149251619493,
          1.195942459383017,
          7.13244787222995,
          7.607850486168974,
          5.612771975694963,
          7.70967179954561,
          4.937955963643907,
          5.227328293819941,
          4.275410183585496,
          0.2541912674409519,
          1.0789142699330445
         ],
         "xaxis": "x",
         "y": [
          9.577849445185421,
          20.715278777732454,
          16.7316396127636,
          11.98560076933984,
          4.900700921011218,
          5.4770029782358,
          4.639566288105505,
          18.805252697225058,
          13.213806631970987,
          15.659694512336372,
          3.327092003618123,
          21.72694815289957,
          18.119092612241396,
          6.760049646678879,
          5.733576893490053,
          6.636735187601565,
          7.382791765313402,
          12.167466486046989,
          10.246792219710157,
          6.36106785582872,
          14.533178171512166,
          5.050932485220726,
          7.848006427346824,
          9.092649732498687,
          9.706028942290306,
          17.282873905094913,
          5.6507611266404245,
          11.482411499050613,
          13.68700566557484,
          3.3330591112144927,
          16.037082939239298,
          5.5850602865776695,
          3.558582250428355,
          20.9032648293005,
          19.393869446192145,
          18.141433086880003,
          8.15250559340844,
          6.4166843926129635,
          15.492299565462014,
          11.10459721712564,
          4.406052927190333,
          10.734860164605871,
          3.8305932368193885,
          20.938341074262418,
          7.966631579043385,
          14.341058232284901,
          9.63701583272432,
          10.999509360763936,
          13.521062680665864,
          7.887544736320519,
          20.401156230160485,
          16.936358737619518,
          20.889630196371424,
          19.393071354436778,
          12.40733614515557,
          20.506047675268363,
          2.707546327312285,
          6.393249679018086,
          1.985121543976958,
          10.056541020282827,
          8.990292501453403,
          7.1049191192722425,
          19.388267400408257,
          7.904202217437831,
          7.846150128351745,
          14.161064417447397,
          3.2110012649340254,
          18.2285734736131,
          3.75089566784384,
          22.519561603787658,
          16.207944675055067,
          4.653857017599172,
          2.6323839080889457,
          18.60621324232987,
          16.387639727298218,
          16.926591570316724,
          16.745382212140424,
          3.713146731842811,
          9.462387044184133,
          3.6030297724762264,
          21.127843028656628,
          14.939795457462946,
          7.426656999850335,
          3.9277206143543024,
          7.244964764085923,
          9.290751044277393,
          17.750719145768684,
          13.930467108752552,
          20.70763098077085,
          11.857079430175485,
          5.213945078760524,
          18.161688727113848,
          16.970312856335077,
          12.471807787032436,
          16.529829169465696,
          11.060101642322376,
          12.377554878225778,
          10.891972341987636,
          2.7850733342119227,
          4.985011788902113
         ],
         "yaxis": "y"
        },
        {
         "hovertemplate": "<b>OLS trendline</b><br>y = 1.95402 * x + 2.2151<br>R<sup>2</sup>=0.976457<br><br>X=%{x}<br>Y=%{y} <b>(trend)</b><extra></extra>",
         "legendgroup": "",
         "marker": {
          "color": "#636efa",
          "symbol": "circle"
         },
         "mode": "lines",
         "name": "OLS Trendline",
         "showlegend": false,
         "type": "scatter",
         "x": [
          0.05522117123602399,
          0.20584494295802447,
          0.2541912674409519,
          0.34388521115218396,
          0.45227288910538066,
          0.46450412719997725,
          0.5808361216819946,
          0.6355835028602363,
          0.6505159298527952,
          0.7404465173409036,
          0.7455064367977082,
          0.884925020519195,
          0.9767211400638387,
          1.0789142699330445,
          1.1586905952512971,
          1.195942459383017,
          1.2203823484477883,
          1.3949386065204183,
          1.4092422497476265,
          1.5599452033620265,
          1.5601864044243652,
          1.7052412368729153,
          1.8182496720710062,
          1.8340450985343382,
          1.8485445552552704,
          1.959828624191452,
          1.987156815341724,
          1.9967378215835974,
          2.1233911067827616,
          2.587799816000169,
          2.713490317738959,
          2.8093450968738076,
          2.9122914019804194,
          2.9214464853521815,
          3.0424224295953772,
          3.0461376917337066,
          3.109823217156622,
          3.1171107608941098,
          3.2518332202674705,
          3.2533033076326436,
          3.308980248526492,
          3.567533266935893,
          3.5846572854427263,
          3.663618432936917,
          3.745401188473625,
          3.8867728968948203,
          4.275410183585496,
          4.319450186421157,
          4.4015249373960135,
          4.56069984217036,
          4.722149251619493,
          4.937955963643907,
          4.951769101112702,
          5.142344384136116,
          5.200680211778108,
          5.227328293819941,
          5.247564316322379,
          5.426960831582485,
          5.4671027934327965,
          5.612771975694963,
          5.924145688620425,
          5.978999788110851,
          5.986584841970366,
          6.011150117432088,
          6.075448519014383,
          6.118528947223795,
          6.232981268275579,
          6.3755747135521315,
          6.62522284353982,
          6.842330265121569,
          7.068573438476172,
          7.080725777960454,
          7.13244787222995,
          7.2900716804098735,
          7.29606178338064,
          7.319939418114051,
          7.607850486168974,
          7.70967179954561,
          7.712703466859457,
          7.722447692966574,
          7.7513282336111455,
          7.851759613930136,
          8.021969807540398,
          8.08397348116461,
          8.154614284548341,
          8.287375091519294,
          8.324426408004218,
          8.631034258755935,
          8.661761457749352,
          8.872127425763265,
          8.948273504276488,
          9.093204020787821,
          9.218742350231167,
          9.394989415641891,
          9.488855372533333,
          9.50714306409916,
          9.656320330745594,
          9.695846277645586,
          9.699098521619943,
          9.868869366005173
         ],
         "xaxis": "x",
         "y": [
          2.3229995784083295,
          2.6173218440917236,
          2.711791658494873,
          2.8870556585219864,
          3.0988476391810886,
          3.1227477557892356,
          3.3500631111012047,
          3.4570407354456023,
          3.4862190364160055,
          3.661945443749574,
          3.67183264111342,
          3.944259715340538,
          4.123631414617784,
          4.323319107845219,
          4.479203856627765,
          4.551994843912386,
          4.599750941375344,
          4.940837828111747,
          4.968787471345545,
          5.2632644602423175,
          5.263735772587913,
          5.547176204642548,
          5.767997249744415,
          5.798861871251195,
          5.827194138492247,
          6.044645732814394,
          6.098045638051278,
          6.116767141519134,
          6.364250532951287,
          7.271715682292009,
          7.517317773009273,
          7.7046201851651706,
          7.9057795998864675,
          7.923668840407351,
          8.160058578864847,
          8.167318285335211,
          8.29176124622657,
          8.306001271951347,
          8.569252012706864,
          8.572124596756005,
          8.680918601864592,
          9.186137063117744,
          9.219597783606392,
          9.373889656434699,
          9.533695015364502,
          9.809938539546422,
          10.569344610979561,
          10.65539977522826,
          10.815775699865867,
          11.126807073450049,
          11.442282880748364,
          11.863974089954963,
          11.89096527381348,
          12.263353698571754,
          12.377343228682552,
          12.429414185298516,
          12.468955832166383,
          12.819500691211019,
          12.897938994977345,
          13.182579880499572,
          13.791011176667196,
          13.898197331013684,
          13.913018698263624,
          13.961019803589647,
          14.086660338394804,
          14.170840472063258,
          14.394482902866656,
          14.673113728569621,
          15.160931835908032,
          15.585164661086228,
          16.027248952402655,
          16.05099489933704,
          16.152061044456445,
          16.460061540120464,
          16.47176633716463,
          16.518423776913707,
          17.08100853293515,
          17.279969688304313,
          17.285893634985563,
          17.304934073771484,
          17.36136730512331,
          17.557612499777925,
          17.8902070779979,
          18.01136366233476,
          18.14939739408839,
          18.40881502156465,
          18.481214134199547,
          19.080332827602845,
          19.140374471245515,
          19.55143434327428,
          19.700225507475643,
          19.98342302336981,
          20.228727765970923,
          20.573118528588886,
          20.756534736980072,
          20.79226930101494,
          21.083765062977868,
          21.160999659561718,
          21.16735461803969,
          21.499090697910702
         ],
         "yaxis": "y"
        }
       ],
       "layout": {
        "autosize": true,
        "legend": {
         "tracegroupgap": 0
        },
        "showlegend": true,
        "template": {
         "data": {
          "bar": [
           {
            "error_x": {
             "color": "#2a3f5f"
            },
            "error_y": {
             "color": "#2a3f5f"
            },
            "marker": {
             "line": {
              "color": "#E5ECF6",
              "width": 0.5
             },
             "pattern": {
              "fillmode": "overlay",
              "size": 10,
              "solidity": 0.2
             }
            },
            "type": "bar"
           }
          ],
          "barpolar": [
           {
            "marker": {
             "line": {
              "color": "#E5ECF6",
              "width": 0.5
             },
             "pattern": {
              "fillmode": "overlay",
              "size": 10,
              "solidity": 0.2
             }
            },
            "type": "barpolar"
           }
          ],
          "carpet": [
           {
            "aaxis": {
             "endlinecolor": "#2a3f5f",
             "gridcolor": "white",
             "linecolor": "white",
             "minorgridcolor": "white",
             "startlinecolor": "#2a3f5f"
            },
            "baxis": {
             "endlinecolor": "#2a3f5f",
             "gridcolor": "white",
             "linecolor": "white",
             "minorgridcolor": "white",
             "startlinecolor": "#2a3f5f"
            },
            "type": "carpet"
           }
          ],
          "choropleth": [
           {
            "colorbar": {
             "outlinewidth": 0,
             "ticks": ""
            },
            "type": "choropleth"
           }
          ],
          "contour": [
           {
            "colorbar": {
             "outlinewidth": 0,
             "ticks": ""
            },
            "colorscale": [
             [
              0,
              "#0d0887"
             ],
             [
              0.1111111111111111,
              "#46039f"
             ],
             [
              0.2222222222222222,
              "#7201a8"
             ],
             [
              0.3333333333333333,
              "#9c179e"
             ],
             [
              0.4444444444444444,
              "#bd3786"
             ],
             [
              0.5555555555555556,
              "#d8576b"
             ],
             [
              0.6666666666666666,
              "#ed7953"
             ],
             [
              0.7777777777777778,
              "#fb9f3a"
             ],
             [
              0.8888888888888888,
              "#fdca26"
             ],
             [
              1,
              "#f0f921"
             ]
            ],
            "type": "contour"
           }
          ],
          "contourcarpet": [
           {
            "colorbar": {
             "outlinewidth": 0,
             "ticks": ""
            },
            "type": "contourcarpet"
           }
          ],
          "heatmap": [
           {
            "colorbar": {
             "outlinewidth": 0,
             "ticks": ""
            },
            "colorscale": [
             [
              0,
              "#0d0887"
             ],
             [
              0.1111111111111111,
              "#46039f"
             ],
             [
              0.2222222222222222,
              "#7201a8"
             ],
             [
              0.3333333333333333,
              "#9c179e"
             ],
             [
              0.4444444444444444,
              "#bd3786"
             ],
             [
              0.5555555555555556,
              "#d8576b"
             ],
             [
              0.6666666666666666,
              "#ed7953"
             ],
             [
              0.7777777777777778,
              "#fb9f3a"
             ],
             [
              0.8888888888888888,
              "#fdca26"
             ],
             [
              1,
              "#f0f921"
             ]
            ],
            "type": "heatmap"
           }
          ],
          "heatmapgl": [
           {
            "colorbar": {
             "outlinewidth": 0,
             "ticks": ""
            },
            "colorscale": [
             [
              0,
              "#0d0887"
             ],
             [
              0.1111111111111111,
              "#46039f"
             ],
             [
              0.2222222222222222,
              "#7201a8"
             ],
             [
              0.3333333333333333,
              "#9c179e"
             ],
             [
              0.4444444444444444,
              "#bd3786"
             ],
             [
              0.5555555555555556,
              "#d8576b"
             ],
             [
              0.6666666666666666,
              "#ed7953"
             ],
             [
              0.7777777777777778,
              "#fb9f3a"
             ],
             [
              0.8888888888888888,
              "#fdca26"
             ],
             [
              1,
              "#f0f921"
             ]
            ],
            "type": "heatmapgl"
           }
          ],
          "histogram": [
           {
            "marker": {
             "pattern": {
              "fillmode": "overlay",
              "size": 10,
              "solidity": 0.2
             }
            },
            "type": "histogram"
           }
          ],
          "histogram2d": [
           {
            "colorbar": {
             "outlinewidth": 0,
             "ticks": ""
            },
            "colorscale": [
             [
              0,
              "#0d0887"
             ],
             [
              0.1111111111111111,
              "#46039f"
             ],
             [
              0.2222222222222222,
              "#7201a8"
             ],
             [
              0.3333333333333333,
              "#9c179e"
             ],
             [
              0.4444444444444444,
              "#bd3786"
             ],
             [
              0.5555555555555556,
              "#d8576b"
             ],
             [
              0.6666666666666666,
              "#ed7953"
             ],
             [
              0.7777777777777778,
              "#fb9f3a"
             ],
             [
              0.8888888888888888,
              "#fdca26"
             ],
             [
              1,
              "#f0f921"
             ]
            ],
            "type": "histogram2d"
           }
          ],
          "histogram2dcontour": [
           {
            "colorbar": {
             "outlinewidth": 0,
             "ticks": ""
            },
            "colorscale": [
             [
              0,
              "#0d0887"
             ],
             [
              0.1111111111111111,
              "#46039f"
             ],
             [
              0.2222222222222222,
              "#7201a8"
             ],
             [
              0.3333333333333333,
              "#9c179e"
             ],
             [
              0.4444444444444444,
              "#bd3786"
             ],
             [
              0.5555555555555556,
              "#d8576b"
             ],
             [
              0.6666666666666666,
              "#ed7953"
             ],
             [
              0.7777777777777778,
              "#fb9f3a"
             ],
             [
              0.8888888888888888,
              "#fdca26"
             ],
             [
              1,
              "#f0f921"
             ]
            ],
            "type": "histogram2dcontour"
           }
          ],
          "mesh3d": [
           {
            "colorbar": {
             "outlinewidth": 0,
             "ticks": ""
            },
            "type": "mesh3d"
           }
          ],
          "parcoords": [
           {
            "line": {
             "colorbar": {
              "outlinewidth": 0,
              "ticks": ""
             }
            },
            "type": "parcoords"
           }
          ],
          "pie": [
           {
            "automargin": true,
            "type": "pie"
           }
          ],
          "scatter": [
           {
            "fillpattern": {
             "fillmode": "overlay",
             "size": 10,
             "solidity": 0.2
            },
            "type": "scatter"
           }
          ],
          "scatter3d": [
           {
            "line": {
             "colorbar": {
              "outlinewidth": 0,
              "ticks": ""
             }
            },
            "marker": {
             "colorbar": {
              "outlinewidth": 0,
              "ticks": ""
             }
            },
            "type": "scatter3d"
           }
          ],
          "scattercarpet": [
           {
            "marker": {
             "colorbar": {
              "outlinewidth": 0,
              "ticks": ""
             }
            },
            "type": "scattercarpet"
           }
          ],
          "scattergeo": [
           {
            "marker": {
             "colorbar": {
              "outlinewidth": 0,
              "ticks": ""
             }
            },
            "type": "scattergeo"
           }
          ],
          "scattergl": [
           {
            "marker": {
             "colorbar": {
              "outlinewidth": 0,
              "ticks": ""
             }
            },
            "type": "scattergl"
           }
          ],
          "scattermapbox": [
           {
            "marker": {
             "colorbar": {
              "outlinewidth": 0,
              "ticks": ""
             }
            },
            "type": "scattermapbox"
           }
          ],
          "scatterpolar": [
           {
            "marker": {
             "colorbar": {
              "outlinewidth": 0,
              "ticks": ""
             }
            },
            "type": "scatterpolar"
           }
          ],
          "scatterpolargl": [
           {
            "marker": {
             "colorbar": {
              "outlinewidth": 0,
              "ticks": ""
             }
            },
            "type": "scatterpolargl"
           }
          ],
          "scatterternary": [
           {
            "marker": {
             "colorbar": {
              "outlinewidth": 0,
              "ticks": ""
             }
            },
            "type": "scatterternary"
           }
          ],
          "surface": [
           {
            "colorbar": {
             "outlinewidth": 0,
             "ticks": ""
            },
            "colorscale": [
             [
              0,
              "#0d0887"
             ],
             [
              0.1111111111111111,
              "#46039f"
             ],
             [
              0.2222222222222222,
              "#7201a8"
             ],
             [
              0.3333333333333333,
              "#9c179e"
             ],
             [
              0.4444444444444444,
              "#bd3786"
             ],
             [
              0.5555555555555556,
              "#d8576b"
             ],
             [
              0.6666666666666666,
              "#ed7953"
             ],
             [
              0.7777777777777778,
              "#fb9f3a"
             ],
             [
              0.8888888888888888,
              "#fdca26"
             ],
             [
              1,
              "#f0f921"
             ]
            ],
            "type": "surface"
           }
          ],
          "table": [
           {
            "cells": {
             "fill": {
              "color": "#EBF0F8"
             },
             "line": {
              "color": "white"
             }
            },
            "header": {
             "fill": {
              "color": "#C8D4E3"
             },
             "line": {
              "color": "white"
             }
            },
            "type": "table"
           }
          ]
         },
         "layout": {
          "annotationdefaults": {
           "arrowcolor": "#2a3f5f",
           "arrowhead": 0,
           "arrowwidth": 1
          },
          "autotypenumbers": "strict",
          "coloraxis": {
           "colorbar": {
            "outlinewidth": 0,
            "ticks": ""
           }
          },
          "colorscale": {
           "diverging": [
            [
             0,
             "#8e0152"
            ],
            [
             0.1,
             "#c51b7d"
            ],
            [
             0.2,
             "#de77ae"
            ],
            [
             0.3,
             "#f1b6da"
            ],
            [
             0.4,
             "#fde0ef"
            ],
            [
             0.5,
             "#f7f7f7"
            ],
            [
             0.6,
             "#e6f5d0"
            ],
            [
             0.7,
             "#b8e186"
            ],
            [
             0.8,
             "#7fbc41"
            ],
            [
             0.9,
             "#4d9221"
            ],
            [
             1,
             "#276419"
            ]
           ],
           "sequential": [
            [
             0,
             "#0d0887"
            ],
            [
             0.1111111111111111,
             "#46039f"
            ],
            [
             0.2222222222222222,
             "#7201a8"
            ],
            [
             0.3333333333333333,
             "#9c179e"
            ],
            [
             0.4444444444444444,
             "#bd3786"
            ],
            [
             0.5555555555555556,
             "#d8576b"
            ],
            [
             0.6666666666666666,
             "#ed7953"
            ],
            [
             0.7777777777777778,
             "#fb9f3a"
            ],
            [
             0.8888888888888888,
             "#fdca26"
            ],
            [
             1,
             "#f0f921"
            ]
           ],
           "sequentialminus": [
            [
             0,
             "#0d0887"
            ],
            [
             0.1111111111111111,
             "#46039f"
            ],
            [
             0.2222222222222222,
             "#7201a8"
            ],
            [
             0.3333333333333333,
             "#9c179e"
            ],
            [
             0.4444444444444444,
             "#bd3786"
            ],
            [
             0.5555555555555556,
             "#d8576b"
            ],
            [
             0.6666666666666666,
             "#ed7953"
            ],
            [
             0.7777777777777778,
             "#fb9f3a"
            ],
            [
             0.8888888888888888,
             "#fdca26"
            ],
            [
             1,
             "#f0f921"
            ]
           ]
          },
          "colorway": [
           "#636efa",
           "#EF553B",
           "#00cc96",
           "#ab63fa",
           "#FFA15A",
           "#19d3f3",
           "#FF6692",
           "#B6E880",
           "#FF97FF",
           "#FECB52"
          ],
          "font": {
           "color": "#2a3f5f"
          },
          "geo": {
           "bgcolor": "white",
           "lakecolor": "white",
           "landcolor": "#E5ECF6",
           "showlakes": true,
           "showland": true,
           "subunitcolor": "white"
          },
          "hoverlabel": {
           "align": "left"
          },
          "hovermode": "closest",
          "mapbox": {
           "style": "light"
          },
          "paper_bgcolor": "white",
          "plot_bgcolor": "#E5ECF6",
          "polar": {
           "angularaxis": {
            "gridcolor": "white",
            "linecolor": "white",
            "ticks": ""
           },
           "bgcolor": "#E5ECF6",
           "radialaxis": {
            "gridcolor": "white",
            "linecolor": "white",
            "ticks": ""
           }
          },
          "scene": {
           "xaxis": {
            "backgroundcolor": "#E5ECF6",
            "gridcolor": "white",
            "gridwidth": 2,
            "linecolor": "white",
            "showbackground": true,
            "ticks": "",
            "zerolinecolor": "white"
           },
           "yaxis": {
            "backgroundcolor": "#E5ECF6",
            "gridcolor": "white",
            "gridwidth": 2,
            "linecolor": "white",
            "showbackground": true,
            "ticks": "",
            "zerolinecolor": "white"
           },
           "zaxis": {
            "backgroundcolor": "#E5ECF6",
            "gridcolor": "white",
            "gridwidth": 2,
            "linecolor": "white",
            "showbackground": true,
            "ticks": "",
            "zerolinecolor": "white"
           }
          },
          "shapedefaults": {
           "line": {
            "color": "#2a3f5f"
           }
          },
          "ternary": {
           "aaxis": {
            "gridcolor": "white",
            "linecolor": "white",
            "ticks": ""
           },
           "baxis": {
            "gridcolor": "white",
            "linecolor": "white",
            "ticks": ""
           },
           "bgcolor": "#E5ECF6",
           "caxis": {
            "gridcolor": "white",
            "linecolor": "white",
            "ticks": ""
           }
          },
          "title": {
           "x": 0.05
          },
          "xaxis": {
           "automargin": true,
           "gridcolor": "white",
           "linecolor": "white",
           "ticks": "",
           "title": {
            "standoff": 15
           },
           "zerolinecolor": "white",
           "zerolinewidth": 2
          },
          "yaxis": {
           "automargin": true,
           "gridcolor": "white",
           "linecolor": "white",
           "ticks": "",
           "title": {
            "standoff": 15
           },
           "zerolinecolor": "white",
           "zerolinewidth": 2
          }
         }
        },
        "title": {
         "text": "Fitted Linear Regression Model with OLS Trendline"
        },
        "xaxis": {
         "anchor": "y",
         "autorange": true,
         "domain": [
          0,
          1
         ],
         "range": [
          -0.5796529992589099,
          10.503743536500107
         ],
         "title": {
          "text": "X"
         },
         "type": "linear"
        },
        "yaxis": {
         "anchor": "x",
         "autorange": true,
         "domain": [
          0,
          1
         ],
         "range": [
          0.2905318303032596,
          24.214151317461358
         ],
         "title": {
          "text": "Y"
         },
         "type": "linear"
        }
       }
      },
      "image/png": "[encoded data removed]",
      "text/html": [
       "<div>                            <div id=\"7325d18c-e47b-4814-b637-f75ddd2d400a\" class=\"plotly-graph-div\" style=\"height:525px; width:100%;\"></div>            <script type=\"text/javascript\">                require([\"plotly\"], function(Plotly) {                    window.PLOTLYENV=window.PLOTLYENV || {};                                    if (document.getElementById(\"7325d18c-e47b-4814-b637-f75ddd2d400a\")) {                    Plotly.newPlot(                        \"7325d18c-e47b-4814-b637-f75ddd2d400a\",                        [{\"hovertemplate\":\"X=%{x}\\u003cbr\\u003eY=%{y}\\u003cextra\\u003e\\u003c\\u002fextra\\u003e\",\"legendgroup\":\"\",\"marker\":{\"color\":\"#636efa\",\"symbol\":\"circle\"},\"mode\":\"markers\",\"name\":\"\",\"orientation\":\"v\",\"showlegend\":false,\"x\":[3.745401188473625,9.50714306409916,7.319939418114051,5.986584841970366,1.5601864044243652,1.5599452033620265,0.5808361216819946,8.661761457749352,6.011150117432088,7.080725777960454,0.20584494295802447,9.699098521619943,8.324426408004218,2.1233911067827616,1.8182496720710062,1.8340450985343382,3.0424224295953772,5.247564316322379,4.319450186421157,2.9122914019804194,6.118528947223795,1.3949386065204183,2.9214464853521815,3.663618432936917,4.56069984217036,7.851759613930136,1.9967378215835974,5.142344384136116,5.924145688620425,0.46450412719997725,6.075448519014383,1.7052412368729153,0.6505159298527952,9.488855372533333,9.656320330745594,8.08397348116461,3.0461376917337066,0.9767211400638387,6.842330265121569,4.4015249373960135,1.2203823484477883,4.951769101112702,0.34388521115218396,9.093204020787821,2.587799816000169,6.62522284353982,3.1171107608941098,5.200680211778108,5.4671027934327965,1.8485445552552704,9.695846277645586,7.7513282336111455,9.394989415641891,8.948273504276488,5.978999788110851,9.218742350231167,0.884925020519195,1.959828624191452,0.45227288910538066,3.2533033076326436,3.8867728968948203,2.713490317738959,8.287375091519294,3.567533266935893,2.8093450968738076,5.426960831582485,1.4092422497476265,8.021969807540398,0.7455064367977082,9.868869366005173,7.722447692966574,1.987156815341724,0.05522117123602399,8.154614284548341,7.068573438476172,7.2900716804098735,7.712703466859457,0.7404465173409036,3.5846572854427263,1.1586905952512971,8.631034258755935,6.232981268275579,3.308980248526492,0.6355835028602363,3.109823217156622,3.2518332202674705,7.29606178338064,6.3755747135521315,8.872127425763265,4.722149251619493,1.195942459383017,7.13244787222995,7.607850486168974,5.612771975694963,7.70967179954561,4.937955963643907,5.227328293819941,4.275410183585496,0.2541912674409519,1.0789142699330445],\"xaxis\":\"x\",\"y\":[9.577849445185421,20.715278777732454,16.7316396127636,11.98560076933984,4.900700921011218,5.4770029782358,4.639566288105505,18.805252697225058,13.213806631970987,15.659694512336372,3.327092003618123,21.72694815289957,18.119092612241396,6.760049646678879,5.733576893490053,6.636735187601565,7.382791765313402,12.167466486046989,10.246792219710157,6.36106785582872,14.533178171512166,5.050932485220726,7.848006427346824,9.092649732498687,9.706028942290306,17.282873905094913,5.6507611266404245,11.482411499050613,13.68700566557484,3.3330591112144927,16.037082939239298,5.5850602865776695,3.558582250428355,20.9032648293005,19.393869446192145,18.141433086880003,8.15250559340844,6.4166843926129635,15.492299565462014,11.10459721712564,4.406052927190333,10.734860164605871,3.8305932368193885,20.938341074262418,7.966631579043385,14.341058232284901,9.63701583272432,10.999509360763936,13.521062680665864,7.887544736320519,20.401156230160485,16.936358737619518,20.889630196371424,19.393071354436778,12.40733614515557,20.506047675268363,2.707546327312285,6.393249679018086,1.985121543976958,10.056541020282827,8.990292501453403,7.1049191192722425,19.388267400408257,7.904202217437831,7.846150128351745,14.161064417447397,3.2110012649340254,18.2285734736131,3.75089566784384,22.519561603787658,16.207944675055067,4.653857017599172,2.6323839080889457,18.60621324232987,16.387639727298218,16.926591570316724,16.745382212140424,3.713146731842811,9.462387044184133,3.6030297724762264,21.127843028656628,14.939795457462946,7.426656999850335,3.9277206143543024,7.244964764085923,9.290751044277393,17.750719145768684,13.930467108752552,20.70763098077085,11.857079430175485,5.213945078760524,18.161688727113848,16.970312856335077,12.471807787032436,16.529829169465696,11.060101642322376,12.377554878225778,10.891972341987636,2.7850733342119227,4.985011788902113],\"yaxis\":\"y\",\"type\":\"scatter\"},{\"hovertemplate\":\"\\u003cb\\u003eOLS trendline\\u003c\\u002fb\\u003e\\u003cbr\\u003ey = 1.95402 * x + 2.2151\\u003cbr\\u003eR\\u003csup\\u003e2\\u003c\\u002fsup\\u003e=0.976457\\u003cbr\\u003e\\u003cbr\\u003eX=%{x}\\u003cbr\\u003eY=%{y} \\u003cb\\u003e(trend)\\u003c\\u002fb\\u003e\\u003cextra\\u003e\\u003c\\u002fextra\\u003e\",\"legendgroup\":\"\",\"marker\":{\"color\":\"#636efa\",\"symbol\":\"circle\"},\"mode\":\"lines\",\"name\":\"OLS Trendline\",\"showlegend\":false,\"x\":[0.05522117123602399,0.20584494295802447,0.2541912674409519,0.34388521115218396,0.45227288910538066,0.46450412719997725,0.5808361216819946,0.6355835028602363,0.6505159298527952,0.7404465173409036,0.7455064367977082,0.884925020519195,0.9767211400638387,1.0789142699330445,1.1586905952512971,1.195942459383017,1.2203823484477883,1.3949386065204183,1.4092422497476265,1.5599452033620265,1.5601864044243652,1.7052412368729153,1.8182496720710062,1.8340450985343382,1.8485445552552704,1.959828624191452,1.987156815341724,1.9967378215835974,2.1233911067827616,2.587799816000169,2.713490317738959,2.8093450968738076,2.9122914019804194,2.9214464853521815,3.0424224295953772,3.0461376917337066,3.109823217156622,3.1171107608941098,3.2518332202674705,3.2533033076326436,3.308980248526492,3.567533266935893,3.5846572854427263,3.663618432936917,3.745401188473625,3.8867728968948203,4.275410183585496,4.319450186421157,4.4015249373960135,4.56069984217036,4.722149251619493,4.937955963643907,4.951769101112702,5.142344384136116,5.200680211778108,5.227328293819941,5.247564316322379,5.426960831582485,5.4671027934327965,5.612771975694963,5.924145688620425,5.978999788110851,5.986584841970366,6.011150117432088,6.075448519014383,6.118528947223795,6.232981268275579,6.3755747135521315,6.62522284353982,6.842330265121569,7.068573438476172,7.080725777960454,7.13244787222995,7.2900716804098735,7.29606178338064,7.319939418114051,7.607850486168974,7.70967179954561,7.712703466859457,7.722447692966574,7.7513282336111455,7.851759613930136,8.021969807540398,8.08397348116461,8.154614284548341,8.287375091519294,8.324426408004218,8.631034258755935,8.661761457749352,8.872127425763265,8.948273504276488,9.093204020787821,9.218742350231167,9.394989415641891,9.488855372533333,9.50714306409916,9.656320330745594,9.695846277645586,9.699098521619943,9.868869366005173],\"xaxis\":\"x\",\"y\":[2.3229995784083295,2.6173218440917236,2.711791658494873,2.8870556585219864,3.0988476391810886,3.1227477557892356,3.3500631111012047,3.4570407354456023,3.4862190364160055,3.661945443749574,3.67183264111342,3.944259715340538,4.123631414617784,4.323319107845219,4.479203856627765,4.551994843912386,4.599750941375344,4.940837828111747,4.968787471345545,5.2632644602423175,5.263735772587913,5.547176204642548,5.767997249744415,5.798861871251195,5.827194138492247,6.044645732814394,6.098045638051278,6.116767141519134,6.364250532951287,7.271715682292009,7.517317773009273,7.7046201851651706,7.9057795998864675,7.923668840407351,8.160058578864847,8.167318285335211,8.29176124622657,8.306001271951347,8.569252012706864,8.572124596756005,8.680918601864592,9.186137063117744,9.219597783606392,9.373889656434699,9.533695015364502,9.809938539546422,10.569344610979561,10.65539977522826,10.815775699865867,11.126807073450049,11.442282880748364,11.863974089954963,11.89096527381348,12.263353698571754,12.377343228682552,12.429414185298516,12.468955832166383,12.819500691211019,12.897938994977345,13.182579880499572,13.791011176667196,13.898197331013684,13.913018698263624,13.961019803589647,14.086660338394804,14.170840472063258,14.394482902866656,14.673113728569621,15.160931835908032,15.585164661086228,16.027248952402655,16.05099489933704,16.152061044456445,16.460061540120464,16.47176633716463,16.518423776913707,17.08100853293515,17.279969688304313,17.285893634985563,17.304934073771484,17.36136730512331,17.557612499777925,17.8902070779979,18.01136366233476,18.14939739408839,18.40881502156465,18.481214134199547,19.080332827602845,19.140374471245515,19.55143434327428,19.700225507475643,19.98342302336981,20.228727765970923,20.573118528588886,20.756534736980072,20.79226930101494,21.083765062977868,21.160999659561718,21.16735461803969,21.499090697910702],\"yaxis\":\"y\",\"type\":\"scatter\"}],                        {\"template\":{\"data\":{\"histogram2dcontour\":[{\"type\":\"histogram2dcontour\",\"colorbar\":{\"outlinewidth\":0,\"ticks\":\"\"},\"colorscale\":[[0.0,\"#0d0887\"],[0.1111111111111111,\"#46039f\"],[0.2222222222222222,\"#7201a8\"],[0.3333333333333333,\"#9c179e\"],[0.4444444444444444,\"#bd3786\"],[0.5555555555555556,\"#d8576b\"],[0.6666666666666666,\"#ed7953\"],[0.7777777777777778,\"#fb9f3a\"],[0.8888888888888888,\"#fdca26\"],[1.0,\"#f0f921\"]]}],\"choropleth\":[{\"type\":\"choropleth\",\"colorbar\":{\"outlinewidth\":0,\"ticks\":\"\"}}],\"histogram2d\":[{\"type\":\"histogram2d\",\"colorbar\":{\"outlinewidth\":0,\"ticks\":\"\"},\"colorscale\":[[0.0,\"#0d0887\"],[0.1111111111111111,\"#46039f\"],[0.2222222222222222,\"#7201a8\"],[0.3333333333333333,\"#9c179e\"],[0.4444444444444444,\"#bd3786\"],[0.5555555555555556,\"#d8576b\"],[0.6666666666666666,\"#ed7953\"],[0.7777777777777778,\"#fb9f3a\"],[0.8888888888888888,\"#fdca26\"],[1.0,\"#f0f921\"]]}],\"heatmap\":[{\"type\":\"heatmap\",\"colorbar\":{\"outlinewidth\":0,\"ticks\":\"\"},\"colorscale\":[[0.0,\"#0d0887\"],[0.1111111111111111,\"#46039f\"],[0.2222222222222222,\"#7201a8\"],[0.3333333333333333,\"#9c179e\"],[0.4444444444444444,\"#bd3786\"],[0.5555555555555556,\"#d8576b\"],[0.6666666666666666,\"#ed7953\"],[0.7777777777777778,\"#fb9f3a\"],[0.8888888888888888,\"#fdca26\"],[1.0,\"#f0f921\"]]}],\"heatmapgl\":[{\"type\":\"heatmapgl\",\"colorbar\":{\"outlinewidth\":0,\"ticks\":\"\"},\"colorscale\":[[0.0,\"#0d0887\"],[0.1111111111111111,\"#46039f\"],[0.2222222222222222,\"#7201a8\"],[0.3333333333333333,\"#9c179e\"],[0.4444444444444444,\"#bd3786\"],[0.5555555555555556,\"#d8576b\"],[0.6666666666666666,\"#ed7953\"],[0.7777777777777778,\"#fb9f3a\"],[0.8888888888888888,\"#fdca26\"],[1.0,\"#f0f921\"]]}],\"contourcarpet\":[{\"type\":\"contourcarpet\",\"colorbar\":{\"outlinewidth\":0,\"ticks\":\"\"}}],\"contour\":[{\"type\":\"contour\",\"colorbar\":{\"outlinewidth\":0,\"ticks\":\"\"},\"colorscale\":[[0.0,\"#0d0887\"],[0.1111111111111111,\"#46039f\"],[0.2222222222222222,\"#7201a8\"],[0.3333333333333333,\"#9c179e\"],[0.4444444444444444,\"#bd3786\"],[0.5555555555555556,\"#d8576b\"],[0.6666666666666666,\"#ed7953\"],[0.7777777777777778,\"#fb9f3a\"],[0.8888888888888888,\"#fdca26\"],[1.0,\"#f0f921\"]]}],\"surface\":[{\"type\":\"surface\",\"colorbar\":{\"outlinewidth\":0,\"ticks\":\"\"},\"colorscale\":[[0.0,\"#0d0887\"],[0.1111111111111111,\"#46039f\"],[0.2222222222222222,\"#7201a8\"],[0.3333333333333333,\"#9c179e\"],[0.4444444444444444,\"#bd3786\"],[0.5555555555555556,\"#d8576b\"],[0.6666666666666666,\"#ed7953\"],[0.7777777777777778,\"#fb9f3a\"],[0.8888888888888888,\"#fdca26\"],[1.0,\"#f0f921\"]]}],\"mesh3d\":[{\"type\":\"mesh3d\",\"colorbar\":{\"outlinewidth\":0,\"ticks\":\"\"}}],\"scatter\":[{\"fillpattern\":{\"fillmode\":\"overlay\",\"size\":10,\"solidity\":0.2},\"type\":\"scatter\"}],\"parcoords\":[{\"type\":\"parcoords\",\"line\":{\"colorbar\":{\"outlinewidth\":0,\"ticks\":\"\"}}}],\"scatterpolargl\":[{\"type\":\"scatterpolargl\",\"marker\":{\"colorbar\":{\"outlinewidth\":0,\"ticks\":\"\"}}}],\"bar\":[{\"error_x\":{\"color\":\"#2a3f5f\"},\"error_y\":{\"color\":\"#2a3f5f\"},\"marker\":{\"line\":{\"color\":\"#E5ECF6\",\"width\":0.5},\"pattern\":{\"fillmode\":\"overlay\",\"size\":10,\"solidity\":0.2}},\"type\":\"bar\"}],\"scattergeo\":[{\"type\":\"scattergeo\",\"marker\":{\"colorbar\":{\"outlinewidth\":0,\"ticks\":\"\"}}}],\"scatterpolar\":[{\"type\":\"scatterpolar\",\"marker\":{\"colorbar\":{\"outlinewidth\":0,\"ticks\":\"\"}}}],\"histogram\":[{\"marker\":{\"pattern\":{\"fillmode\":\"overlay\",\"size\":10,\"solidity\":0.2}},\"type\":\"histogram\"}],\"scattergl\":[{\"type\":\"scattergl\",\"marker\":{\"colorbar\":{\"outlinewidth\":0,\"ticks\":\"\"}}}],\"scatter3d\":[{\"type\":\"scatter3d\",\"line\":{\"colorbar\":{\"outlinewidth\":0,\"ticks\":\"\"}},\"marker\":{\"colorbar\":{\"outlinewidth\":0,\"ticks\":\"\"}}}],\"scattermapbox\":[{\"type\":\"scattermapbox\",\"marker\":{\"colorbar\":{\"outlinewidth\":0,\"ticks\":\"\"}}}],\"scatterternary\":[{\"type\":\"scatterternary\",\"marker\":{\"colorbar\":{\"outlinewidth\":0,\"ticks\":\"\"}}}],\"scattercarpet\":[{\"type\":\"scattercarpet\",\"marker\":{\"colorbar\":{\"outlinewidth\":0,\"ticks\":\"\"}}}],\"carpet\":[{\"aaxis\":{\"endlinecolor\":\"#2a3f5f\",\"gridcolor\":\"white\",\"linecolor\":\"white\",\"minorgridcolor\":\"white\",\"startlinecolor\":\"#2a3f5f\"},\"baxis\":{\"endlinecolor\":\"#2a3f5f\",\"gridcolor\":\"white\",\"linecolor\":\"white\",\"minorgridcolor\":\"white\",\"startlinecolor\":\"#2a3f5f\"},\"type\":\"carpet\"}],\"table\":[{\"cells\":{\"fill\":{\"color\":\"#EBF0F8\"},\"line\":{\"color\":\"white\"}},\"header\":{\"fill\":{\"color\":\"#C8D4E3\"},\"line\":{\"color\":\"white\"}},\"type\":\"table\"}],\"barpolar\":[{\"marker\":{\"line\":{\"color\":\"#E5ECF6\",\"width\":0.5},\"pattern\":{\"fillmode\":\"overlay\",\"size\":10,\"solidity\":0.2}},\"type\":\"barpolar\"}],\"pie\":[{\"automargin\":true,\"type\":\"pie\"}]},\"layout\":{\"autotypenumbers\":\"strict\",\"colorway\":[\"#636efa\",\"#EF553B\",\"#00cc96\",\"#ab63fa\",\"#FFA15A\",\"#19d3f3\",\"#FF6692\",\"#B6E880\",\"#FF97FF\",\"#FECB52\"],\"font\":{\"color\":\"#2a3f5f\"},\"hovermode\":\"closest\",\"hoverlabel\":{\"align\":\"left\"},\"paper_bgcolor\":\"white\",\"plot_bgcolor\":\"#E5ECF6\",\"polar\":{\"bgcolor\":\"#E5ECF6\",\"angularaxis\":{\"gridcolor\":\"white\",\"linecolor\":\"white\",\"ticks\":\"\"},\"radialaxis\":{\"gridcolor\":\"white\",\"linecolor\":\"white\",\"ticks\":\"\"}},\"ternary\":{\"bgcolor\":\"#E5ECF6\",\"aaxis\":{\"gridcolor\":\"white\",\"linecolor\":\"white\",\"ticks\":\"\"},\"baxis\":{\"gridcolor\":\"white\",\"linecolor\":\"white\",\"ticks\":\"\"},\"caxis\":{\"gridcolor\":\"white\",\"linecolor\":\"white\",\"ticks\":\"\"}},\"coloraxis\":{\"colorbar\":{\"outlinewidth\":0,\"ticks\":\"\"}},\"colorscale\":{\"sequential\":[[0.0,\"#0d0887\"],[0.1111111111111111,\"#46039f\"],[0.2222222222222222,\"#7201a8\"],[0.3333333333333333,\"#9c179e\"],[0.4444444444444444,\"#bd3786\"],[0.5555555555555556,\"#d8576b\"],[0.6666666666666666,\"#ed7953\"],[0.7777777777777778,\"#fb9f3a\"],[0.8888888888888888,\"#fdca26\"],[1.0,\"#f0f921\"]],\"sequentialminus\":[[0.0,\"#0d0887\"],[0.1111111111111111,\"#46039f\"],[0.2222222222222222,\"#7201a8\"],[0.3333333333333333,\"#9c179e\"],[0.4444444444444444,\"#bd3786\"],[0.5555555555555556,\"#d8576b\"],[0.6666666666666666,\"#ed7953\"],[0.7777777777777778,\"#fb9f3a\"],[0.8888888888888888,\"#fdca26\"],[1.0,\"#f0f921\"]],\"diverging\":[[0,\"#8e0152\"],[0.1,\"#c51b7d\"],[0.2,\"#de77ae\"],[0.3,\"#f1b6da\"],[0.4,\"#fde0ef\"],[0.5,\"#f7f7f7\"],[0.6,\"#e6f5d0\"],[0.7,\"#b8e186\"],[0.8,\"#7fbc41\"],[0.9,\"#4d9221\"],[1,\"#276419\"]]},\"xaxis\":{\"gridcolor\":\"white\",\"linecolor\":\"white\",\"ticks\":\"\",\"title\":{\"standoff\":15},\"zerolinecolor\":\"white\",\"automargin\":true,\"zerolinewidth\":2},\"yaxis\":{\"gridcolor\":\"white\",\"linecolor\":\"white\",\"ticks\":\"\",\"title\":{\"standoff\":15},\"zerolinecolor\":\"white\",\"automargin\":true,\"zerolinewidth\":2},\"scene\":{\"xaxis\":{\"backgroundcolor\":\"#E5ECF6\",\"gridcolor\":\"white\",\"linecolor\":\"white\",\"showbackground\":true,\"ticks\":\"\",\"zerolinecolor\":\"white\",\"gridwidth\":2},\"yaxis\":{\"backgroundcolor\":\"#E5ECF6\",\"gridcolor\":\"white\",\"linecolor\":\"white\",\"showbackground\":true,\"ticks\":\"\",\"zerolinecolor\":\"white\",\"gridwidth\":2},\"zaxis\":{\"backgroundcolor\":\"#E5ECF6\",\"gridcolor\":\"white\",\"linecolor\":\"white\",\"showbackground\":true,\"ticks\":\"\",\"zerolinecolor\":\"white\",\"gridwidth\":2}},\"shapedefaults\":{\"line\":{\"color\":\"#2a3f5f\"}},\"annotationdefaults\":{\"arrowcolor\":\"#2a3f5f\",\"arrowhead\":0,\"arrowwidth\":1},\"geo\":{\"bgcolor\":\"white\",\"landcolor\":\"#E5ECF6\",\"subunitcolor\":\"white\",\"showland\":true,\"showlakes\":true,\"lakecolor\":\"white\"},\"title\":{\"x\":0.05},\"mapbox\":{\"style\":\"light\"}}},\"xaxis\":{\"anchor\":\"y\",\"domain\":[0.0,1.0],\"title\":{\"text\":\"X\"}},\"yaxis\":{\"anchor\":\"x\",\"domain\":[0.0,1.0],\"title\":{\"text\":\"Y\"}},\"legend\":{\"tracegroupgap\":0},\"title\":{\"text\":\"Fitted Linear Regression Model with OLS Trendline\"},\"showlegend\":true},                        {\"responsive\": true}                    ).then(function(){\n",
       "                            \n",
       "var gd = document.getElementById('7325d18c-e47b-4814-b637-f75ddd2d400a');\n",
       "var x = new MutationObserver(function (mutations, observer) {{\n",
       "        var display = window.getComputedStyle(gd).display;\n",
       "        if (!display || display === 'none') {{\n",
       "            console.log([gd, 'removed!']);\n",
       "            Plotly.purge(gd);\n",
       "            observer.disconnect();\n",
       "        }}\n",
       "}});\n",
       "\n",
       "// Listen for the removal of the full notebook cells\n",
       "var notebookContainer = gd.closest('#notebook-container');\n",
       "if (notebookContainer) {{\n",
       "    x.observe(notebookContainer, {childList: true});\n",
       "}}\n",
       "\n",
       "// Listen for the clearing of the current output cell\n",
       "var outputEl = gd.closest('.output');\n",
       "if (outputEl) {{\n",
       "    x.observe(outputEl, {childList: true});\n",
       "}}\n",
       "\n",
       "                        })                };                });            </script>        </div>"
      ]
     },
     "metadata": {},
     "output_type": "display_data"
    }
   ],
   "source": [
    "import plotly.express as px\n",
    "import statsmodels.formula.api as smf\n",
    "\n",
    "# Step 1: Fit the linear regression model using statsmodels\n",
    "model = smf.ols(formula='y ~ x', data=df).fit()\n",
    "\n",
    "# Display the summary of the regression results\n",
    "print(model.summary())\n",
    "print(model.params)\n",
    "print(model.rsquared) \n",
    "\n",
    "# Step 3: Use Plotly Express to add the OLS trendline\n",
    "fig = px.scatter(df, x='x', y='y', title='Fitted Linear Regression Model with OLS Trendline',\n",
    "                 trendline='ols', labels={'x': 'X', 'y': 'Y'})\n",
    "\n",
    "# Update traces to label the OLS trendline in the legend\n",
    "fig.update_traces(selector=dict(mode='lines'), name='OLS Trendline')\n",
    "\n",
    "# Update layout for better visualization\n",
    "fig.update_layout(xaxis_title='X',\n",
    "                  yaxis_title='Y',\n",
    "                  showlegend=True)\n",
    "\n",
    "# Show the figure\n",
    "fig.show()\n"
   ]
  },
  {
   "cell_type": "markdown",
   "id": "1c218131-fff5-4746-b2dd-4cbc3c15b049",
   "metadata": {},
   "source": [
    "Process: \n",
    "1. Use ``smf.ols().fit()`` to fit a regression line to the values generated in question 1. \n",
    "3. ``model.summary()`` outputs the intercept and slope, with the standard error values for both.\n",
    "   "
   ]
  },
  {
   "cell_type": "markdown",
   "id": "3b5d1a66-00f9-4abc-b2fc-ca41399a68ae",
   "metadata": {},
   "source": [
    "#### 3: \n"
   ]
  },
  {
   "cell_type": "code",
   "execution_count": 25,
   "id": "ae01998c-b775-4ef4-9c55-7824c610bf79",
   "metadata": {},
   "outputs": [
    {
     "data": {
      "application/vnd.plotly.v1+json": {
       "config": {
        "plotlyServerURL": "https://plot.ly"
       },
       "data": [
        {
         "hovertemplate": "X=%{x}<br>Y=%{y}<extra></extra>",
         "legendgroup": "",
         "marker": {
          "color": "#636efa",
          "symbol": "circle"
         },
         "mode": "markers",
         "name": "",
         "orientation": "v",
         "showlegend": false,
         "type": "scatter",
         "x": [
          3.745401188473625,
          9.50714306409916,
          7.319939418114051,
          5.986584841970366,
          1.5601864044243652,
          1.5599452033620265,
          0.5808361216819946,
          8.661761457749352,
          6.011150117432088,
          7.080725777960454,
          0.20584494295802447,
          9.699098521619943,
          8.324426408004218,
          2.1233911067827616,
          1.8182496720710062,
          1.8340450985343382,
          3.0424224295953772,
          5.247564316322379,
          4.319450186421157,
          2.9122914019804194,
          6.118528947223795,
          1.3949386065204183,
          2.9214464853521815,
          3.663618432936917,
          4.56069984217036,
          7.851759613930136,
          1.9967378215835974,
          5.142344384136116,
          5.924145688620425,
          0.46450412719997725,
          6.075448519014383,
          1.7052412368729153,
          0.6505159298527952,
          9.488855372533333,
          9.656320330745594,
          8.08397348116461,
          3.0461376917337066,
          0.9767211400638387,
          6.842330265121569,
          4.4015249373960135,
          1.2203823484477883,
          4.951769101112702,
          0.34388521115218396,
          9.093204020787821,
          2.587799816000169,
          6.62522284353982,
          3.1171107608941098,
          5.200680211778108,
          5.4671027934327965,
          1.8485445552552704,
          9.695846277645586,
          7.7513282336111455,
          9.394989415641891,
          8.948273504276488,
          5.978999788110851,
          9.218742350231167,
          0.884925020519195,
          1.959828624191452,
          0.45227288910538066,
          3.2533033076326436,
          3.8867728968948203,
          2.713490317738959,
          8.287375091519294,
          3.567533266935893,
          2.8093450968738076,
          5.426960831582485,
          1.4092422497476265,
          8.021969807540398,
          0.7455064367977082,
          9.868869366005173,
          7.722447692966574,
          1.987156815341724,
          0.05522117123602399,
          8.154614284548341,
          7.068573438476172,
          7.2900716804098735,
          7.712703466859457,
          0.7404465173409036,
          3.5846572854427263,
          1.1586905952512971,
          8.631034258755935,
          6.232981268275579,
          3.308980248526492,
          0.6355835028602363,
          3.109823217156622,
          3.2518332202674705,
          7.29606178338064,
          6.3755747135521315,
          8.872127425763265,
          4.722149251619493,
          1.195942459383017,
          7.13244787222995,
          7.607850486168974,
          5.612771975694963,
          7.70967179954561,
          4.937955963643907,
          5.227328293819941,
          4.275410183585496,
          0.2541912674409519,
          1.0789142699330445
         ],
         "xaxis": "x",
         "y": [
          9.577849445185421,
          20.715278777732454,
          16.7316396127636,
          11.98560076933984,
          4.900700921011218,
          5.4770029782358,
          4.639566288105505,
          18.805252697225058,
          13.213806631970987,
          15.659694512336372,
          3.327092003618123,
          21.72694815289957,
          18.119092612241396,
          6.760049646678879,
          5.733576893490053,
          6.636735187601565,
          7.382791765313402,
          12.167466486046989,
          10.246792219710157,
          6.36106785582872,
          14.533178171512166,
          5.050932485220726,
          7.848006427346824,
          9.092649732498687,
          9.706028942290306,
          17.282873905094913,
          5.6507611266404245,
          11.482411499050613,
          13.68700566557484,
          3.3330591112144927,
          16.037082939239298,
          5.5850602865776695,
          3.558582250428355,
          20.9032648293005,
          19.393869446192145,
          18.141433086880003,
          8.15250559340844,
          6.4166843926129635,
          15.492299565462014,
          11.10459721712564,
          4.406052927190333,
          10.734860164605871,
          3.8305932368193885,
          20.938341074262418,
          7.966631579043385,
          14.341058232284901,
          9.63701583272432,
          10.999509360763936,
          13.521062680665864,
          7.887544736320519,
          20.401156230160485,
          16.936358737619518,
          20.889630196371424,
          19.393071354436778,
          12.40733614515557,
          20.506047675268363,
          2.707546327312285,
          6.393249679018086,
          1.985121543976958,
          10.056541020282827,
          8.990292501453403,
          7.1049191192722425,
          19.388267400408257,
          7.904202217437831,
          7.846150128351745,
          14.161064417447397,
          3.2110012649340254,
          18.2285734736131,
          3.75089566784384,
          22.519561603787658,
          16.207944675055067,
          4.653857017599172,
          2.6323839080889457,
          18.60621324232987,
          16.387639727298218,
          16.926591570316724,
          16.745382212140424,
          3.713146731842811,
          9.462387044184133,
          3.6030297724762264,
          21.127843028656628,
          14.939795457462946,
          7.426656999850335,
          3.9277206143543024,
          7.244964764085923,
          9.290751044277393,
          17.750719145768684,
          13.930467108752552,
          20.70763098077085,
          11.857079430175485,
          5.213945078760524,
          18.161688727113848,
          16.970312856335077,
          12.471807787032436,
          16.529829169465696,
          11.060101642322376,
          12.377554878225778,
          10.891972341987636,
          2.7850733342119227,
          4.985011788902113
         ],
         "yaxis": "y"
        },
        {
         "hovertemplate": "<b>OLS trendline</b><br>y = 1.95402 * x + 2.2151<br>R<sup>2</sup>=0.976457<br><br>X=%{x}<br>Y=%{y} <b>(trend)</b><extra></extra>",
         "legendgroup": "",
         "marker": {
          "color": "#636efa",
          "symbol": "circle"
         },
         "mode": "lines",
         "name": "OLS Trendline",
         "showlegend": false,
         "type": "scatter",
         "x": [
          0.05522117123602399,
          0.20584494295802447,
          0.2541912674409519,
          0.34388521115218396,
          0.45227288910538066,
          0.46450412719997725,
          0.5808361216819946,
          0.6355835028602363,
          0.6505159298527952,
          0.7404465173409036,
          0.7455064367977082,
          0.884925020519195,
          0.9767211400638387,
          1.0789142699330445,
          1.1586905952512971,
          1.195942459383017,
          1.2203823484477883,
          1.3949386065204183,
          1.4092422497476265,
          1.5599452033620265,
          1.5601864044243652,
          1.7052412368729153,
          1.8182496720710062,
          1.8340450985343382,
          1.8485445552552704,
          1.959828624191452,
          1.987156815341724,
          1.9967378215835974,
          2.1233911067827616,
          2.587799816000169,
          2.713490317738959,
          2.8093450968738076,
          2.9122914019804194,
          2.9214464853521815,
          3.0424224295953772,
          3.0461376917337066,
          3.109823217156622,
          3.1171107608941098,
          3.2518332202674705,
          3.2533033076326436,
          3.308980248526492,
          3.567533266935893,
          3.5846572854427263,
          3.663618432936917,
          3.745401188473625,
          3.8867728968948203,
          4.275410183585496,
          4.319450186421157,
          4.4015249373960135,
          4.56069984217036,
          4.722149251619493,
          4.937955963643907,
          4.951769101112702,
          5.142344384136116,
          5.200680211778108,
          5.227328293819941,
          5.247564316322379,
          5.426960831582485,
          5.4671027934327965,
          5.612771975694963,
          5.924145688620425,
          5.978999788110851,
          5.986584841970366,
          6.011150117432088,
          6.075448519014383,
          6.118528947223795,
          6.232981268275579,
          6.3755747135521315,
          6.62522284353982,
          6.842330265121569,
          7.068573438476172,
          7.080725777960454,
          7.13244787222995,
          7.2900716804098735,
          7.29606178338064,
          7.319939418114051,
          7.607850486168974,
          7.70967179954561,
          7.712703466859457,
          7.722447692966574,
          7.7513282336111455,
          7.851759613930136,
          8.021969807540398,
          8.08397348116461,
          8.154614284548341,
          8.287375091519294,
          8.324426408004218,
          8.631034258755935,
          8.661761457749352,
          8.872127425763265,
          8.948273504276488,
          9.093204020787821,
          9.218742350231167,
          9.394989415641891,
          9.488855372533333,
          9.50714306409916,
          9.656320330745594,
          9.695846277645586,
          9.699098521619943,
          9.868869366005173
         ],
         "xaxis": "x",
         "y": [
          2.3229995784083295,
          2.6173218440917236,
          2.711791658494873,
          2.8870556585219864,
          3.0988476391810886,
          3.1227477557892356,
          3.3500631111012047,
          3.4570407354456023,
          3.4862190364160055,
          3.661945443749574,
          3.67183264111342,
          3.944259715340538,
          4.123631414617784,
          4.323319107845219,
          4.479203856627765,
          4.551994843912386,
          4.599750941375344,
          4.940837828111747,
          4.968787471345545,
          5.2632644602423175,
          5.263735772587913,
          5.547176204642548,
          5.767997249744415,
          5.798861871251195,
          5.827194138492247,
          6.044645732814394,
          6.098045638051278,
          6.116767141519134,
          6.364250532951287,
          7.271715682292009,
          7.517317773009273,
          7.7046201851651706,
          7.9057795998864675,
          7.923668840407351,
          8.160058578864847,
          8.167318285335211,
          8.29176124622657,
          8.306001271951347,
          8.569252012706864,
          8.572124596756005,
          8.680918601864592,
          9.186137063117744,
          9.219597783606392,
          9.373889656434699,
          9.533695015364502,
          9.809938539546422,
          10.569344610979561,
          10.65539977522826,
          10.815775699865867,
          11.126807073450049,
          11.442282880748364,
          11.863974089954963,
          11.89096527381348,
          12.263353698571754,
          12.377343228682552,
          12.429414185298516,
          12.468955832166383,
          12.819500691211019,
          12.897938994977345,
          13.182579880499572,
          13.791011176667196,
          13.898197331013684,
          13.913018698263624,
          13.961019803589647,
          14.086660338394804,
          14.170840472063258,
          14.394482902866656,
          14.673113728569621,
          15.160931835908032,
          15.585164661086228,
          16.027248952402655,
          16.05099489933704,
          16.152061044456445,
          16.460061540120464,
          16.47176633716463,
          16.518423776913707,
          17.08100853293515,
          17.279969688304313,
          17.285893634985563,
          17.304934073771484,
          17.36136730512331,
          17.557612499777925,
          17.8902070779979,
          18.01136366233476,
          18.14939739408839,
          18.40881502156465,
          18.481214134199547,
          19.080332827602845,
          19.140374471245515,
          19.55143434327428,
          19.700225507475643,
          19.98342302336981,
          20.228727765970923,
          20.573118528588886,
          20.756534736980072,
          20.79226930101494,
          21.083765062977868,
          21.160999659561718,
          21.16735461803969,
          21.499090697910702
         ],
         "yaxis": "y"
        },
        {
         "line": {
          "color": "red"
         },
         "mode": "lines",
         "name": "True Line (y = 2 + 2x)",
         "type": "scatter",
         "x": [
          0,
          0.10101010101010101,
          0.20202020202020202,
          0.30303030303030304,
          0.40404040404040403,
          0.5050505050505051,
          0.6060606060606061,
          0.7070707070707071,
          0.8080808080808081,
          0.9090909090909091,
          1.0101010101010102,
          1.1111111111111112,
          1.2121212121212122,
          1.3131313131313131,
          1.4141414141414141,
          1.5151515151515151,
          1.6161616161616161,
          1.7171717171717171,
          1.8181818181818181,
          1.9191919191919191,
          2.0202020202020203,
          2.121212121212121,
          2.2222222222222223,
          2.323232323232323,
          2.4242424242424243,
          2.525252525252525,
          2.6262626262626263,
          2.727272727272727,
          2.8282828282828283,
          2.929292929292929,
          3.0303030303030303,
          3.131313131313131,
          3.2323232323232323,
          3.3333333333333335,
          3.4343434343434343,
          3.5353535353535355,
          3.6363636363636362,
          3.7373737373737375,
          3.8383838383838382,
          3.9393939393939394,
          4.040404040404041,
          4.141414141414141,
          4.242424242424242,
          4.343434343434343,
          4.444444444444445,
          4.545454545454545,
          4.646464646464646,
          4.747474747474747,
          4.848484848484849,
          4.94949494949495,
          5.05050505050505,
          5.151515151515151,
          5.252525252525253,
          5.353535353535354,
          5.454545454545454,
          5.555555555555555,
          5.656565656565657,
          5.757575757575758,
          5.858585858585858,
          5.959595959595959,
          6.0606060606060606,
          6.161616161616162,
          6.262626262626262,
          6.363636363636363,
          6.4646464646464645,
          6.565656565656566,
          6.666666666666667,
          6.767676767676767,
          6.8686868686868685,
          6.96969696969697,
          7.070707070707071,
          7.171717171717171,
          7.2727272727272725,
          7.373737373737374,
          7.474747474747475,
          7.575757575757575,
          7.6767676767676765,
          7.777777777777778,
          7.878787878787879,
          7.979797979797979,
          8.080808080808081,
          8.181818181818182,
          8.282828282828282,
          8.383838383838384,
          8.484848484848484,
          8.585858585858587,
          8.686868686868687,
          8.787878787878787,
          8.88888888888889,
          8.98989898989899,
          9.09090909090909,
          9.191919191919192,
          9.292929292929292,
          9.393939393939394,
          9.494949494949495,
          9.595959595959595,
          9.696969696969697,
          9.797979797979798,
          9.8989898989899,
          10
         ],
         "y": [
          2,
          2.202020202020202,
          2.404040404040404,
          2.606060606060606,
          2.808080808080808,
          3.0101010101010104,
          3.212121212121212,
          3.4141414141414144,
          3.616161616161616,
          3.8181818181818183,
          4.020202020202021,
          4.222222222222222,
          4.424242424242424,
          4.626262626262626,
          4.828282828282829,
          5.03030303030303,
          5.232323232323232,
          5.434343434343434,
          5.636363636363637,
          5.838383838383838,
          6.040404040404041,
          6.242424242424242,
          6.444444444444445,
          6.646464646464646,
          6.848484848484849,
          7.05050505050505,
          7.252525252525253,
          7.454545454545454,
          7.656565656565657,
          7.858585858585858,
          8.06060606060606,
          8.262626262626263,
          8.464646464646464,
          8.666666666666668,
          8.868686868686869,
          9.070707070707071,
          9.272727272727273,
          9.474747474747474,
          9.676767676767676,
          9.878787878787879,
          10.080808080808081,
          10.282828282828282,
          10.484848484848484,
          10.686868686868687,
          10.88888888888889,
          11.09090909090909,
          11.292929292929292,
          11.494949494949495,
          11.696969696969697,
          11.8989898989899,
          12.1010101010101,
          12.303030303030303,
          12.505050505050505,
          12.707070707070708,
          12.909090909090908,
          13.11111111111111,
          13.313131313131313,
          13.515151515151516,
          13.717171717171716,
          13.919191919191919,
          14.121212121212121,
          14.323232323232324,
          14.525252525252524,
          14.727272727272727,
          14.929292929292929,
          15.131313131313131,
          15.333333333333334,
          15.535353535353535,
          15.737373737373737,
          15.93939393939394,
          16.141414141414142,
          16.343434343434343,
          16.545454545454547,
          16.747474747474747,
          16.949494949494948,
          17.15151515151515,
          17.353535353535353,
          17.555555555555557,
          17.757575757575758,
          17.95959595959596,
          18.161616161616163,
          18.363636363636363,
          18.565656565656564,
          18.767676767676768,
          18.96969696969697,
          19.171717171717173,
          19.373737373737374,
          19.575757575757574,
          19.77777777777778,
          19.97979797979798,
          20.18181818181818,
          20.383838383838384,
          20.585858585858585,
          20.78787878787879,
          20.98989898989899,
          21.19191919191919,
          21.393939393939394,
          21.595959595959595,
          21.7979797979798,
          22
         ]
        }
       ],
       "layout": {
        "autosize": true,
        "legend": {
         "tracegroupgap": 0
        },
        "showlegend": true,
        "template": {
         "data": {
          "bar": [
           {
            "error_x": {
             "color": "#2a3f5f"
            },
            "error_y": {
             "color": "#2a3f5f"
            },
            "marker": {
             "line": {
              "color": "#E5ECF6",
              "width": 0.5
             },
             "pattern": {
              "fillmode": "overlay",
              "size": 10,
              "solidity": 0.2
             }
            },
            "type": "bar"
           }
          ],
          "barpolar": [
           {
            "marker": {
             "line": {
              "color": "#E5ECF6",
              "width": 0.5
             },
             "pattern": {
              "fillmode": "overlay",
              "size": 10,
              "solidity": 0.2
             }
            },
            "type": "barpolar"
           }
          ],
          "carpet": [
           {
            "aaxis": {
             "endlinecolor": "#2a3f5f",
             "gridcolor": "white",
             "linecolor": "white",
             "minorgridcolor": "white",
             "startlinecolor": "#2a3f5f"
            },
            "baxis": {
             "endlinecolor": "#2a3f5f",
             "gridcolor": "white",
             "linecolor": "white",
             "minorgridcolor": "white",
             "startlinecolor": "#2a3f5f"
            },
            "type": "carpet"
           }
          ],
          "choropleth": [
           {
            "colorbar": {
             "outlinewidth": 0,
             "ticks": ""
            },
            "type": "choropleth"
           }
          ],
          "contour": [
           {
            "colorbar": {
             "outlinewidth": 0,
             "ticks": ""
            },
            "colorscale": [
             [
              0,
              "#0d0887"
             ],
             [
              0.1111111111111111,
              "#46039f"
             ],
             [
              0.2222222222222222,
              "#7201a8"
             ],
             [
              0.3333333333333333,
              "#9c179e"
             ],
             [
              0.4444444444444444,
              "#bd3786"
             ],
             [
              0.5555555555555556,
              "#d8576b"
             ],
             [
              0.6666666666666666,
              "#ed7953"
             ],
             [
              0.7777777777777778,
              "#fb9f3a"
             ],
             [
              0.8888888888888888,
              "#fdca26"
             ],
             [
              1,
              "#f0f921"
             ]
            ],
            "type": "contour"
           }
          ],
          "contourcarpet": [
           {
            "colorbar": {
             "outlinewidth": 0,
             "ticks": ""
            },
            "type": "contourcarpet"
           }
          ],
          "heatmap": [
           {
            "colorbar": {
             "outlinewidth": 0,
             "ticks": ""
            },
            "colorscale": [
             [
              0,
              "#0d0887"
             ],
             [
              0.1111111111111111,
              "#46039f"
             ],
             [
              0.2222222222222222,
              "#7201a8"
             ],
             [
              0.3333333333333333,
              "#9c179e"
             ],
             [
              0.4444444444444444,
              "#bd3786"
             ],
             [
              0.5555555555555556,
              "#d8576b"
             ],
             [
              0.6666666666666666,
              "#ed7953"
             ],
             [
              0.7777777777777778,
              "#fb9f3a"
             ],
             [
              0.8888888888888888,
              "#fdca26"
             ],
             [
              1,
              "#f0f921"
             ]
            ],
            "type": "heatmap"
           }
          ],
          "heatmapgl": [
           {
            "colorbar": {
             "outlinewidth": 0,
             "ticks": ""
            },
            "colorscale": [
             [
              0,
              "#0d0887"
             ],
             [
              0.1111111111111111,
              "#46039f"
             ],
             [
              0.2222222222222222,
              "#7201a8"
             ],
             [
              0.3333333333333333,
              "#9c179e"
             ],
             [
              0.4444444444444444,
              "#bd3786"
             ],
             [
              0.5555555555555556,
              "#d8576b"
             ],
             [
              0.6666666666666666,
              "#ed7953"
             ],
             [
              0.7777777777777778,
              "#fb9f3a"
             ],
             [
              0.8888888888888888,
              "#fdca26"
             ],
             [
              1,
              "#f0f921"
             ]
            ],
            "type": "heatmapgl"
           }
          ],
          "histogram": [
           {
            "marker": {
             "pattern": {
              "fillmode": "overlay",
              "size": 10,
              "solidity": 0.2
             }
            },
            "type": "histogram"
           }
          ],
          "histogram2d": [
           {
            "colorbar": {
             "outlinewidth": 0,
             "ticks": ""
            },
            "colorscale": [
             [
              0,
              "#0d0887"
             ],
             [
              0.1111111111111111,
              "#46039f"
             ],
             [
              0.2222222222222222,
              "#7201a8"
             ],
             [
              0.3333333333333333,
              "#9c179e"
             ],
             [
              0.4444444444444444,
              "#bd3786"
             ],
             [
              0.5555555555555556,
              "#d8576b"
             ],
             [
              0.6666666666666666,
              "#ed7953"
             ],
             [
              0.7777777777777778,
              "#fb9f3a"
             ],
             [
              0.8888888888888888,
              "#fdca26"
             ],
             [
              1,
              "#f0f921"
             ]
            ],
            "type": "histogram2d"
           }
          ],
          "histogram2dcontour": [
           {
            "colorbar": {
             "outlinewidth": 0,
             "ticks": ""
            },
            "colorscale": [
             [
              0,
              "#0d0887"
             ],
             [
              0.1111111111111111,
              "#46039f"
             ],
             [
              0.2222222222222222,
              "#7201a8"
             ],
             [
              0.3333333333333333,
              "#9c179e"
             ],
             [
              0.4444444444444444,
              "#bd3786"
             ],
             [
              0.5555555555555556,
              "#d8576b"
             ],
             [
              0.6666666666666666,
              "#ed7953"
             ],
             [
              0.7777777777777778,
              "#fb9f3a"
             ],
             [
              0.8888888888888888,
              "#fdca26"
             ],
             [
              1,
              "#f0f921"
             ]
            ],
            "type": "histogram2dcontour"
           }
          ],
          "mesh3d": [
           {
            "colorbar": {
             "outlinewidth": 0,
             "ticks": ""
            },
            "type": "mesh3d"
           }
          ],
          "parcoords": [
           {
            "line": {
             "colorbar": {
              "outlinewidth": 0,
              "ticks": ""
             }
            },
            "type": "parcoords"
           }
          ],
          "pie": [
           {
            "automargin": true,
            "type": "pie"
           }
          ],
          "scatter": [
           {
            "fillpattern": {
             "fillmode": "overlay",
             "size": 10,
             "solidity": 0.2
            },
            "type": "scatter"
           }
          ],
          "scatter3d": [
           {
            "line": {
             "colorbar": {
              "outlinewidth": 0,
              "ticks": ""
             }
            },
            "marker": {
             "colorbar": {
              "outlinewidth": 0,
              "ticks": ""
             }
            },
            "type": "scatter3d"
           }
          ],
          "scattercarpet": [
           {
            "marker": {
             "colorbar": {
              "outlinewidth": 0,
              "ticks": ""
             }
            },
            "type": "scattercarpet"
           }
          ],
          "scattergeo": [
           {
            "marker": {
             "colorbar": {
              "outlinewidth": 0,
              "ticks": ""
             }
            },
            "type": "scattergeo"
           }
          ],
          "scattergl": [
           {
            "marker": {
             "colorbar": {
              "outlinewidth": 0,
              "ticks": ""
             }
            },
            "type": "scattergl"
           }
          ],
          "scattermapbox": [
           {
            "marker": {
             "colorbar": {
              "outlinewidth": 0,
              "ticks": ""
             }
            },
            "type": "scattermapbox"
           }
          ],
          "scatterpolar": [
           {
            "marker": {
             "colorbar": {
              "outlinewidth": 0,
              "ticks": ""
             }
            },
            "type": "scatterpolar"
           }
          ],
          "scatterpolargl": [
           {
            "marker": {
             "colorbar": {
              "outlinewidth": 0,
              "ticks": ""
             }
            },
            "type": "scatterpolargl"
           }
          ],
          "scatterternary": [
           {
            "marker": {
             "colorbar": {
              "outlinewidth": 0,
              "ticks": ""
             }
            },
            "type": "scatterternary"
           }
          ],
          "surface": [
           {
            "colorbar": {
             "outlinewidth": 0,
             "ticks": ""
            },
            "colorscale": [
             [
              0,
              "#0d0887"
             ],
             [
              0.1111111111111111,
              "#46039f"
             ],
             [
              0.2222222222222222,
              "#7201a8"
             ],
             [
              0.3333333333333333,
              "#9c179e"
             ],
             [
              0.4444444444444444,
              "#bd3786"
             ],
             [
              0.5555555555555556,
              "#d8576b"
             ],
             [
              0.6666666666666666,
              "#ed7953"
             ],
             [
              0.7777777777777778,
              "#fb9f3a"
             ],
             [
              0.8888888888888888,
              "#fdca26"
             ],
             [
              1,
              "#f0f921"
             ]
            ],
            "type": "surface"
           }
          ],
          "table": [
           {
            "cells": {
             "fill": {
              "color": "#EBF0F8"
             },
             "line": {
              "color": "white"
             }
            },
            "header": {
             "fill": {
              "color": "#C8D4E3"
             },
             "line": {
              "color": "white"
             }
            },
            "type": "table"
           }
          ]
         },
         "layout": {
          "annotationdefaults": {
           "arrowcolor": "#2a3f5f",
           "arrowhead": 0,
           "arrowwidth": 1
          },
          "autotypenumbers": "strict",
          "coloraxis": {
           "colorbar": {
            "outlinewidth": 0,
            "ticks": ""
           }
          },
          "colorscale": {
           "diverging": [
            [
             0,
             "#8e0152"
            ],
            [
             0.1,
             "#c51b7d"
            ],
            [
             0.2,
             "#de77ae"
            ],
            [
             0.3,
             "#f1b6da"
            ],
            [
             0.4,
             "#fde0ef"
            ],
            [
             0.5,
             "#f7f7f7"
            ],
            [
             0.6,
             "#e6f5d0"
            ],
            [
             0.7,
             "#b8e186"
            ],
            [
             0.8,
             "#7fbc41"
            ],
            [
             0.9,
             "#4d9221"
            ],
            [
             1,
             "#276419"
            ]
           ],
           "sequential": [
            [
             0,
             "#0d0887"
            ],
            [
             0.1111111111111111,
             "#46039f"
            ],
            [
             0.2222222222222222,
             "#7201a8"
            ],
            [
             0.3333333333333333,
             "#9c179e"
            ],
            [
             0.4444444444444444,
             "#bd3786"
            ],
            [
             0.5555555555555556,
             "#d8576b"
            ],
            [
             0.6666666666666666,
             "#ed7953"
            ],
            [
             0.7777777777777778,
             "#fb9f3a"
            ],
            [
             0.8888888888888888,
             "#fdca26"
            ],
            [
             1,
             "#f0f921"
            ]
           ],
           "sequentialminus": [
            [
             0,
             "#0d0887"
            ],
            [
             0.1111111111111111,
             "#46039f"
            ],
            [
             0.2222222222222222,
             "#7201a8"
            ],
            [
             0.3333333333333333,
             "#9c179e"
            ],
            [
             0.4444444444444444,
             "#bd3786"
            ],
            [
             0.5555555555555556,
             "#d8576b"
            ],
            [
             0.6666666666666666,
             "#ed7953"
            ],
            [
             0.7777777777777778,
             "#fb9f3a"
            ],
            [
             0.8888888888888888,
             "#fdca26"
            ],
            [
             1,
             "#f0f921"
            ]
           ]
          },
          "colorway": [
           "#636efa",
           "#EF553B",
           "#00cc96",
           "#ab63fa",
           "#FFA15A",
           "#19d3f3",
           "#FF6692",
           "#B6E880",
           "#FF97FF",
           "#FECB52"
          ],
          "font": {
           "color": "#2a3f5f"
          },
          "geo": {
           "bgcolor": "white",
           "lakecolor": "white",
           "landcolor": "#E5ECF6",
           "showlakes": true,
           "showland": true,
           "subunitcolor": "white"
          },
          "hoverlabel": {
           "align": "left"
          },
          "hovermode": "closest",
          "mapbox": {
           "style": "light"
          },
          "paper_bgcolor": "white",
          "plot_bgcolor": "#E5ECF6",
          "polar": {
           "angularaxis": {
            "gridcolor": "white",
            "linecolor": "white",
            "ticks": ""
           },
           "bgcolor": "#E5ECF6",
           "radialaxis": {
            "gridcolor": "white",
            "linecolor": "white",
            "ticks": ""
           }
          },
          "scene": {
           "xaxis": {
            "backgroundcolor": "#E5ECF6",
            "gridcolor": "white",
            "gridwidth": 2,
            "linecolor": "white",
            "showbackground": true,
            "ticks": "",
            "zerolinecolor": "white"
           },
           "yaxis": {
            "backgroundcolor": "#E5ECF6",
            "gridcolor": "white",
            "gridwidth": 2,
            "linecolor": "white",
            "showbackground": true,
            "ticks": "",
            "zerolinecolor": "white"
           },
           "zaxis": {
            "backgroundcolor": "#E5ECF6",
            "gridcolor": "white",
            "gridwidth": 2,
            "linecolor": "white",
            "showbackground": true,
            "ticks": "",
            "zerolinecolor": "white"
           }
          },
          "shapedefaults": {
           "line": {
            "color": "#2a3f5f"
           }
          },
          "ternary": {
           "aaxis": {
            "gridcolor": "white",
            "linecolor": "white",
            "ticks": ""
           },
           "baxis": {
            "gridcolor": "white",
            "linecolor": "white",
            "ticks": ""
           },
           "bgcolor": "#E5ECF6",
           "caxis": {
            "gridcolor": "white",
            "linecolor": "white",
            "ticks": ""
           }
          },
          "title": {
           "x": 0.05
          },
          "xaxis": {
           "automargin": true,
           "gridcolor": "white",
           "linecolor": "white",
           "ticks": "",
           "title": {
            "standoff": 15
           },
           "zerolinecolor": "white",
           "zerolinewidth": 2
          },
          "yaxis": {
           "automargin": true,
           "gridcolor": "white",
           "linecolor": "white",
           "ticks": "",
           "title": {
            "standoff": 15
           },
           "zerolinecolor": "white",
           "zerolinewidth": 2
          }
         }
        },
        "title": {
         "text": "Fitted Linear Regression Model with OLS Trendline"
        },
        "xaxis": {
         "anchor": "y",
         "autorange": true,
         "domain": [
          0,
          1
         ],
         "range": [
          -0.6087103123241421,
          10.532800849565339
         ],
         "title": {
          "text": "X"
         },
         "type": "linear"
        },
        "yaxis": {
         "anchor": "x",
         "autorange": true,
         "domain": [
          0,
          1
         ],
         "range": [
          0.2905318303032596,
          24.214151317461358
         ],
         "title": {
          "text": "Y"
         },
         "type": "linear"
        }
       }
      },
      "image/png": "[encoded data removed]",
      "text/html": [
       "<div>                            <div id=\"4b4add6c-582c-4781-ac7b-55ac2432d729\" class=\"plotly-graph-div\" style=\"height:525px; width:100%;\"></div>            <script type=\"text/javascript\">                require([\"plotly\"], function(Plotly) {                    window.PLOTLYENV=window.PLOTLYENV || {};                                    if (document.getElementById(\"4b4add6c-582c-4781-ac7b-55ac2432d729\")) {                    Plotly.newPlot(                        \"4b4add6c-582c-4781-ac7b-55ac2432d729\",                        [{\"hovertemplate\":\"X=%{x}\\u003cbr\\u003eY=%{y}\\u003cextra\\u003e\\u003c\\u002fextra\\u003e\",\"legendgroup\":\"\",\"marker\":{\"color\":\"#636efa\",\"symbol\":\"circle\"},\"mode\":\"markers\",\"name\":\"\",\"orientation\":\"v\",\"showlegend\":false,\"x\":[3.745401188473625,9.50714306409916,7.319939418114051,5.986584841970366,1.5601864044243652,1.5599452033620265,0.5808361216819946,8.661761457749352,6.011150117432088,7.080725777960454,0.20584494295802447,9.699098521619943,8.324426408004218,2.1233911067827616,1.8182496720710062,1.8340450985343382,3.0424224295953772,5.247564316322379,4.319450186421157,2.9122914019804194,6.118528947223795,1.3949386065204183,2.9214464853521815,3.663618432936917,4.56069984217036,7.851759613930136,1.9967378215835974,5.142344384136116,5.924145688620425,0.46450412719997725,6.075448519014383,1.7052412368729153,0.6505159298527952,9.488855372533333,9.656320330745594,8.08397348116461,3.0461376917337066,0.9767211400638387,6.842330265121569,4.4015249373960135,1.2203823484477883,4.951769101112702,0.34388521115218396,9.093204020787821,2.587799816000169,6.62522284353982,3.1171107608941098,5.200680211778108,5.4671027934327965,1.8485445552552704,9.695846277645586,7.7513282336111455,9.394989415641891,8.948273504276488,5.978999788110851,9.218742350231167,0.884925020519195,1.959828624191452,0.45227288910538066,3.2533033076326436,3.8867728968948203,2.713490317738959,8.287375091519294,3.567533266935893,2.8093450968738076,5.426960831582485,1.4092422497476265,8.021969807540398,0.7455064367977082,9.868869366005173,7.722447692966574,1.987156815341724,0.05522117123602399,8.154614284548341,7.068573438476172,7.2900716804098735,7.712703466859457,0.7404465173409036,3.5846572854427263,1.1586905952512971,8.631034258755935,6.232981268275579,3.308980248526492,0.6355835028602363,3.109823217156622,3.2518332202674705,7.29606178338064,6.3755747135521315,8.872127425763265,4.722149251619493,1.195942459383017,7.13244787222995,7.607850486168974,5.612771975694963,7.70967179954561,4.937955963643907,5.227328293819941,4.275410183585496,0.2541912674409519,1.0789142699330445],\"xaxis\":\"x\",\"y\":[9.577849445185421,20.715278777732454,16.7316396127636,11.98560076933984,4.900700921011218,5.4770029782358,4.639566288105505,18.805252697225058,13.213806631970987,15.659694512336372,3.327092003618123,21.72694815289957,18.119092612241396,6.760049646678879,5.733576893490053,6.636735187601565,7.382791765313402,12.167466486046989,10.246792219710157,6.36106785582872,14.533178171512166,5.050932485220726,7.848006427346824,9.092649732498687,9.706028942290306,17.282873905094913,5.6507611266404245,11.482411499050613,13.68700566557484,3.3330591112144927,16.037082939239298,5.5850602865776695,3.558582250428355,20.9032648293005,19.393869446192145,18.141433086880003,8.15250559340844,6.4166843926129635,15.492299565462014,11.10459721712564,4.406052927190333,10.734860164605871,3.8305932368193885,20.938341074262418,7.966631579043385,14.341058232284901,9.63701583272432,10.999509360763936,13.521062680665864,7.887544736320519,20.401156230160485,16.936358737619518,20.889630196371424,19.393071354436778,12.40733614515557,20.506047675268363,2.707546327312285,6.393249679018086,1.985121543976958,10.056541020282827,8.990292501453403,7.1049191192722425,19.388267400408257,7.904202217437831,7.846150128351745,14.161064417447397,3.2110012649340254,18.2285734736131,3.75089566784384,22.519561603787658,16.207944675055067,4.653857017599172,2.6323839080889457,18.60621324232987,16.387639727298218,16.926591570316724,16.745382212140424,3.713146731842811,9.462387044184133,3.6030297724762264,21.127843028656628,14.939795457462946,7.426656999850335,3.9277206143543024,7.244964764085923,9.290751044277393,17.750719145768684,13.930467108752552,20.70763098077085,11.857079430175485,5.213945078760524,18.161688727113848,16.970312856335077,12.471807787032436,16.529829169465696,11.060101642322376,12.377554878225778,10.891972341987636,2.7850733342119227,4.985011788902113],\"yaxis\":\"y\",\"type\":\"scatter\"},{\"hovertemplate\":\"\\u003cb\\u003eOLS trendline\\u003c\\u002fb\\u003e\\u003cbr\\u003ey = 1.95402 * x + 2.2151\\u003cbr\\u003eR\\u003csup\\u003e2\\u003c\\u002fsup\\u003e=0.976457\\u003cbr\\u003e\\u003cbr\\u003eX=%{x}\\u003cbr\\u003eY=%{y} \\u003cb\\u003e(trend)\\u003c\\u002fb\\u003e\\u003cextra\\u003e\\u003c\\u002fextra\\u003e\",\"legendgroup\":\"\",\"marker\":{\"color\":\"#636efa\",\"symbol\":\"circle\"},\"mode\":\"lines\",\"name\":\"OLS Trendline\",\"showlegend\":false,\"x\":[0.05522117123602399,0.20584494295802447,0.2541912674409519,0.34388521115218396,0.45227288910538066,0.46450412719997725,0.5808361216819946,0.6355835028602363,0.6505159298527952,0.7404465173409036,0.7455064367977082,0.884925020519195,0.9767211400638387,1.0789142699330445,1.1586905952512971,1.195942459383017,1.2203823484477883,1.3949386065204183,1.4092422497476265,1.5599452033620265,1.5601864044243652,1.7052412368729153,1.8182496720710062,1.8340450985343382,1.8485445552552704,1.959828624191452,1.987156815341724,1.9967378215835974,2.1233911067827616,2.587799816000169,2.713490317738959,2.8093450968738076,2.9122914019804194,2.9214464853521815,3.0424224295953772,3.0461376917337066,3.109823217156622,3.1171107608941098,3.2518332202674705,3.2533033076326436,3.308980248526492,3.567533266935893,3.5846572854427263,3.663618432936917,3.745401188473625,3.8867728968948203,4.275410183585496,4.319450186421157,4.4015249373960135,4.56069984217036,4.722149251619493,4.937955963643907,4.951769101112702,5.142344384136116,5.200680211778108,5.227328293819941,5.247564316322379,5.426960831582485,5.4671027934327965,5.612771975694963,5.924145688620425,5.978999788110851,5.986584841970366,6.011150117432088,6.075448519014383,6.118528947223795,6.232981268275579,6.3755747135521315,6.62522284353982,6.842330265121569,7.068573438476172,7.080725777960454,7.13244787222995,7.2900716804098735,7.29606178338064,7.319939418114051,7.607850486168974,7.70967179954561,7.712703466859457,7.722447692966574,7.7513282336111455,7.851759613930136,8.021969807540398,8.08397348116461,8.154614284548341,8.287375091519294,8.324426408004218,8.631034258755935,8.661761457749352,8.872127425763265,8.948273504276488,9.093204020787821,9.218742350231167,9.394989415641891,9.488855372533333,9.50714306409916,9.656320330745594,9.695846277645586,9.699098521619943,9.868869366005173],\"xaxis\":\"x\",\"y\":[2.3229995784083295,2.6173218440917236,2.711791658494873,2.8870556585219864,3.0988476391810886,3.1227477557892356,3.3500631111012047,3.4570407354456023,3.4862190364160055,3.661945443749574,3.67183264111342,3.944259715340538,4.123631414617784,4.323319107845219,4.479203856627765,4.551994843912386,4.599750941375344,4.940837828111747,4.968787471345545,5.2632644602423175,5.263735772587913,5.547176204642548,5.767997249744415,5.798861871251195,5.827194138492247,6.044645732814394,6.098045638051278,6.116767141519134,6.364250532951287,7.271715682292009,7.517317773009273,7.7046201851651706,7.9057795998864675,7.923668840407351,8.160058578864847,8.167318285335211,8.29176124622657,8.306001271951347,8.569252012706864,8.572124596756005,8.680918601864592,9.186137063117744,9.219597783606392,9.373889656434699,9.533695015364502,9.809938539546422,10.569344610979561,10.65539977522826,10.815775699865867,11.126807073450049,11.442282880748364,11.863974089954963,11.89096527381348,12.263353698571754,12.377343228682552,12.429414185298516,12.468955832166383,12.819500691211019,12.897938994977345,13.182579880499572,13.791011176667196,13.898197331013684,13.913018698263624,13.961019803589647,14.086660338394804,14.170840472063258,14.394482902866656,14.673113728569621,15.160931835908032,15.585164661086228,16.027248952402655,16.05099489933704,16.152061044456445,16.460061540120464,16.47176633716463,16.518423776913707,17.08100853293515,17.279969688304313,17.285893634985563,17.304934073771484,17.36136730512331,17.557612499777925,17.8902070779979,18.01136366233476,18.14939739408839,18.40881502156465,18.481214134199547,19.080332827602845,19.140374471245515,19.55143434327428,19.700225507475643,19.98342302336981,20.228727765970923,20.573118528588886,20.756534736980072,20.79226930101494,21.083765062977868,21.160999659561718,21.16735461803969,21.499090697910702],\"yaxis\":\"y\",\"type\":\"scatter\"},{\"line\":{\"color\":\"red\"},\"mode\":\"lines\",\"name\":\"True Line (y = 2 + 2x)\",\"x\":[0.0,0.10101010101010101,0.20202020202020202,0.30303030303030304,0.40404040404040403,0.5050505050505051,0.6060606060606061,0.7070707070707071,0.8080808080808081,0.9090909090909091,1.0101010101010102,1.1111111111111112,1.2121212121212122,1.3131313131313131,1.4141414141414141,1.5151515151515151,1.6161616161616161,1.7171717171717171,1.8181818181818181,1.9191919191919191,2.0202020202020203,2.121212121212121,2.2222222222222223,2.323232323232323,2.4242424242424243,2.525252525252525,2.6262626262626263,2.727272727272727,2.8282828282828283,2.929292929292929,3.0303030303030303,3.131313131313131,3.2323232323232323,3.3333333333333335,3.4343434343434343,3.5353535353535355,3.6363636363636362,3.7373737373737375,3.8383838383838382,3.9393939393939394,4.040404040404041,4.141414141414141,4.242424242424242,4.343434343434343,4.444444444444445,4.545454545454545,4.646464646464646,4.747474747474747,4.848484848484849,4.94949494949495,5.05050505050505,5.151515151515151,5.252525252525253,5.353535353535354,5.454545454545454,5.555555555555555,5.656565656565657,5.757575757575758,5.858585858585858,5.959595959595959,6.0606060606060606,6.161616161616162,6.262626262626262,6.363636363636363,6.4646464646464645,6.565656565656566,6.666666666666667,6.767676767676767,6.8686868686868685,6.96969696969697,7.070707070707071,7.171717171717171,7.2727272727272725,7.373737373737374,7.474747474747475,7.575757575757575,7.6767676767676765,7.777777777777778,7.878787878787879,7.979797979797979,8.080808080808081,8.181818181818182,8.282828282828282,8.383838383838384,8.484848484848484,8.585858585858587,8.686868686868687,8.787878787878787,8.88888888888889,8.98989898989899,9.09090909090909,9.191919191919192,9.292929292929292,9.393939393939394,9.494949494949495,9.595959595959595,9.696969696969697,9.797979797979798,9.8989898989899,10.0],\"y\":[2.0,2.202020202020202,2.404040404040404,2.606060606060606,2.808080808080808,3.0101010101010104,3.212121212121212,3.4141414141414144,3.616161616161616,3.8181818181818183,4.020202020202021,4.222222222222222,4.424242424242424,4.626262626262626,4.828282828282829,5.03030303030303,5.232323232323232,5.434343434343434,5.636363636363637,5.838383838383838,6.040404040404041,6.242424242424242,6.444444444444445,6.646464646464646,6.848484848484849,7.05050505050505,7.252525252525253,7.454545454545454,7.656565656565657,7.858585858585858,8.06060606060606,8.262626262626263,8.464646464646464,8.666666666666668,8.868686868686869,9.070707070707071,9.272727272727273,9.474747474747474,9.676767676767676,9.878787878787879,10.080808080808081,10.282828282828282,10.484848484848484,10.686868686868687,10.88888888888889,11.09090909090909,11.292929292929292,11.494949494949495,11.696969696969697,11.8989898989899,12.1010101010101,12.303030303030303,12.505050505050505,12.707070707070708,12.909090909090908,13.11111111111111,13.313131313131313,13.515151515151516,13.717171717171716,13.919191919191919,14.121212121212121,14.323232323232324,14.525252525252524,14.727272727272727,14.929292929292929,15.131313131313131,15.333333333333334,15.535353535353535,15.737373737373737,15.93939393939394,16.141414141414142,16.343434343434343,16.545454545454547,16.747474747474747,16.949494949494948,17.15151515151515,17.353535353535353,17.555555555555557,17.757575757575758,17.95959595959596,18.161616161616163,18.363636363636363,18.565656565656564,18.767676767676768,18.96969696969697,19.171717171717173,19.373737373737374,19.575757575757574,19.77777777777778,19.97979797979798,20.18181818181818,20.383838383838384,20.585858585858585,20.78787878787879,20.98989898989899,21.19191919191919,21.393939393939394,21.595959595959595,21.7979797979798,22.0],\"type\":\"scatter\"}],                        {\"template\":{\"data\":{\"histogram2dcontour\":[{\"type\":\"histogram2dcontour\",\"colorbar\":{\"outlinewidth\":0,\"ticks\":\"\"},\"colorscale\":[[0.0,\"#0d0887\"],[0.1111111111111111,\"#46039f\"],[0.2222222222222222,\"#7201a8\"],[0.3333333333333333,\"#9c179e\"],[0.4444444444444444,\"#bd3786\"],[0.5555555555555556,\"#d8576b\"],[0.6666666666666666,\"#ed7953\"],[0.7777777777777778,\"#fb9f3a\"],[0.8888888888888888,\"#fdca26\"],[1.0,\"#f0f921\"]]}],\"choropleth\":[{\"type\":\"choropleth\",\"colorbar\":{\"outlinewidth\":0,\"ticks\":\"\"}}],\"histogram2d\":[{\"type\":\"histogram2d\",\"colorbar\":{\"outlinewidth\":0,\"ticks\":\"\"},\"colorscale\":[[0.0,\"#0d0887\"],[0.1111111111111111,\"#46039f\"],[0.2222222222222222,\"#7201a8\"],[0.3333333333333333,\"#9c179e\"],[0.4444444444444444,\"#bd3786\"],[0.5555555555555556,\"#d8576b\"],[0.6666666666666666,\"#ed7953\"],[0.7777777777777778,\"#fb9f3a\"],[0.8888888888888888,\"#fdca26\"],[1.0,\"#f0f921\"]]}],\"heatmap\":[{\"type\":\"heatmap\",\"colorbar\":{\"outlinewidth\":0,\"ticks\":\"\"},\"colorscale\":[[0.0,\"#0d0887\"],[0.1111111111111111,\"#46039f\"],[0.2222222222222222,\"#7201a8\"],[0.3333333333333333,\"#9c179e\"],[0.4444444444444444,\"#bd3786\"],[0.5555555555555556,\"#d8576b\"],[0.6666666666666666,\"#ed7953\"],[0.7777777777777778,\"#fb9f3a\"],[0.8888888888888888,\"#fdca26\"],[1.0,\"#f0f921\"]]}],\"heatmapgl\":[{\"type\":\"heatmapgl\",\"colorbar\":{\"outlinewidth\":0,\"ticks\":\"\"},\"colorscale\":[[0.0,\"#0d0887\"],[0.1111111111111111,\"#46039f\"],[0.2222222222222222,\"#7201a8\"],[0.3333333333333333,\"#9c179e\"],[0.4444444444444444,\"#bd3786\"],[0.5555555555555556,\"#d8576b\"],[0.6666666666666666,\"#ed7953\"],[0.7777777777777778,\"#fb9f3a\"],[0.8888888888888888,\"#fdca26\"],[1.0,\"#f0f921\"]]}],\"contourcarpet\":[{\"type\":\"contourcarpet\",\"colorbar\":{\"outlinewidth\":0,\"ticks\":\"\"}}],\"contour\":[{\"type\":\"contour\",\"colorbar\":{\"outlinewidth\":0,\"ticks\":\"\"},\"colorscale\":[[0.0,\"#0d0887\"],[0.1111111111111111,\"#46039f\"],[0.2222222222222222,\"#7201a8\"],[0.3333333333333333,\"#9c179e\"],[0.4444444444444444,\"#bd3786\"],[0.5555555555555556,\"#d8576b\"],[0.6666666666666666,\"#ed7953\"],[0.7777777777777778,\"#fb9f3a\"],[0.8888888888888888,\"#fdca26\"],[1.0,\"#f0f921\"]]}],\"surface\":[{\"type\":\"surface\",\"colorbar\":{\"outlinewidth\":0,\"ticks\":\"\"},\"colorscale\":[[0.0,\"#0d0887\"],[0.1111111111111111,\"#46039f\"],[0.2222222222222222,\"#7201a8\"],[0.3333333333333333,\"#9c179e\"],[0.4444444444444444,\"#bd3786\"],[0.5555555555555556,\"#d8576b\"],[0.6666666666666666,\"#ed7953\"],[0.7777777777777778,\"#fb9f3a\"],[0.8888888888888888,\"#fdca26\"],[1.0,\"#f0f921\"]]}],\"mesh3d\":[{\"type\":\"mesh3d\",\"colorbar\":{\"outlinewidth\":0,\"ticks\":\"\"}}],\"scatter\":[{\"fillpattern\":{\"fillmode\":\"overlay\",\"size\":10,\"solidity\":0.2},\"type\":\"scatter\"}],\"parcoords\":[{\"type\":\"parcoords\",\"line\":{\"colorbar\":{\"outlinewidth\":0,\"ticks\":\"\"}}}],\"scatterpolargl\":[{\"type\":\"scatterpolargl\",\"marker\":{\"colorbar\":{\"outlinewidth\":0,\"ticks\":\"\"}}}],\"bar\":[{\"error_x\":{\"color\":\"#2a3f5f\"},\"error_y\":{\"color\":\"#2a3f5f\"},\"marker\":{\"line\":{\"color\":\"#E5ECF6\",\"width\":0.5},\"pattern\":{\"fillmode\":\"overlay\",\"size\":10,\"solidity\":0.2}},\"type\":\"bar\"}],\"scattergeo\":[{\"type\":\"scattergeo\",\"marker\":{\"colorbar\":{\"outlinewidth\":0,\"ticks\":\"\"}}}],\"scatterpolar\":[{\"type\":\"scatterpolar\",\"marker\":{\"colorbar\":{\"outlinewidth\":0,\"ticks\":\"\"}}}],\"histogram\":[{\"marker\":{\"pattern\":{\"fillmode\":\"overlay\",\"size\":10,\"solidity\":0.2}},\"type\":\"histogram\"}],\"scattergl\":[{\"type\":\"scattergl\",\"marker\":{\"colorbar\":{\"outlinewidth\":0,\"ticks\":\"\"}}}],\"scatter3d\":[{\"type\":\"scatter3d\",\"line\":{\"colorbar\":{\"outlinewidth\":0,\"ticks\":\"\"}},\"marker\":{\"colorbar\":{\"outlinewidth\":0,\"ticks\":\"\"}}}],\"scattermapbox\":[{\"type\":\"scattermapbox\",\"marker\":{\"colorbar\":{\"outlinewidth\":0,\"ticks\":\"\"}}}],\"scatterternary\":[{\"type\":\"scatterternary\",\"marker\":{\"colorbar\":{\"outlinewidth\":0,\"ticks\":\"\"}}}],\"scattercarpet\":[{\"type\":\"scattercarpet\",\"marker\":{\"colorbar\":{\"outlinewidth\":0,\"ticks\":\"\"}}}],\"carpet\":[{\"aaxis\":{\"endlinecolor\":\"#2a3f5f\",\"gridcolor\":\"white\",\"linecolor\":\"white\",\"minorgridcolor\":\"white\",\"startlinecolor\":\"#2a3f5f\"},\"baxis\":{\"endlinecolor\":\"#2a3f5f\",\"gridcolor\":\"white\",\"linecolor\":\"white\",\"minorgridcolor\":\"white\",\"startlinecolor\":\"#2a3f5f\"},\"type\":\"carpet\"}],\"table\":[{\"cells\":{\"fill\":{\"color\":\"#EBF0F8\"},\"line\":{\"color\":\"white\"}},\"header\":{\"fill\":{\"color\":\"#C8D4E3\"},\"line\":{\"color\":\"white\"}},\"type\":\"table\"}],\"barpolar\":[{\"marker\":{\"line\":{\"color\":\"#E5ECF6\",\"width\":0.5},\"pattern\":{\"fillmode\":\"overlay\",\"size\":10,\"solidity\":0.2}},\"type\":\"barpolar\"}],\"pie\":[{\"automargin\":true,\"type\":\"pie\"}]},\"layout\":{\"autotypenumbers\":\"strict\",\"colorway\":[\"#636efa\",\"#EF553B\",\"#00cc96\",\"#ab63fa\",\"#FFA15A\",\"#19d3f3\",\"#FF6692\",\"#B6E880\",\"#FF97FF\",\"#FECB52\"],\"font\":{\"color\":\"#2a3f5f\"},\"hovermode\":\"closest\",\"hoverlabel\":{\"align\":\"left\"},\"paper_bgcolor\":\"white\",\"plot_bgcolor\":\"#E5ECF6\",\"polar\":{\"bgcolor\":\"#E5ECF6\",\"angularaxis\":{\"gridcolor\":\"white\",\"linecolor\":\"white\",\"ticks\":\"\"},\"radialaxis\":{\"gridcolor\":\"white\",\"linecolor\":\"white\",\"ticks\":\"\"}},\"ternary\":{\"bgcolor\":\"#E5ECF6\",\"aaxis\":{\"gridcolor\":\"white\",\"linecolor\":\"white\",\"ticks\":\"\"},\"baxis\":{\"gridcolor\":\"white\",\"linecolor\":\"white\",\"ticks\":\"\"},\"caxis\":{\"gridcolor\":\"white\",\"linecolor\":\"white\",\"ticks\":\"\"}},\"coloraxis\":{\"colorbar\":{\"outlinewidth\":0,\"ticks\":\"\"}},\"colorscale\":{\"sequential\":[[0.0,\"#0d0887\"],[0.1111111111111111,\"#46039f\"],[0.2222222222222222,\"#7201a8\"],[0.3333333333333333,\"#9c179e\"],[0.4444444444444444,\"#bd3786\"],[0.5555555555555556,\"#d8576b\"],[0.6666666666666666,\"#ed7953\"],[0.7777777777777778,\"#fb9f3a\"],[0.8888888888888888,\"#fdca26\"],[1.0,\"#f0f921\"]],\"sequentialminus\":[[0.0,\"#0d0887\"],[0.1111111111111111,\"#46039f\"],[0.2222222222222222,\"#7201a8\"],[0.3333333333333333,\"#9c179e\"],[0.4444444444444444,\"#bd3786\"],[0.5555555555555556,\"#d8576b\"],[0.6666666666666666,\"#ed7953\"],[0.7777777777777778,\"#fb9f3a\"],[0.8888888888888888,\"#fdca26\"],[1.0,\"#f0f921\"]],\"diverging\":[[0,\"#8e0152\"],[0.1,\"#c51b7d\"],[0.2,\"#de77ae\"],[0.3,\"#f1b6da\"],[0.4,\"#fde0ef\"],[0.5,\"#f7f7f7\"],[0.6,\"#e6f5d0\"],[0.7,\"#b8e186\"],[0.8,\"#7fbc41\"],[0.9,\"#4d9221\"],[1,\"#276419\"]]},\"xaxis\":{\"gridcolor\":\"white\",\"linecolor\":\"white\",\"ticks\":\"\",\"title\":{\"standoff\":15},\"zerolinecolor\":\"white\",\"automargin\":true,\"zerolinewidth\":2},\"yaxis\":{\"gridcolor\":\"white\",\"linecolor\":\"white\",\"ticks\":\"\",\"title\":{\"standoff\":15},\"zerolinecolor\":\"white\",\"automargin\":true,\"zerolinewidth\":2},\"scene\":{\"xaxis\":{\"backgroundcolor\":\"#E5ECF6\",\"gridcolor\":\"white\",\"linecolor\":\"white\",\"showbackground\":true,\"ticks\":\"\",\"zerolinecolor\":\"white\",\"gridwidth\":2},\"yaxis\":{\"backgroundcolor\":\"#E5ECF6\",\"gridcolor\":\"white\",\"linecolor\":\"white\",\"showbackground\":true,\"ticks\":\"\",\"zerolinecolor\":\"white\",\"gridwidth\":2},\"zaxis\":{\"backgroundcolor\":\"#E5ECF6\",\"gridcolor\":\"white\",\"linecolor\":\"white\",\"showbackground\":true,\"ticks\":\"\",\"zerolinecolor\":\"white\",\"gridwidth\":2}},\"shapedefaults\":{\"line\":{\"color\":\"#2a3f5f\"}},\"annotationdefaults\":{\"arrowcolor\":\"#2a3f5f\",\"arrowhead\":0,\"arrowwidth\":1},\"geo\":{\"bgcolor\":\"white\",\"landcolor\":\"#E5ECF6\",\"subunitcolor\":\"white\",\"showland\":true,\"showlakes\":true,\"lakecolor\":\"white\"},\"title\":{\"x\":0.05},\"mapbox\":{\"style\":\"light\"}}},\"xaxis\":{\"anchor\":\"y\",\"domain\":[0.0,1.0],\"title\":{\"text\":\"X\"}},\"yaxis\":{\"anchor\":\"x\",\"domain\":[0.0,1.0],\"title\":{\"text\":\"Y\"}},\"legend\":{\"tracegroupgap\":0},\"title\":{\"text\":\"Fitted Linear Regression Model with OLS Trendline\"},\"showlegend\":true},                        {\"responsive\": true}                    ).then(function(){\n",
       "                            \n",
       "var gd = document.getElementById('4b4add6c-582c-4781-ac7b-55ac2432d729');\n",
       "var x = new MutationObserver(function (mutations, observer) {{\n",
       "        var display = window.getComputedStyle(gd).display;\n",
       "        if (!display || display === 'none') {{\n",
       "            console.log([gd, 'removed!']);\n",
       "            Plotly.purge(gd);\n",
       "            observer.disconnect();\n",
       "        }}\n",
       "}});\n",
       "\n",
       "// Listen for the removal of the full notebook cells\n",
       "var notebookContainer = gd.closest('#notebook-container');\n",
       "if (notebookContainer) {{\n",
       "    x.observe(notebookContainer, {childList: true});\n",
       "}}\n",
       "\n",
       "// Listen for the clearing of the current output cell\n",
       "var outputEl = gd.closest('.output');\n",
       "if (outputEl) {{\n",
       "    x.observe(outputEl, {childList: true});\n",
       "}}\n",
       "\n",
       "                        })                };                });            </script>        </div>"
      ]
     },
     "metadata": {},
     "output_type": "display_data"
    }
   ],
   "source": [
    "\n",
    "fig.add_trace(go.Scatter(x=x_line, y=y_line, mode='lines', name='True Line (y = 2 + 2x)', line=dict(color='red')))\n",
    "fig.show()"
   ]
  },
  {
   "cell_type": "markdown",
   "id": "4862c651-7508-4fcf-a988-3234087c374a",
   "metadata": {},
   "source": [
    "In question 1, we are displaying the true line (y = 2 + 2x) and adding random error values to that to generate points. \n",
    "\n",
    "In question 2, we are generating a line of best fit using OLS, fitting a linear line that **best minimizes the error values between the points and the line**. This is why the equation is slightly different (y = 2.21 + 1.954x), but should better model the data points we have. ``model.fittedvalues`` then outputs all the **y** values according to that line at all **x** values to display the trendline. "
   ]
  },
  {
   "cell_type": "markdown",
   "id": "e9f521b3-2603-47ed-89e4-ffeab7d2135b",
   "metadata": {},
   "source": [
    "#### 4: \n"
   ]
  },
  {
   "cell_type": "markdown",
   "id": "b368ef45-ab55-43ee-9d11-41566dca41fd",
   "metadata": {},
   "source": [
    "``model.params`` outputs the coefficients calculated by the **linear regression model**, which are ``intercept=2.215096``, ``slope=1.954023``. This is similar, but not identical to the original true line we set, where ``intercept=2``, ``slope=2``, as the new ones should fit the data better than the original true line (due to random error). \n",
    "\n",
    "In ``model.fittedvalues``, we use the coefficients and the best-fit line calculated by the linear regression model to output a set of new y values based on the original x values. \n",
    "\n",
    "For example, at $(2, y)$, $y = 2.215(2) + 1.95 = 6.38$. "
   ]
  },
  {
   "cell_type": "code",
   "execution_count": 26,
   "id": "2fac83b3-347c-4bc5-9d24-6f0b85114213",
   "metadata": {},
   "outputs": [
    {
     "data": {
      "text/plain": [
       "(0      9.533695\n",
       " 1     20.792269\n",
       " 2     16.518424\n",
       " 3     13.913019\n",
       " 4      5.263736\n",
       "         ...    \n",
       " 95    11.863974\n",
       " 96    12.429414\n",
       " 97    10.569345\n",
       " 98     2.711792\n",
       " 99     4.323319\n",
       " Length: 100, dtype: float64,\n",
       " array([ 9.57784945, 20.71527878, 16.73163961, 11.98560077,  4.90070092,\n",
       "         5.47700298,  4.63956629, 18.8052527 , 13.21380663, 15.65969451,\n",
       "         3.327092  , 21.72694815, 18.11909261,  6.76004965,  5.73357689,\n",
       "         6.63673519,  7.38279177, 12.16746649, 10.24679222,  6.36106786,\n",
       "        14.53317817,  5.05093249,  7.84800643,  9.09264973,  9.70602894,\n",
       "        17.28287391,  5.65076113, 11.4824115 , 13.68700567,  3.33305911,\n",
       "        16.03708294,  5.58506029,  3.55858225, 20.90326483, 19.39386945,\n",
       "        18.14143309,  8.15250559,  6.41668439, 15.49229957, 11.10459722,\n",
       "         4.40605293, 10.73486016,  3.83059324, 20.93834107,  7.96663158,\n",
       "        14.34105823,  9.63701583, 10.99950936, 13.52106268,  7.88754474,\n",
       "        20.40115623, 16.93635874, 20.8896302 , 19.39307135, 12.40733615,\n",
       "        20.50604768,  2.70754633,  6.39324968,  1.98512154, 10.05654102,\n",
       "         8.9902925 ,  7.10491912, 19.3882674 ,  7.90420222,  7.84615013,\n",
       "        14.16106442,  3.21100126, 18.22857347,  3.75089567, 22.5195616 ,\n",
       "        16.20794468,  4.65385702,  2.63238391, 18.60621324, 16.38763973,\n",
       "        16.92659157, 16.74538221,  3.71314673,  9.46238704,  3.60302977,\n",
       "        21.12784303, 14.93979546,  7.426657  ,  3.92772061,  7.24496476,\n",
       "         9.29075104, 17.75071915, 13.93046711, 20.70763098, 11.85707943,\n",
       "         5.21394508, 18.16168873, 16.97031286, 12.47180779, 16.52982917,\n",
       "        11.06010164, 12.37755488, 10.89197234,  2.78507333,  4.98501179]))"
      ]
     },
     "execution_count": 26,
     "metadata": {},
     "output_type": "execute_result"
    }
   ],
   "source": [
    "model.fittedvalues, y"
   ]
  },
  {
   "cell_type": "code",
   "execution_count": 27,
   "id": "0ebb0c59-5199-4400-85e6-b271cc7c6158",
   "metadata": {},
   "outputs": [
    {
     "data": {
      "text/plain": [
       "Intercept    2.215096\n",
       "x            1.954023\n",
       "dtype: float64"
      ]
     },
     "execution_count": 27,
     "metadata": {},
     "output_type": "execute_result"
    }
   ],
   "source": [
    "model.params"
   ]
  },
  {
   "cell_type": "markdown",
   "id": "3084da8c-490c-429b-85c9-dddbb5970629",
   "metadata": {},
   "source": [
    "#### 5: "
   ]
  },
  {
   "cell_type": "markdown",
   "id": "048e17c5-2c8f-49c7-b4f2-05d6e8b21309",
   "metadata": {},
   "source": [
    "The error term (or residual) for each datapoint represents the **vertical distance from the datapoint to the trendline**. This can be calculated through \n",
    "\n",
    "$$\\epsilon = y_i - (\\beta_0 + \\beta_1 x_i)$$\n",
    "\n",
    "OLS stands for ordinary least squares. This algorithm aims to minimize the value of the **sum of residuals squared** for all data points, using calculus to find the minimum value given $\\beta_0$ and $\\beta_1$. \n",
    "\n",
    "By squaring the residuals, this ensures that we **penalize larger errors** more than smaller ones (and also makes all negative residuals positive to prevent cancelling out). \n",
    "\n",
    "There can also be other types of objective functions that can be used to fit a linear regression model to a dataset. "
   ]
  },
  {
   "cell_type": "markdown",
   "id": "c8d3a11e-93a6-47d9-9955-ec86d1fc95cb",
   "metadata": {},
   "source": [
    "#### 6: "
   ]
  },
  {
   "cell_type": "code",
   "execution_count": 45,
   "id": "df1c88a0-7757-491a-8fec-4d2f517e8b73",
   "metadata": {},
   "outputs": [
    {
     "data": {
      "text/plain": [
       "0.9764567983510791"
      ]
     },
     "execution_count": 45,
     "metadata": {},
     "output_type": "execute_result"
    }
   ],
   "source": [
    "np.corrcoef(y, x)[0,1]**2"
   ]
  },
  {
   "cell_type": "code",
   "execution_count": 46,
   "id": "f60a77c8-f80d-4b24-85be-1b36aaf1db86",
   "metadata": {},
   "outputs": [
    {
     "data": {
      "text/plain": [
       "0.9764567983510791"
      ]
     },
     "execution_count": 46,
     "metadata": {},
     "output_type": "execute_result"
    }
   ],
   "source": [
    "np.corrcoef(y, model.fittedvalues)[0,1]**2"
   ]
  },
  {
   "cell_type": "code",
   "execution_count": 33,
   "id": "e48c6a6d-93a0-41ca-a746-056e21a256f9",
   "metadata": {},
   "outputs": [
    {
     "data": {
      "text/plain": [
       "0.9764567983510799"
      ]
     },
     "execution_count": 33,
     "metadata": {},
     "output_type": "execute_result"
    }
   ],
   "source": [
    "model.rsquared"
   ]
  },
  {
   "cell_type": "code",
   "execution_count": 50,
   "id": "ac93b730-8e78-4653-b7a7-c58909629838",
   "metadata": {},
   "outputs": [
    {
     "data": {
      "text/plain": [
       "0.9764567983510799"
      ]
     },
     "execution_count": 50,
     "metadata": {},
     "output_type": "execute_result"
    }
   ],
   "source": [
    "1-((y-model.fittedvalues)**2).sum()/((y-y.mean())**2).sum()"
   ]
  },
  {
   "cell_type": "markdown",
   "id": "ab831fdf-604e-410f-8340-f77fbb4732aa",
   "metadata": {},
   "source": [
    "``np.corrcoef()`` calculates the correlation coefficient between two sets of data, basically asking how linearly y increases when x increases, and is the same as $R^2$. \n",
    "\n",
    "R^2 = 1 - $\\frac{RSS}{TSS}$\n",
    "\n",
    "RSS = sum of squares of residual \n",
    "\n",
    "TSS = total sum of squares\n",
    "\n",
    "This is calculated by the equation in the cell above, where the numerator is the difference between the original y-values and the fitted y-value squared, and the denominator is the difference between the original y-values to the sample average. \n",
    "\n",
    "**The larger the difference, the larger the number we are subtracting from 1.** Thus, this can be interpreted as a measure of the accuracy of the model."
   ]
  },
  {
   "cell_type": "markdown",
   "id": "00a316fe-4ca8-4fa1-bd29-a26924590ecf",
   "metadata": {},
   "source": [
    "#### 7:  ???? wtf is he asking"
   ]
  },
  {
   "cell_type": "code",
   "execution_count": null,
   "id": "4a9b4a3c-96cf-4c69-b9c6-199d21c8052f",
   "metadata": {},
   "outputs": [],
   "source": []
  }
 ],
 "metadata": {
  "kernelspec": {
   "display_name": "Python 3 (ipykernel)",
   "language": "python",
   "name": "python3"
  },
  "language_info": {
   "codemirror_mode": {
    "name": "ipython",
    "version": 3
   },
   "file_extension": ".py",
   "mimetype": "text/x-python",
   "name": "python",
   "nbconvert_exporter": "python",
   "pygments_lexer": "ipython3",
   "version": "3.9.6"
  }
 },
 "nbformat": 4,
 "nbformat_minor": 5
}
